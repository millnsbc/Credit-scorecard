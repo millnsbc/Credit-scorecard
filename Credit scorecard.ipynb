{
 "cells": [
  {
   "cell_type": "code",
   "execution_count": 1,
   "metadata": {},
   "outputs": [
    {
     "name": "stderr",
     "output_type": "stream",
     "text": [
      "Warning message:\n",
      "\"package 'scorecard' was built under R version 3.6.3\"Warning message:\n",
      "\"package 'pROC' was built under R version 3.6.3\"Type 'citation(\"pROC\")' for a citation.\n",
      "\n",
      "Attaching package: 'pROC'\n",
      "\n",
      "The following objects are masked from 'package:stats':\n",
      "\n",
      "    cov, smooth, var\n",
      "\n",
      "Warning message:\n",
      "\"package 'dplyr' was built under R version 3.6.3\"\n",
      "Attaching package: 'dplyr'\n",
      "\n",
      "The following objects are masked from 'package:stats':\n",
      "\n",
      "    filter, lag\n",
      "\n",
      "The following objects are masked from 'package:base':\n",
      "\n",
      "    intersect, setdiff, setequal, union\n",
      "\n",
      "Warning message:\n",
      "\"package 'ROCR' was built under R version 3.6.3\"Warning message:\n",
      "\"package 'caTools' was built under R version 3.6.3\"Warning message:\n",
      "\"package 'Information' was built under R version 3.6.3\""
     ]
    }
   ],
   "source": [
    "#packages\n",
    "library(scorecard)\n",
    "library(pROC)\n",
    "library(dplyr)\n",
    "library(ROCR)\n",
    "library(caTools)\n",
    "library(Information)"
   ]
  },
  {
   "cell_type": "markdown",
   "metadata": {},
   "source": [
    "# Read data"
   ]
  },
  {
   "cell_type": "code",
   "execution_count": 2,
   "metadata": {},
   "outputs": [],
   "source": [
    "df <- read.csv('GermanCreditData.csv', header=TRUE)"
   ]
  },
  {
   "cell_type": "markdown",
   "metadata": {},
   "source": [
    "# EDA"
   ]
  },
  {
   "cell_type": "code",
   "execution_count": 3,
   "metadata": {},
   "outputs": [
    {
     "data": {
      "text/html": [
       "<table class=\"dataframe\">\n",
       "<caption>A data.frame: 6 × 22</caption>\n",
       "<thead>\n",
       "\t<tr><th></th><th scope=col>Checking</th><th scope=col>Duration</th><th scope=col>History</th><th scope=col>Purpose</th><th scope=col>Amount</th><th scope=col>Savings</th><th scope=col>Emploed</th><th scope=col>Installp</th><th scope=col>marital</th><th scope=col>Coapp</th><th scope=col>...</th><th scope=col>Age</th><th scope=col>Other</th><th scope=col>housing</th><th scope=col>Existcr</th><th scope=col>Job</th><th scope=col>Depends</th><th scope=col>Telephone</th><th scope=col>Foreign</th><th scope=col>Bad</th><th scope=col>Good</th></tr>\n",
       "\t<tr><th></th><th scope=col>&lt;int&gt;</th><th scope=col>&lt;int&gt;</th><th scope=col>&lt;int&gt;</th><th scope=col>&lt;fct&gt;</th><th scope=col>&lt;int&gt;</th><th scope=col>&lt;int&gt;</th><th scope=col>&lt;int&gt;</th><th scope=col>&lt;int&gt;</th><th scope=col>&lt;int&gt;</th><th scope=col>&lt;int&gt;</th><th scope=col>...</th><th scope=col>&lt;int&gt;</th><th scope=col>&lt;int&gt;</th><th scope=col>&lt;int&gt;</th><th scope=col>&lt;int&gt;</th><th scope=col>&lt;int&gt;</th><th scope=col>&lt;int&gt;</th><th scope=col>&lt;int&gt;</th><th scope=col>&lt;int&gt;</th><th scope=col>&lt;int&gt;</th><th scope=col>&lt;int&gt;</th></tr>\n",
       "</thead>\n",
       "<tbody>\n",
       "\t<tr><th scope=row>1</th><td>1</td><td> 6</td><td>4</td><td>3</td><td>1169</td><td>5</td><td>5</td><td>4</td><td>3</td><td>1</td><td>...</td><td>67</td><td>3</td><td>2</td><td>2</td><td>3</td><td>1</td><td>2</td><td>1</td><td>0</td><td>1</td></tr>\n",
       "\t<tr><th scope=row>2</th><td>2</td><td>48</td><td>2</td><td>3</td><td>5951</td><td>1</td><td>3</td><td>2</td><td>2</td><td>1</td><td>...</td><td>22</td><td>3</td><td>2</td><td>1</td><td>3</td><td>1</td><td>1</td><td>1</td><td>1</td><td>0</td></tr>\n",
       "\t<tr><th scope=row>3</th><td>4</td><td>12</td><td>4</td><td>6</td><td>2096</td><td>1</td><td>4</td><td>2</td><td>3</td><td>1</td><td>...</td><td>49</td><td>3</td><td>2</td><td>1</td><td>2</td><td>2</td><td>1</td><td>1</td><td>0</td><td>1</td></tr>\n",
       "\t<tr><th scope=row>4</th><td>1</td><td>42</td><td>2</td><td>2</td><td>7882</td><td>1</td><td>4</td><td>2</td><td>3</td><td>3</td><td>...</td><td>45</td><td>3</td><td>3</td><td>1</td><td>3</td><td>2</td><td>1</td><td>1</td><td>0</td><td>1</td></tr>\n",
       "\t<tr><th scope=row>5</th><td>1</td><td>24</td><td>3</td><td>0</td><td>4870</td><td>1</td><td>3</td><td>3</td><td>3</td><td>1</td><td>...</td><td>53</td><td>3</td><td>3</td><td>2</td><td>3</td><td>2</td><td>1</td><td>1</td><td>1</td><td>0</td></tr>\n",
       "\t<tr><th scope=row>6</th><td>4</td><td>36</td><td>2</td><td>6</td><td>9055</td><td>5</td><td>3</td><td>2</td><td>3</td><td>1</td><td>...</td><td>35</td><td>3</td><td>3</td><td>1</td><td>2</td><td>2</td><td>2</td><td>1</td><td>0</td><td>1</td></tr>\n",
       "</tbody>\n",
       "</table>\n"
      ],
      "text/latex": [
       "A data.frame: 6 × 22\n",
       "\\begin{tabular}{r|lllllllllllllllllllll}\n",
       "  & Checking & Duration & History & Purpose & Amount & Savings & Emploed & Installp & marital & Coapp & ... & Age & Other & housing & Existcr & Job & Depends & Telephone & Foreign & Bad & Good\\\\\n",
       "  & <int> & <int> & <int> & <fct> & <int> & <int> & <int> & <int> & <int> & <int> & ... & <int> & <int> & <int> & <int> & <int> & <int> & <int> & <int> & <int> & <int>\\\\\n",
       "\\hline\n",
       "\t1 & 1 &  6 & 4 & 3 & 1169 & 5 & 5 & 4 & 3 & 1 & ... & 67 & 3 & 2 & 2 & 3 & 1 & 2 & 1 & 0 & 1\\\\\n",
       "\t2 & 2 & 48 & 2 & 3 & 5951 & 1 & 3 & 2 & 2 & 1 & ... & 22 & 3 & 2 & 1 & 3 & 1 & 1 & 1 & 1 & 0\\\\\n",
       "\t3 & 4 & 12 & 4 & 6 & 2096 & 1 & 4 & 2 & 3 & 1 & ... & 49 & 3 & 2 & 1 & 2 & 2 & 1 & 1 & 0 & 1\\\\\n",
       "\t4 & 1 & 42 & 2 & 2 & 7882 & 1 & 4 & 2 & 3 & 3 & ... & 45 & 3 & 3 & 1 & 3 & 2 & 1 & 1 & 0 & 1\\\\\n",
       "\t5 & 1 & 24 & 3 & 0 & 4870 & 1 & 3 & 3 & 3 & 1 & ... & 53 & 3 & 3 & 2 & 3 & 2 & 1 & 1 & 1 & 0\\\\\n",
       "\t6 & 4 & 36 & 2 & 6 & 9055 & 5 & 3 & 2 & 3 & 1 & ... & 35 & 3 & 3 & 1 & 2 & 2 & 2 & 1 & 0 & 1\\\\\n",
       "\\end{tabular}\n"
      ],
      "text/markdown": [
       "\n",
       "A data.frame: 6 × 22\n",
       "\n",
       "| <!--/--> | Checking &lt;int&gt; | Duration &lt;int&gt; | History &lt;int&gt; | Purpose &lt;fct&gt; | Amount &lt;int&gt; | Savings &lt;int&gt; | Emploed &lt;int&gt; | Installp &lt;int&gt; | marital &lt;int&gt; | Coapp &lt;int&gt; | ... ... | Age &lt;int&gt; | Other &lt;int&gt; | housing &lt;int&gt; | Existcr &lt;int&gt; | Job &lt;int&gt; | Depends &lt;int&gt; | Telephone &lt;int&gt; | Foreign &lt;int&gt; | Bad &lt;int&gt; | Good &lt;int&gt; |\n",
       "|---|---|---|---|---|---|---|---|---|---|---|---|---|---|---|---|---|---|---|---|---|---|\n",
       "| 1 | 1 |  6 | 4 | 3 | 1169 | 5 | 5 | 4 | 3 | 1 | ... | 67 | 3 | 2 | 2 | 3 | 1 | 2 | 1 | 0 | 1 |\n",
       "| 2 | 2 | 48 | 2 | 3 | 5951 | 1 | 3 | 2 | 2 | 1 | ... | 22 | 3 | 2 | 1 | 3 | 1 | 1 | 1 | 1 | 0 |\n",
       "| 3 | 4 | 12 | 4 | 6 | 2096 | 1 | 4 | 2 | 3 | 1 | ... | 49 | 3 | 2 | 1 | 2 | 2 | 1 | 1 | 0 | 1 |\n",
       "| 4 | 1 | 42 | 2 | 2 | 7882 | 1 | 4 | 2 | 3 | 3 | ... | 45 | 3 | 3 | 1 | 3 | 2 | 1 | 1 | 0 | 1 |\n",
       "| 5 | 1 | 24 | 3 | 0 | 4870 | 1 | 3 | 3 | 3 | 1 | ... | 53 | 3 | 3 | 2 | 3 | 2 | 1 | 1 | 1 | 0 |\n",
       "| 6 | 4 | 36 | 2 | 6 | 9055 | 5 | 3 | 2 | 3 | 1 | ... | 35 | 3 | 3 | 1 | 2 | 2 | 2 | 1 | 0 | 1 |\n",
       "\n"
      ],
      "text/plain": [
       "  Checking Duration History Purpose Amount Savings Emploed Installp marital\n",
       "1 1         6       4       3       1169   5       5       4        3      \n",
       "2 2        48       2       3       5951   1       3       2        2      \n",
       "3 4        12       4       6       2096   1       4       2        3      \n",
       "4 1        42       2       2       7882   1       4       2        3      \n",
       "5 1        24       3       0       4870   1       3       3        3      \n",
       "6 4        36       2       6       9055   5       3       2        3      \n",
       "  Coapp ... Age Other housing Existcr Job Depends Telephone Foreign Bad Good\n",
       "1 1     ... 67  3     2       2       3   1       2         1       0   1   \n",
       "2 1     ... 22  3     2       1       3   1       1         1       1   0   \n",
       "3 1     ... 49  3     2       1       2   2       1         1       0   1   \n",
       "4 3     ... 45  3     3       1       3   2       1         1       0   1   \n",
       "5 1     ... 53  3     3       2       3   2       1         1       1   0   \n",
       "6 1     ... 35  3     3       1       2   2       2         1       0   1   "
      ]
     },
     "metadata": {},
     "output_type": "display_data"
    },
    {
     "data": {
      "text/html": [
       "<style>\n",
       ".dl-inline {width: auto; margin:0; padding: 0}\n",
       ".dl-inline>dt, .dl-inline>dd {float: none; width: auto; display: inline-block}\n",
       ".dl-inline>dt::after {content: \":\\0020\"; padding-right: .5ex}\n",
       ".dl-inline>dt:not(:first-of-type) {padding-left: .5ex}\n",
       "</style><dl class=dl-inline><dt>Checking</dt><dd>'integer'</dd><dt>Duration</dt><dd>'integer'</dd><dt>History</dt><dd>'integer'</dd><dt>Purpose</dt><dd>'factor'</dd><dt>Amount</dt><dd>'integer'</dd><dt>Savings</dt><dd>'integer'</dd><dt>Emploed</dt><dd>'integer'</dd><dt>Installp</dt><dd>'integer'</dd><dt>marital</dt><dd>'integer'</dd><dt>Coapp</dt><dd>'integer'</dd><dt>Resident</dt><dd>'integer'</dd><dt>Property</dt><dd>'integer'</dd><dt>Age</dt><dd>'integer'</dd><dt>Other</dt><dd>'integer'</dd><dt>housing</dt><dd>'integer'</dd><dt>Existcr</dt><dd>'integer'</dd><dt>Job</dt><dd>'integer'</dd><dt>Depends</dt><dd>'integer'</dd><dt>Telephone</dt><dd>'integer'</dd><dt>Foreign</dt><dd>'integer'</dd><dt>Bad</dt><dd>'integer'</dd><dt>Good</dt><dd>'integer'</dd></dl>\n"
      ],
      "text/latex": [
       "\\begin{description*}\n",
       "\\item[Checking] 'integer'\n",
       "\\item[Duration] 'integer'\n",
       "\\item[History] 'integer'\n",
       "\\item[Purpose] 'factor'\n",
       "\\item[Amount] 'integer'\n",
       "\\item[Savings] 'integer'\n",
       "\\item[Emploed] 'integer'\n",
       "\\item[Installp] 'integer'\n",
       "\\item[marital] 'integer'\n",
       "\\item[Coapp] 'integer'\n",
       "\\item[Resident] 'integer'\n",
       "\\item[Property] 'integer'\n",
       "\\item[Age] 'integer'\n",
       "\\item[Other] 'integer'\n",
       "\\item[housing] 'integer'\n",
       "\\item[Existcr] 'integer'\n",
       "\\item[Job] 'integer'\n",
       "\\item[Depends] 'integer'\n",
       "\\item[Telephone] 'integer'\n",
       "\\item[Foreign] 'integer'\n",
       "\\item[Bad] 'integer'\n",
       "\\item[Good] 'integer'\n",
       "\\end{description*}\n"
      ],
      "text/markdown": [
       "Checking\n",
       ":   'integer'Duration\n",
       ":   'integer'History\n",
       ":   'integer'Purpose\n",
       ":   'factor'Amount\n",
       ":   'integer'Savings\n",
       ":   'integer'Emploed\n",
       ":   'integer'Installp\n",
       ":   'integer'marital\n",
       ":   'integer'Coapp\n",
       ":   'integer'Resident\n",
       ":   'integer'Property\n",
       ":   'integer'Age\n",
       ":   'integer'Other\n",
       ":   'integer'housing\n",
       ":   'integer'Existcr\n",
       ":   'integer'Job\n",
       ":   'integer'Depends\n",
       ":   'integer'Telephone\n",
       ":   'integer'Foreign\n",
       ":   'integer'Bad\n",
       ":   'integer'Good\n",
       ":   'integer'\n",
       "\n"
      ],
      "text/plain": [
       " Checking  Duration   History   Purpose    Amount   Savings   Emploed  Installp \n",
       "\"integer\" \"integer\" \"integer\"  \"factor\" \"integer\" \"integer\" \"integer\" \"integer\" \n",
       "  marital     Coapp  Resident  Property       Age     Other   housing   Existcr \n",
       "\"integer\" \"integer\" \"integer\" \"integer\" \"integer\" \"integer\" \"integer\" \"integer\" \n",
       "      Job   Depends Telephone   Foreign       Bad      Good \n",
       "\"integer\" \"integer\" \"integer\" \"integer\" \"integer\" \"integer\" "
      ]
     },
     "metadata": {},
     "output_type": "display_data"
    },
    {
     "data": {
      "text/html": [
       "1000"
      ],
      "text/latex": [
       "1000"
      ],
      "text/markdown": [
       "1000"
      ],
      "text/plain": [
       "[1] 1000"
      ]
     },
     "metadata": {},
     "output_type": "display_data"
    },
    {
     "data": {
      "text/html": [
       "22"
      ],
      "text/latex": [
       "22"
      ],
      "text/markdown": [
       "22"
      ],
      "text/plain": [
       "[1] 22"
      ]
     },
     "metadata": {},
     "output_type": "display_data"
    },
    {
     "data": {
      "text/plain": [
       "    Checking        Duration       History         Purpose        Amount     \n",
       " Min.   :1.000   Min.   : 4.0   Min.   :0.000   3      :280   Min.   :  250  \n",
       " 1st Qu.:1.000   1st Qu.:12.0   1st Qu.:2.000   0      :234   1st Qu.: 1366  \n",
       " Median :2.000   Median :18.0   Median :2.000   2      :181   Median : 2320  \n",
       " Mean   :2.577   Mean   :20.9   Mean   :2.545   1      :103   Mean   : 3271  \n",
       " 3rd Qu.:4.000   3rd Qu.:24.0   3rd Qu.:4.000   9      : 97   3rd Qu.: 3972  \n",
       " Max.   :4.000   Max.   :72.0   Max.   :4.000   6      : 50   Max.   :18424  \n",
       "                                                (Other): 55                  \n",
       "    Savings         Emploed         Installp        marital     \n",
       " Min.   :1.000   Min.   :1.000   Min.   :1.000   Min.   :1.000  \n",
       " 1st Qu.:1.000   1st Qu.:3.000   1st Qu.:2.000   1st Qu.:2.000  \n",
       " Median :1.000   Median :3.000   Median :3.000   Median :3.000  \n",
       " Mean   :2.105   Mean   :3.384   Mean   :2.973   Mean   :2.682  \n",
       " 3rd Qu.:3.000   3rd Qu.:5.000   3rd Qu.:4.000   3rd Qu.:3.000  \n",
       " Max.   :5.000   Max.   :5.000   Max.   :4.000   Max.   :4.000  \n",
       "                                                                \n",
       "     Coapp          Resident        Property          Age       \n",
       " Min.   :1.000   Min.   :1.000   Min.   :1.000   Min.   :19.00  \n",
       " 1st Qu.:1.000   1st Qu.:2.000   1st Qu.:1.000   1st Qu.:27.00  \n",
       " Median :1.000   Median :3.000   Median :2.000   Median :33.00  \n",
       " Mean   :1.145   Mean   :2.845   Mean   :2.358   Mean   :35.55  \n",
       " 3rd Qu.:1.000   3rd Qu.:4.000   3rd Qu.:3.000   3rd Qu.:42.00  \n",
       " Max.   :3.000   Max.   :4.000   Max.   :4.000   Max.   :75.00  \n",
       "                                                                \n",
       "     Other          housing         Existcr           Job       \n",
       " Min.   :1.000   Min.   :1.000   Min.   :1.000   Min.   :1.000  \n",
       " 1st Qu.:3.000   1st Qu.:2.000   1st Qu.:1.000   1st Qu.:3.000  \n",
       " Median :3.000   Median :2.000   Median :1.000   Median :3.000  \n",
       " Mean   :2.675   Mean   :1.929   Mean   :1.407   Mean   :2.904  \n",
       " 3rd Qu.:3.000   3rd Qu.:2.000   3rd Qu.:2.000   3rd Qu.:3.000  \n",
       " Max.   :3.000   Max.   :3.000   Max.   :4.000   Max.   :4.000  \n",
       "                                                                \n",
       "    Depends        Telephone        Foreign           Bad           Good    \n",
       " Min.   :1.000   Min.   :1.000   Min.   :1.000   Min.   :0.0   Min.   :0.0  \n",
       " 1st Qu.:1.000   1st Qu.:1.000   1st Qu.:1.000   1st Qu.:0.0   1st Qu.:0.0  \n",
       " Median :1.000   Median :1.000   Median :1.000   Median :0.0   Median :1.0  \n",
       " Mean   :1.155   Mean   :1.404   Mean   :1.037   Mean   :0.3   Mean   :0.7  \n",
       " 3rd Qu.:1.000   3rd Qu.:2.000   3rd Qu.:1.000   3rd Qu.:1.0   3rd Qu.:1.0  \n",
       " Max.   :2.000   Max.   :2.000   Max.   :2.000   Max.   :1.0   Max.   :1.0  \n",
       "                                                                            "
      ]
     },
     "metadata": {},
     "output_type": "display_data"
    },
    {
     "name": "stdout",
     "output_type": "stream",
     "text": [
      "'data.frame':\t1000 obs. of  22 variables:\n",
      " $ Checking : int  1 2 4 1 1 4 4 2 4 2 ...\n",
      " $ Duration : int  6 48 12 42 24 36 24 36 12 30 ...\n",
      " $ History  : int  4 2 4 2 3 2 2 2 2 4 ...\n",
      " $ Purpose  : Factor w/ 10 levels \"0\",\"1\",\"2\",\"3\",..: 4 4 7 3 1 7 3 2 4 1 ...\n",
      " $ Amount   : int  1169 5951 2096 7882 4870 9055 2835 6948 3059 5234 ...\n",
      " $ Savings  : int  5 1 1 1 1 5 3 1 4 1 ...\n",
      " $ Emploed  : int  5 3 4 4 3 3 5 3 4 1 ...\n",
      " $ Installp : int  4 2 2 2 3 2 3 2 2 4 ...\n",
      " $ marital  : int  3 2 3 3 3 3 3 3 1 4 ...\n",
      " $ Coapp    : int  1 1 1 3 1 1 1 1 1 1 ...\n",
      " $ Resident : int  4 2 3 4 4 4 4 2 4 2 ...\n",
      " $ Property : int  1 1 1 2 4 4 2 3 1 3 ...\n",
      " $ Age      : int  67 22 49 45 53 35 53 35 61 28 ...\n",
      " $ Other    : int  3 3 3 3 3 3 3 3 3 3 ...\n",
      " $ housing  : int  2 2 2 3 3 3 2 1 2 2 ...\n",
      " $ Existcr  : int  2 1 1 1 2 1 1 1 1 2 ...\n",
      " $ Job      : int  3 3 2 3 3 2 3 4 2 4 ...\n",
      " $ Depends  : int  1 1 2 2 2 2 1 1 1 1 ...\n",
      " $ Telephone: int  2 1 1 1 1 2 1 2 1 1 ...\n",
      " $ Foreign  : int  1 1 1 1 1 1 1 1 1 1 ...\n",
      " $ Bad      : int  0 1 0 0 1 0 0 0 0 1 ...\n",
      " $ Good     : int  1 0 1 1 0 1 1 1 1 0 ...\n"
     ]
    }
   ],
   "source": [
    "head(df)\n",
    "sapply(df, class)\n",
    "nrow(df)\n",
    "ncol(df)\n",
    "summary(df)\n",
    "str(df)"
   ]
  },
  {
   "cell_type": "markdown",
   "metadata": {},
   "source": [
    "# Data cleaning"
   ]
  },
  {
   "cell_type": "markdown",
   "metadata": {},
   "source": [
    "##### missing data"
   ]
  },
  {
   "cell_type": "code",
   "execution_count": 4,
   "metadata": {},
   "outputs": [
    {
     "name": "stdout",
     "output_type": "stream",
     "text": [
      "[1] FALSE\n",
      "[1] 1\n",
      "[1] FALSE\n",
      "[1] 2\n",
      "[1] FALSE\n",
      "[1] 3\n",
      "[1] FALSE\n",
      "[1] 4\n",
      "[1] FALSE\n",
      "[1] 5\n",
      "[1] FALSE\n",
      "[1] 6\n",
      "[1] FALSE\n",
      "[1] 7\n",
      "[1] FALSE\n",
      "[1] 8\n",
      "[1] FALSE\n",
      "[1] 9\n",
      "[1] FALSE\n",
      "[1] 10\n",
      "[1] FALSE\n",
      "[1] 11\n",
      "[1] FALSE\n",
      "[1] 12\n",
      "[1] FALSE\n",
      "[1] 13\n",
      "[1] FALSE\n",
      "[1] 14\n",
      "[1] FALSE\n",
      "[1] 15\n",
      "[1] FALSE\n",
      "[1] 16\n",
      "[1] FALSE\n",
      "[1] 17\n",
      "[1] FALSE\n",
      "[1] 18\n",
      "[1] FALSE\n",
      "[1] 19\n",
      "[1] FALSE\n",
      "[1] 20\n",
      "[1] FALSE\n",
      "[1] 21\n",
      "[1] FALSE\n",
      "[1] 22\n"
     ]
    }
   ],
   "source": [
    "#check for any NA values\n",
    "for (i in 1:ncol(df)) {\n",
    "    print(anyNA(df[,i]))\n",
    "    print(i)\n",
    "    }"
   ]
  },
  {
   "cell_type": "markdown",
   "metadata": {},
   "source": [
    "no missing data"
   ]
  },
  {
   "cell_type": "markdown",
   "metadata": {},
   "source": [
    "##### duplicated rows"
   ]
  },
  {
   "cell_type": "code",
   "execution_count": 5,
   "metadata": {},
   "outputs": [
    {
     "name": "stderr",
     "output_type": "stream",
     "text": [
      "Warning message in cbind(parts$left, ellip_h, parts$right, deparse.level = 0L):\n",
      "\"number of rows of result is not a multiple of vector length (arg 2)\"Warning message in cbind(parts$left, ellip_h, parts$right, deparse.level = 0L):\n",
      "\"number of rows of result is not a multiple of vector length (arg 2)\"Warning message in cbind(parts$left, ellip_h, parts$right, deparse.level = 0L):\n",
      "\"number of rows of result is not a multiple of vector length (arg 2)\"Warning message in cbind(parts$left, ellip_h, parts$right, deparse.level = 0L):\n",
      "\"number of rows of result is not a multiple of vector length (arg 2)\""
     ]
    },
    {
     "data": {
      "text/html": [
       "<table class=\"dataframe\">\n",
       "<caption>A data.frame: 0 × 22</caption>\n",
       "<thead>\n",
       "\t<tr><th scope=col>Checking</th><th scope=col>Duration</th><th scope=col>History</th><th scope=col>Purpose</th><th scope=col>Amount</th><th scope=col>Savings</th><th scope=col>Emploed</th><th scope=col>Installp</th><th scope=col>marital</th><th scope=col>Coapp</th><th scope=col>...</th><th scope=col>Age</th><th scope=col>Other</th><th scope=col>housing</th><th scope=col>Existcr</th><th scope=col>Job</th><th scope=col>Depends</th><th scope=col>Telephone</th><th scope=col>Foreign</th><th scope=col>Bad</th><th scope=col>Good</th></tr>\n",
       "\t<tr><th scope=col>&lt;int&gt;</th><th scope=col>&lt;int&gt;</th><th scope=col>&lt;int&gt;</th><th scope=col>&lt;fct&gt;</th><th scope=col>&lt;int&gt;</th><th scope=col>&lt;int&gt;</th><th scope=col>&lt;int&gt;</th><th scope=col>&lt;int&gt;</th><th scope=col>&lt;int&gt;</th><th scope=col>&lt;int&gt;</th><th scope=col>...</th><th scope=col>&lt;int&gt;</th><th scope=col>&lt;int&gt;</th><th scope=col>&lt;int&gt;</th><th scope=col>&lt;int&gt;</th><th scope=col>&lt;int&gt;</th><th scope=col>&lt;int&gt;</th><th scope=col>&lt;int&gt;</th><th scope=col>&lt;int&gt;</th><th scope=col>&lt;int&gt;</th><th scope=col>&lt;int&gt;</th></tr>\n",
       "</thead>\n",
       "<tbody>\n",
       "</tbody>\n",
       "</table>\n"
      ],
      "text/latex": [
       "A data.frame: 0 × 22\n",
       "\\begin{tabular}{lllllllllllllllllllll}\n",
       " Checking & Duration & History & Purpose & Amount & Savings & Emploed & Installp & marital & Coapp & ... & Age & Other & housing & Existcr & Job & Depends & Telephone & Foreign & Bad & Good\\\\\n",
       " <int> & <int> & <int> & <fct> & <int> & <int> & <int> & <int> & <int> & <int> & ... & <int> & <int> & <int> & <int> & <int> & <int> & <int> & <int> & <int> & <int>\\\\\n",
       "\\hline\n",
       "\\end{tabular}\n"
      ],
      "text/markdown": [
       "\n",
       "A data.frame: 0 × 22\n",
       "\n",
       "| Checking &lt;int&gt; | Duration &lt;int&gt; | History &lt;int&gt; | Purpose &lt;fct&gt; | Amount &lt;int&gt; | Savings &lt;int&gt; | Emploed &lt;int&gt; | Installp &lt;int&gt; | marital &lt;int&gt; | Coapp &lt;int&gt; | ... ... | Age &lt;int&gt; | Other &lt;int&gt; | housing &lt;int&gt; | Existcr &lt;int&gt; | Job &lt;int&gt; | Depends &lt;int&gt; | Telephone &lt;int&gt; | Foreign &lt;int&gt; | Bad &lt;int&gt; | Good &lt;int&gt; |\n",
       "|---|---|---|---|---|---|---|---|---|---|---|---|---|---|---|---|---|---|---|---|---|\n",
       "\n"
      ],
      "text/plain": [
       "     Checking Duration History Purpose Amount Savings Emploed Installp marital\n",
       "     Coapp ... Age Other housing Existcr Job Depends Telephone Foreign Bad Good"
      ]
     },
     "metadata": {},
     "output_type": "display_data"
    }
   ],
   "source": [
    "df[duplicated(df),]"
   ]
  },
  {
   "cell_type": "markdown",
   "metadata": {},
   "source": [
    "no duplicated rows"
   ]
  },
  {
   "cell_type": "markdown",
   "metadata": {},
   "source": [
    "##### outliers"
   ]
  },
  {
   "cell_type": "code",
   "execution_count": 6,
   "metadata": {},
   "outputs": [
    {
     "data": {
      "image/png": "[encoded data removed]",
      "text/plain": [
       "Plot with title \"Histogram of df$Amount\""
      ]
     },
     "metadata": {},
     "output_type": "display_data"
    }
   ],
   "source": [
    "# check for outliers in amount column\n",
    "hist(df$Amount)\n",
    "abline(v = 7881, col=\"red\", lwd=3, lty=2)"
   ]
  },
  {
   "cell_type": "markdown",
   "metadata": {},
   "source": [
    "$Q3 + 1.5*{IGR}$"
   ]
  },
  {
   "cell_type": "code",
   "execution_count": 7,
   "metadata": {},
   "outputs": [
    {
     "data": {
      "text/plain": [
       "   Min. 1st Qu.  Median    Mean 3rd Qu.    Max. \n",
       "    250    1366    2320    3271    3972   18424 "
      ]
     },
     "metadata": {},
     "output_type": "display_data"
    }
   ],
   "source": [
    "summary(df$Amount)\n"
   ]
  },
  {
   "cell_type": "code",
   "execution_count": 8,
   "metadata": {},
   "outputs": [
    {
     "data": {
      "text/html": [
       "7881"
      ],
      "text/latex": [
       "7881"
      ],
      "text/markdown": [
       "7881"
      ],
      "text/plain": [
       "[1] 7881"
      ]
     },
     "metadata": {},
     "output_type": "display_data"
    }
   ],
   "source": [
    "3972 + 1.5*(3972-1366)"
   ]
  },
  {
   "cell_type": "markdown",
   "metadata": {},
   "source": [
    "Let's check how many rows are larger than 7881"
   ]
  },
  {
   "cell_type": "code",
   "execution_count": 9,
   "metadata": {},
   "outputs": [
    {
     "data": {
      "text/html": [
       "73"
      ],
      "text/latex": [
       "73"
      ],
      "text/markdown": [
       "73"
      ],
      "text/plain": [
       "[1] 73"
      ]
     },
     "metadata": {},
     "output_type": "display_data"
    }
   ],
   "source": [
    "nrow(df[df$Amount > 7881,])"
   ]
  },
  {
   "cell_type": "markdown",
   "metadata": {},
   "source": [
    "We will apply binning so the outliers do not have as big of an influence\n",
    "\n",
    "https://www.worldprogramming.com/blog/datascience/credit_scoring_pt3/"
   ]
  },
  {
   "cell_type": "markdown",
   "metadata": {},
   "source": [
    "###### delete bad column"
   ]
  },
  {
   "cell_type": "code",
   "execution_count": 10,
   "metadata": {},
   "outputs": [],
   "source": [
    "df <- df[-21]"
   ]
  },
  {
   "cell_type": "markdown",
   "metadata": {},
   "source": [
    "###### convert to categorical data "
   ]
  },
  {
   "cell_type": "code",
   "execution_count": 11,
   "metadata": {},
   "outputs": [],
   "source": [
    "df$Checking<- as.factor(df$Checking)\n",
    "df$History <- as.factor(df$History)\n",
    "df$Savings <- as.factor(df$Savings)\n",
    "df$Emploed <- as.factor(df$Emploed)\n",
    "df$Installp<- as.factor(df$Installp)\n",
    "df$marital <- as.factor(df$marital)\n",
    "df$Coapp <- as.factor(df$Coapp)\n",
    "df$Resident <- as.factor(df$Resident)\n",
    "df$Property <- as.factor(df$Property)\n",
    "df$Other <- as.factor(df$Other)\n",
    "df$housing <- as.factor(df$housing)\n",
    "df$Existcr<- as.factor(df$Existcr)\n",
    "df$Job <- as.factor(df$Job)\n",
    "df$Depends <- as.factor(df$Depends)\n",
    "df$Telephone <- as.factor(df$Telephone)\n",
    "df$Foreign <- as.factor(df$Foreign)"
   ]
  },
  {
   "cell_type": "code",
   "execution_count": 12,
   "metadata": {},
   "outputs": [
    {
     "data": {
      "text/html": [
       "<style>\n",
       ".dl-inline {width: auto; margin:0; padding: 0}\n",
       ".dl-inline>dt, .dl-inline>dd {float: none; width: auto; display: inline-block}\n",
       ".dl-inline>dt::after {content: \":\\0020\"; padding-right: .5ex}\n",
       ".dl-inline>dt:not(:first-of-type) {padding-left: .5ex}\n",
       "</style><dl class=dl-inline><dt>Checking</dt><dd>'factor'</dd><dt>Duration</dt><dd>'integer'</dd><dt>History</dt><dd>'factor'</dd><dt>Purpose</dt><dd>'factor'</dd><dt>Amount</dt><dd>'integer'</dd><dt>Savings</dt><dd>'factor'</dd><dt>Emploed</dt><dd>'factor'</dd><dt>Installp</dt><dd>'factor'</dd><dt>marital</dt><dd>'factor'</dd><dt>Coapp</dt><dd>'factor'</dd><dt>Resident</dt><dd>'factor'</dd><dt>Property</dt><dd>'factor'</dd><dt>Age</dt><dd>'integer'</dd><dt>Other</dt><dd>'factor'</dd><dt>housing</dt><dd>'factor'</dd><dt>Existcr</dt><dd>'factor'</dd><dt>Job</dt><dd>'factor'</dd><dt>Depends</dt><dd>'factor'</dd><dt>Telephone</dt><dd>'factor'</dd><dt>Foreign</dt><dd>'factor'</dd><dt>Good</dt><dd>'integer'</dd></dl>\n"
      ],
      "text/latex": [
       "\\begin{description*}\n",
       "\\item[Checking] 'factor'\n",
       "\\item[Duration] 'integer'\n",
       "\\item[History] 'factor'\n",
       "\\item[Purpose] 'factor'\n",
       "\\item[Amount] 'integer'\n",
       "\\item[Savings] 'factor'\n",
       "\\item[Emploed] 'factor'\n",
       "\\item[Installp] 'factor'\n",
       "\\item[marital] 'factor'\n",
       "\\item[Coapp] 'factor'\n",
       "\\item[Resident] 'factor'\n",
       "\\item[Property] 'factor'\n",
       "\\item[Age] 'integer'\n",
       "\\item[Other] 'factor'\n",
       "\\item[housing] 'factor'\n",
       "\\item[Existcr] 'factor'\n",
       "\\item[Job] 'factor'\n",
       "\\item[Depends] 'factor'\n",
       "\\item[Telephone] 'factor'\n",
       "\\item[Foreign] 'factor'\n",
       "\\item[Good] 'integer'\n",
       "\\end{description*}\n"
      ],
      "text/markdown": [
       "Checking\n",
       ":   'factor'Duration\n",
       ":   'integer'History\n",
       ":   'factor'Purpose\n",
       ":   'factor'Amount\n",
       ":   'integer'Savings\n",
       ":   'factor'Emploed\n",
       ":   'factor'Installp\n",
       ":   'factor'marital\n",
       ":   'factor'Coapp\n",
       ":   'factor'Resident\n",
       ":   'factor'Property\n",
       ":   'factor'Age\n",
       ":   'integer'Other\n",
       ":   'factor'housing\n",
       ":   'factor'Existcr\n",
       ":   'factor'Job\n",
       ":   'factor'Depends\n",
       ":   'factor'Telephone\n",
       ":   'factor'Foreign\n",
       ":   'factor'Good\n",
       ":   'integer'\n",
       "\n"
      ],
      "text/plain": [
       " Checking  Duration   History   Purpose    Amount   Savings   Emploed  Installp \n",
       " \"factor\" \"integer\"  \"factor\"  \"factor\" \"integer\"  \"factor\"  \"factor\"  \"factor\" \n",
       "  marital     Coapp  Resident  Property       Age     Other   housing   Existcr \n",
       " \"factor\"  \"factor\"  \"factor\"  \"factor\" \"integer\"  \"factor\"  \"factor\"  \"factor\" \n",
       "      Job   Depends Telephone   Foreign      Good \n",
       " \"factor\"  \"factor\"  \"factor\"  \"factor\" \"integer\" "
      ]
     },
     "metadata": {},
     "output_type": "display_data"
    }
   ],
   "source": [
    "sapply(df, class)"
   ]
  },
  {
   "cell_type": "markdown",
   "metadata": {},
   "source": [
    "# data split into subset 1 and 2\n",
    "\n",
    "Subset 1: Checking = 1 or 2\n",
    "\n",
    "Subset 2: Checking = 3 or 4"
   ]
  },
  {
   "cell_type": "code",
   "execution_count": 13,
   "metadata": {},
   "outputs": [
    {
     "name": "stdout",
     "output_type": "stream",
     "text": [
      "[1] \"Num of rows in subset 1\"\n"
     ]
    },
    {
     "data": {
      "text/html": [
       "543"
      ],
      "text/latex": [
       "543"
      ],
      "text/markdown": [
       "543"
      ],
      "text/plain": [
       "[1] 543"
      ]
     },
     "metadata": {},
     "output_type": "display_data"
    },
    {
     "name": "stdout",
     "output_type": "stream",
     "text": [
      "[1] \"Num of rows in subset 2\"\n"
     ]
    },
    {
     "data": {
      "text/html": [
       "457"
      ],
      "text/latex": [
       "457"
      ],
      "text/markdown": [
       "457"
      ],
      "text/plain": [
       "[1] 457"
      ]
     },
     "metadata": {},
     "output_type": "display_data"
    }
   ],
   "source": [
    "print('Num of rows in subset 1')\n",
    "nrow(df[df$Checking == 1 | df$Checking == 2,])\n",
    "print('Num of rows in subset 2')\n",
    "nrow(df[df$Checking == 3 | df$Checking == 4,])"
   ]
  },
  {
   "cell_type": "code",
   "execution_count": 14,
   "metadata": {},
   "outputs": [],
   "source": [
    "# checking equal to 1 or 2\n",
    "df12 <- df[df$Checking == 1 | df$Checking == 2,]\n",
    "\n",
    "# checking equal to 3 or 4\n",
    "df34 <- df[df$Checking == 3 | df$Checking == 4,]"
   ]
  },
  {
   "cell_type": "code",
   "execution_count": 15,
   "metadata": {},
   "outputs": [
    {
     "data": {
      "text/html": [
       "<style>\n",
       ".list-inline {list-style: none; margin:0; padding: 0}\n",
       ".list-inline>li {display: inline-block}\n",
       ".list-inline>li:not(:last-child)::after {content: \"\\00b7\"; padding: 0 .5ex}\n",
       "</style>\n",
       "<ol class=list-inline><li>1</li><li>2</li></ol>\n",
       "\n",
       "<details>\n",
       "\t<summary style=display:list-item;cursor:pointer>\n",
       "\t\t<strong>Levels</strong>:\n",
       "\t</summary>\n",
       "\t<style>\n",
       "\t.list-inline {list-style: none; margin:0; padding: 0}\n",
       "\t.list-inline>li {display: inline-block}\n",
       "\t.list-inline>li:not(:last-child)::after {content: \"\\00b7\"; padding: 0 .5ex}\n",
       "\t</style>\n",
       "\t<ol class=list-inline><li>'1'</li><li>'2'</li><li>'3'</li><li>'4'</li></ol>\n",
       "</details>"
      ],
      "text/latex": [
       "\\begin{enumerate*}\n",
       "\\item 1\n",
       "\\item 2\n",
       "\\end{enumerate*}\n",
       "\n",
       "\\emph{Levels}: \\begin{enumerate*}\n",
       "\\item '1'\n",
       "\\item '2'\n",
       "\\item '3'\n",
       "\\item '4'\n",
       "\\end{enumerate*}\n"
      ],
      "text/markdown": [
       "1. 1\n",
       "2. 2\n",
       "\n",
       "\n",
       "\n",
       "**Levels**: 1. '1'\n",
       "2. '2'\n",
       "3. '3'\n",
       "4. '4'\n",
       "\n",
       "\n"
      ],
      "text/plain": [
       "[1] 1 2\n",
       "Levels: 1 2 3 4"
      ]
     },
     "metadata": {},
     "output_type": "display_data"
    },
    {
     "data": {
      "text/html": [
       "<style>\n",
       ".list-inline {list-style: none; margin:0; padding: 0}\n",
       ".list-inline>li {display: inline-block}\n",
       ".list-inline>li:not(:last-child)::after {content: \"\\00b7\"; padding: 0 .5ex}\n",
       "</style>\n",
       "<ol class=list-inline><li>4</li><li>3</li></ol>\n",
       "\n",
       "<details>\n",
       "\t<summary style=display:list-item;cursor:pointer>\n",
       "\t\t<strong>Levels</strong>:\n",
       "\t</summary>\n",
       "\t<style>\n",
       "\t.list-inline {list-style: none; margin:0; padding: 0}\n",
       "\t.list-inline>li {display: inline-block}\n",
       "\t.list-inline>li:not(:last-child)::after {content: \"\\00b7\"; padding: 0 .5ex}\n",
       "\t</style>\n",
       "\t<ol class=list-inline><li>'1'</li><li>'2'</li><li>'3'</li><li>'4'</li></ol>\n",
       "</details>"
      ],
      "text/latex": [
       "\\begin{enumerate*}\n",
       "\\item 4\n",
       "\\item 3\n",
       "\\end{enumerate*}\n",
       "\n",
       "\\emph{Levels}: \\begin{enumerate*}\n",
       "\\item '1'\n",
       "\\item '2'\n",
       "\\item '3'\n",
       "\\item '4'\n",
       "\\end{enumerate*}\n"
      ],
      "text/markdown": [
       "1. 4\n",
       "2. 3\n",
       "\n",
       "\n",
       "\n",
       "**Levels**: 1. '1'\n",
       "2. '2'\n",
       "3. '3'\n",
       "4. '4'\n",
       "\n",
       "\n"
      ],
      "text/plain": [
       "[1] 4 3\n",
       "Levels: 1 2 3 4"
      ]
     },
     "metadata": {},
     "output_type": "display_data"
    }
   ],
   "source": [
    "# check you have the correct values in each subset\n",
    "unique(df12$Checking)\n",
    "\n",
    "unique(df34$Checking)"
   ]
  },
  {
   "cell_type": "markdown",
   "metadata": {},
   "source": [
    "The data has been subsetted correctly "
   ]
  },
  {
   "cell_type": "markdown",
   "metadata": {},
   "source": [
    "# train test split\n",
    "\n",
    "The data was first split into training and test data. This was the first step as it will prevent\n",
    "data leakage. The training data is used to train the model, the test set is used to test all the models, and finally evaluate the performance of the model and the extent of under/over fitting. \n",
    "\n",
    "Not using validation set as we do not have a lot of data. If we did have more data I would use K-fold validation technique to evaluate the model.\n",
    "\n",
    "Using a random selection of a 70/30 split, using the caTools package. Random selection to remove selection bias."
   ]
  },
  {
   "cell_type": "code",
   "execution_count": 16,
   "metadata": {},
   "outputs": [],
   "source": [
    "#set seed to get the same numbers\n",
    "set.seed(23)\n",
    "\n",
    "#split the data\n",
    "data12 <- sample.split(df12,SplitRatio = 0.7)\n",
    "#train data\n",
    "train12 <- subset(df12,data12==TRUE)\n",
    "#subsetting into Test data\n",
    "test12 <- subset(df12,data12==FALSE)\n",
    "\n",
    "#split the data\n",
    "data34 <- sample.split(df34,SplitRatio = 0.7)\n",
    "#train data\n",
    "train34 <- subset(df34,data34==TRUE)\n",
    "#subsetting into Test data\n",
    "test34 <- subset(df34,data34==FALSE)"
   ]
  },
  {
   "cell_type": "code",
   "execution_count": 17,
   "metadata": {},
   "outputs": [
    {
     "data": {
      "text/plain": [
       "\n",
       "  0   1 \n",
       "162 200 "
      ]
     },
     "metadata": {},
     "output_type": "display_data"
    },
    {
     "data": {
      "text/plain": [
       "\n",
       "  0   1 \n",
       " 78 103 "
      ]
     },
     "metadata": {},
     "output_type": "display_data"
    },
    {
     "data": {
      "text/plain": [
       "\n",
       "  0   1 \n",
       " 37 269 "
      ]
     },
     "metadata": {},
     "output_type": "display_data"
    },
    {
     "data": {
      "text/plain": [
       "\n",
       "  0   1 \n",
       " 23 128 "
      ]
     },
     "metadata": {},
     "output_type": "display_data"
    }
   ],
   "source": [
    "table(train12$Good)\n",
    "table(test12$Good)\n",
    "table(train34$Good)\n",
    "table(test34$Good)"
   ]
  },
  {
   "cell_type": "markdown",
   "metadata": {},
   "source": [
    "train12 split 162:200  (bad/good)\n",
    "\n",
    "test12 split 78:103\n",
    "\n",
    "train34 split 37:269\n",
    "\n",
    "test34 split 23:128\n",
    "\n",
    "There is too few 'bad' oberservations\n",
    "\n",
    "If I had more time I would use oversampling via SMOTE to fix the imbalance, in subset 2."
   ]
  },
  {
   "cell_type": "markdown",
   "metadata": {},
   "source": [
    "# Information value (variable selection)\n",
    "\n",
    "Information value is one of the most useful technique to select important variables in a predictive model. It helps to rank variables on the basis of their importance. \n",
    "\n",
    "https://multithreaded.stitchfix.com/blog/2015/08/13/weight-of-evidence/\n",
    "\n",
    "https://www.listendata.com/2015/03/weight-of-evidence-woe-and-information.html\n",
    "\n",
    "Rules related to Information Value\n",
    "\n",
    "Less than 0.02\tNot useful for prediction\n",
    "\n",
    "0.02 to 0.1\tWeak predictive Power\n",
    "\n",
    "0.1 to 0.3\tMedium predictive Power\n",
    "\n",
    "0.3 to 0.5\tStrong predictive Power\n",
    "\n",
    ".>0.5\tSuspicious Predictive Power"
   ]
  },
  {
   "cell_type": "code",
   "execution_count": 18,
   "metadata": {},
   "outputs": [
    {
     "name": "stdout",
     "output_type": "stream",
     "text": [
      " Variable        IV\n",
      " Duration 0.3869891\n",
      " Property 0.2413046\n",
      "  Savings 0.1823266\n",
      "  History 0.1552563\n",
      "   Amount 0.1399480\n",
      "  Purpose 0.1301018\n"
     ]
    }
   ],
   "source": [
    "# for subset 1\n",
    "IV12 <- Information::create_infotables(data=train12, y='Good',parallel=FALSE)\n",
    "print(head(IV12$Summary), row.names=FALSE)"
   ]
  },
  {
   "cell_type": "markdown",
   "metadata": {},
   "source": [
    "The variables being used to contruct a scorecard with subset 1 is: `Duration`,`History`,`Property` and `Savings`\n",
    "\n",
    "This satisfies Q3:\n",
    "\n",
    "At least one continuous variable before binning: `Duration`\n",
    "\n",
    "At least one categorical variable, with more than 2 categories: `History`,`Property` and `Savings`"
   ]
  },
  {
   "cell_type": "code",
   "execution_count": 19,
   "metadata": {},
   "outputs": [
    {
     "name": "stdout",
     "output_type": "stream",
     "text": [
      " Variable        IV\n",
      "      Age 0.3438636\n",
      "  History 0.3094196\n",
      "   Amount 0.2846577\n",
      " Duration 0.2749467\n",
      "  Purpose 0.2634082\n",
      "  Emploed 0.2398153\n"
     ]
    }
   ],
   "source": [
    "#for subset 2\n",
    "IV34 <- Information::create_infotables(data=train34, y='Good',parallel=FALSE)\n",
    "print(head(IV34$Summary), row.names=FALSE)"
   ]
  },
  {
   "cell_type": "markdown",
   "metadata": {},
   "source": [
    "The variables being used to constuct a scorecard with subset 2 is: `History`,`Age`, `Duration` and `Amount`\n",
    "\n",
    "This satisfies Q3:\n",
    "\n",
    "At least one continuous variable before binning: `Duration`, `Amount` and `Age`\n",
    "\n",
    "At least one categorical variable, with more than 2 categories: `History`"
   ]
  },
  {
   "cell_type": "code",
   "execution_count": 20,
   "metadata": {},
   "outputs": [],
   "source": [
    "# subset the training and test sets with just the chosen variables\n",
    "train12 <- train12[,c(IV12$Summary[1:4,1], 'Good')]\n",
    "test12 <- test12[,c(IV12$Summary[1:4,1], 'Good')]\n",
    "\n",
    "train34 <- train34[,c(IV34$Summary[1:4,1], 'Good')]\n",
    "test34 <- test34[,c(IV34$Summary[1:4,1], 'Good')]"
   ]
  },
  {
   "cell_type": "markdown",
   "metadata": {},
   "source": [
    "# Binning\n",
    "\n",
    "Bin the train data"
   ]
  },
  {
   "cell_type": "code",
   "execution_count": 21,
   "metadata": {},
   "outputs": [
    {
     "name": "stdout",
     "output_type": "stream",
     "text": [
      "[INFO] creating woe binning ... \n",
      "[INFO] creating woe binning ... \n"
     ]
    }
   ],
   "source": [
    "train_bins12 <- woebin(train12, y='Good',method='tree')\n",
    "\n",
    "train_bins34 <- woebin(train34, y='Good',method='tree')"
   ]
  },
  {
   "cell_type": "markdown",
   "metadata": {},
   "source": [
    "Lets visualise the training bin for checking equal to 1 or 2 and the `Duration` column"
   ]
  },
  {
   "cell_type": "code",
   "execution_count": 22,
   "metadata": {},
   "outputs": [
    {
     "data": {
      "text/html": [
       "<dl>\n",
       "\t<dt>$Duration</dt>\n",
       "\t\t<dd><table class=\"dataframe\">\n",
       "<caption>A data.table: 5 × 12</caption>\n",
       "<thead>\n",
       "\t<tr><th scope=col>variable</th><th scope=col>bin</th><th scope=col>count</th><th scope=col>count_distr</th><th scope=col>neg</th><th scope=col>pos</th><th scope=col>posprob</th><th scope=col>woe</th><th scope=col>bin_iv</th><th scope=col>total_iv</th><th scope=col>breaks</th><th scope=col>is_special_values</th></tr>\n",
       "\t<tr><th scope=col>&lt;chr&gt;</th><th scope=col>&lt;chr&gt;</th><th scope=col>&lt;int&gt;</th><th scope=col>&lt;dbl&gt;</th><th scope=col>&lt;int&gt;</th><th scope=col>&lt;int&gt;</th><th scope=col>&lt;dbl&gt;</th><th scope=col>&lt;dbl&gt;</th><th scope=col>&lt;dbl&gt;</th><th scope=col>&lt;dbl&gt;</th><th scope=col>&lt;chr&gt;</th><th scope=col>&lt;lgl&gt;</th></tr>\n",
       "</thead>\n",
       "<tbody>\n",
       "\t<tr><td>Duration</td><td>[-Inf,12)</td><td> 59</td><td>0.16298343</td><td>13</td><td>46</td><td>0.7796610</td><td> 1.0529710</td><td>0.157685658</td><td>0.3894076</td><td>12 </td><td>FALSE</td></tr>\n",
       "\t<tr><td>Duration</td><td>[12,22)  </td><td>141</td><td>0.38950276</td><td>54</td><td>87</td><td>0.6170213</td><td> 0.2662030</td><td>0.027063976</td><td>0.3894076</td><td>22 </td><td>FALSE</td></tr>\n",
       "\t<tr><td>Duration</td><td>[22,26)  </td><td> 62</td><td>0.17127072</td><td>34</td><td>28</td><td>0.4516129</td><td>-0.4048770</td><td>0.028291408</td><td>0.3894076</td><td>26 </td><td>FALSE</td></tr>\n",
       "\t<tr><td>Duration</td><td>[26,32)  </td><td> 24</td><td>0.06629834</td><td>10</td><td>14</td><td>0.5833333</td><td> 0.1257512</td><td>0.001040164</td><td>0.3894076</td><td>32 </td><td>FALSE</td></tr>\n",
       "\t<tr><td>Duration</td><td>[32, Inf)</td><td> 76</td><td>0.20994475</td><td>51</td><td>25</td><td>0.3289474</td><td>-0.9236708</td><td>0.175326409</td><td>0.3894076</td><td>Inf</td><td>FALSE</td></tr>\n",
       "</tbody>\n",
       "</table>\n",
       "</dd>\n",
       "\t<dt>$Property</dt>\n",
       "\t\t<dd><table class=\"dataframe\">\n",
       "<caption>A data.table: 4 × 12</caption>\n",
       "<thead>\n",
       "\t<tr><th scope=col>variable</th><th scope=col>bin</th><th scope=col>count</th><th scope=col>count_distr</th><th scope=col>neg</th><th scope=col>pos</th><th scope=col>posprob</th><th scope=col>woe</th><th scope=col>bin_iv</th><th scope=col>total_iv</th><th scope=col>breaks</th><th scope=col>is_special_values</th></tr>\n",
       "\t<tr><th scope=col>&lt;chr&gt;</th><th scope=col>&lt;chr&gt;</th><th scope=col>&lt;int&gt;</th><th scope=col>&lt;dbl&gt;</th><th scope=col>&lt;int&gt;</th><th scope=col>&lt;int&gt;</th><th scope=col>&lt;dbl&gt;</th><th scope=col>&lt;dbl&gt;</th><th scope=col>&lt;dbl&gt;</th><th scope=col>&lt;dbl&gt;</th><th scope=col>&lt;chr&gt;</th><th scope=col>&lt;lgl&gt;</th></tr>\n",
       "</thead>\n",
       "<tbody>\n",
       "\t<tr><td>Property</td><td>1</td><td> 98</td><td>0.2707182</td><td>26</td><td>72</td><td>0.7346939</td><td> 0.8078485</td><td>0.161170772</td><td>0.2413046</td><td>1</td><td>FALSE</td></tr>\n",
       "\t<tr><td>Property</td><td>2</td><td> 81</td><td>0.2237569</td><td>39</td><td>42</td><td>0.5185185</td><td>-0.1366131</td><td>0.004199587</td><td>0.2413046</td><td>2</td><td>FALSE</td></tr>\n",
       "\t<tr><td>Property</td><td>3</td><td>112</td><td>0.3093923</td><td>55</td><td>57</td><td>0.5089286</td><td>-0.1750029</td><td>0.009538741</td><td>0.2413046</td><td>3</td><td>FALSE</td></tr>\n",
       "\t<tr><td>Property</td><td>4</td><td> 71</td><td>0.1961326</td><td>42</td><td>29</td><td>0.4084507</td><td>-0.5810948</td><td>0.066395464</td><td>0.2413046</td><td>4</td><td>FALSE</td></tr>\n",
       "</tbody>\n",
       "</table>\n",
       "</dd>\n",
       "\t<dt>$Savings</dt>\n",
       "\t\t<dd><table class=\"dataframe\">\n",
       "<caption>A data.table: 3 × 12</caption>\n",
       "<thead>\n",
       "\t<tr><th scope=col>variable</th><th scope=col>bin</th><th scope=col>count</th><th scope=col>count_distr</th><th scope=col>neg</th><th scope=col>pos</th><th scope=col>posprob</th><th scope=col>woe</th><th scope=col>bin_iv</th><th scope=col>total_iv</th><th scope=col>breaks</th><th scope=col>is_special_values</th></tr>\n",
       "\t<tr><th scope=col>&lt;chr&gt;</th><th scope=col>&lt;chr&gt;</th><th scope=col>&lt;int&gt;</th><th scope=col>&lt;dbl&gt;</th><th scope=col>&lt;int&gt;</th><th scope=col>&lt;int&gt;</th><th scope=col>&lt;dbl&gt;</th><th scope=col>&lt;dbl&gt;</th><th scope=col>&lt;dbl&gt;</th><th scope=col>&lt;dbl&gt;</th><th scope=col>&lt;chr&gt;</th><th scope=col>&lt;lgl&gt;</th></tr>\n",
       "</thead>\n",
       "<tbody>\n",
       "\t<tr><td>Savings</td><td>1%,%2</td><td>285</td><td>0.7872928</td><td>142</td><td>143</td><td>0.5017544</td><td>-0.2037035</td><td>0.03290691</td><td>0.18178</td><td>1%,%2</td><td>FALSE</td></tr>\n",
       "\t<tr><td>Savings</td><td>3%,%4</td><td> 26</td><td>0.0718232</td><td>  5</td><td> 21</td><td>0.8076923</td><td> 1.2243635</td><td>0.09076917</td><td>0.18178</td><td>3%,%4</td><td>FALSE</td></tr>\n",
       "\t<tr><td>Savings</td><td>5    </td><td> 51</td><td>0.1408840</td><td> 15</td><td> 36</td><td>0.7058824</td><td> 0.6647477</td><td>0.05810387</td><td>0.18178</td><td>5    </td><td>FALSE</td></tr>\n",
       "</tbody>\n",
       "</table>\n",
       "</dd>\n",
       "\t<dt>$History</dt>\n",
       "\t\t<dd><table class=\"dataframe\">\n",
       "<caption>A data.table: 4 × 12</caption>\n",
       "<thead>\n",
       "\t<tr><th scope=col>variable</th><th scope=col>bin</th><th scope=col>count</th><th scope=col>count_distr</th><th scope=col>neg</th><th scope=col>pos</th><th scope=col>posprob</th><th scope=col>woe</th><th scope=col>bin_iv</th><th scope=col>total_iv</th><th scope=col>breaks</th><th scope=col>is_special_values</th></tr>\n",
       "\t<tr><th scope=col>&lt;chr&gt;</th><th scope=col>&lt;chr&gt;</th><th scope=col>&lt;int&gt;</th><th scope=col>&lt;dbl&gt;</th><th scope=col>&lt;int&gt;</th><th scope=col>&lt;int&gt;</th><th scope=col>&lt;dbl&gt;</th><th scope=col>&lt;dbl&gt;</th><th scope=col>&lt;dbl&gt;</th><th scope=col>&lt;dbl&gt;</th><th scope=col>&lt;chr&gt;</th><th scope=col>&lt;lgl&gt;</th></tr>\n",
       "</thead>\n",
       "<tbody>\n",
       "\t<tr><td>History</td><td>0%,%1</td><td> 43</td><td>0.11878453</td><td>28</td><td> 15</td><td>0.3488372</td><td>-0.834875340</td><td>8.168379e-02</td><td>0.1533457</td><td>0%,%1</td><td>FALSE</td></tr>\n",
       "\t<tr><td>History</td><td>2    </td><td>212</td><td>0.58563536</td><td>95</td><td>117</td><td>0.5518868</td><td>-0.002423988</td><td>3.441465e-06</td><td>0.1533457</td><td>2    </td><td>FALSE</td></tr>\n",
       "\t<tr><td>History</td><td>3    </td><td> 30</td><td>0.08287293</td><td>15</td><td> 15</td><td>0.5000000</td><td>-0.210721031</td><td>3.707129e-03</td><td>0.1533457</td><td>3    </td><td>FALSE</td></tr>\n",
       "\t<tr><td>History</td><td>4    </td><td> 77</td><td>0.21270718</td><td>24</td><td> 53</td><td>0.6883117</td><td> 0.581517052</td><td>6.795134e-02</td><td>0.1533457</td><td>4    </td><td>FALSE</td></tr>\n",
       "</tbody>\n",
       "</table>\n",
       "</dd>\n",
       "</dl>\n"
      ],
      "text/latex": [
       "\\begin{description}\n",
       "\\item[\\$Duration] A data.table: 5 × 12\n",
       "\\begin{tabular}{llllllllllll}\n",
       " variable & bin & count & count\\_distr & neg & pos & posprob & woe & bin\\_iv & total\\_iv & breaks & is\\_special\\_values\\\\\n",
       " <chr> & <chr> & <int> & <dbl> & <int> & <int> & <dbl> & <dbl> & <dbl> & <dbl> & <chr> & <lgl>\\\\\n",
       "\\hline\n",
       "\t Duration & {[}-Inf,12) &  59 & 0.16298343 & 13 & 46 & 0.7796610 &  1.0529710 & 0.157685658 & 0.3894076 & 12  & FALSE\\\\\n",
       "\t Duration & {[}12,22)   & 141 & 0.38950276 & 54 & 87 & 0.6170213 &  0.2662030 & 0.027063976 & 0.3894076 & 22  & FALSE\\\\\n",
       "\t Duration & {[}22,26)   &  62 & 0.17127072 & 34 & 28 & 0.4516129 & -0.4048770 & 0.028291408 & 0.3894076 & 26  & FALSE\\\\\n",
       "\t Duration & {[}26,32)   &  24 & 0.06629834 & 10 & 14 & 0.5833333 &  0.1257512 & 0.001040164 & 0.3894076 & 32  & FALSE\\\\\n",
       "\t Duration & {[}32, Inf) &  76 & 0.20994475 & 51 & 25 & 0.3289474 & -0.9236708 & 0.175326409 & 0.3894076 & Inf & FALSE\\\\\n",
       "\\end{tabular}\n",
       "\n",
       "\\item[\\$Property] A data.table: 4 × 12\n",
       "\\begin{tabular}{llllllllllll}\n",
       " variable & bin & count & count\\_distr & neg & pos & posprob & woe & bin\\_iv & total\\_iv & breaks & is\\_special\\_values\\\\\n",
       " <chr> & <chr> & <int> & <dbl> & <int> & <int> & <dbl> & <dbl> & <dbl> & <dbl> & <chr> & <lgl>\\\\\n",
       "\\hline\n",
       "\t Property & 1 &  98 & 0.2707182 & 26 & 72 & 0.7346939 &  0.8078485 & 0.161170772 & 0.2413046 & 1 & FALSE\\\\\n",
       "\t Property & 2 &  81 & 0.2237569 & 39 & 42 & 0.5185185 & -0.1366131 & 0.004199587 & 0.2413046 & 2 & FALSE\\\\\n",
       "\t Property & 3 & 112 & 0.3093923 & 55 & 57 & 0.5089286 & -0.1750029 & 0.009538741 & 0.2413046 & 3 & FALSE\\\\\n",
       "\t Property & 4 &  71 & 0.1961326 & 42 & 29 & 0.4084507 & -0.5810948 & 0.066395464 & 0.2413046 & 4 & FALSE\\\\\n",
       "\\end{tabular}\n",
       "\n",
       "\\item[\\$Savings] A data.table: 3 × 12\n",
       "\\begin{tabular}{llllllllllll}\n",
       " variable & bin & count & count\\_distr & neg & pos & posprob & woe & bin\\_iv & total\\_iv & breaks & is\\_special\\_values\\\\\n",
       " <chr> & <chr> & <int> & <dbl> & <int> & <int> & <dbl> & <dbl> & <dbl> & <dbl> & <chr> & <lgl>\\\\\n",
       "\\hline\n",
       "\t Savings & 1\\%,\\%2 & 285 & 0.7872928 & 142 & 143 & 0.5017544 & -0.2037035 & 0.03290691 & 0.18178 & 1\\%,\\%2 & FALSE\\\\\n",
       "\t Savings & 3\\%,\\%4 &  26 & 0.0718232 &   5 &  21 & 0.8076923 &  1.2243635 & 0.09076917 & 0.18178 & 3\\%,\\%4 & FALSE\\\\\n",
       "\t Savings & 5     &  51 & 0.1408840 &  15 &  36 & 0.7058824 &  0.6647477 & 0.05810387 & 0.18178 & 5     & FALSE\\\\\n",
       "\\end{tabular}\n",
       "\n",
       "\\item[\\$History] A data.table: 4 × 12\n",
       "\\begin{tabular}{llllllllllll}\n",
       " variable & bin & count & count\\_distr & neg & pos & posprob & woe & bin\\_iv & total\\_iv & breaks & is\\_special\\_values\\\\\n",
       " <chr> & <chr> & <int> & <dbl> & <int> & <int> & <dbl> & <dbl> & <dbl> & <dbl> & <chr> & <lgl>\\\\\n",
       "\\hline\n",
       "\t History & 0\\%,\\%1 &  43 & 0.11878453 & 28 &  15 & 0.3488372 & -0.834875340 & 8.168379e-02 & 0.1533457 & 0\\%,\\%1 & FALSE\\\\\n",
       "\t History & 2     & 212 & 0.58563536 & 95 & 117 & 0.5518868 & -0.002423988 & 3.441465e-06 & 0.1533457 & 2     & FALSE\\\\\n",
       "\t History & 3     &  30 & 0.08287293 & 15 &  15 & 0.5000000 & -0.210721031 & 3.707129e-03 & 0.1533457 & 3     & FALSE\\\\\n",
       "\t History & 4     &  77 & 0.21270718 & 24 &  53 & 0.6883117 &  0.581517052 & 6.795134e-02 & 0.1533457 & 4     & FALSE\\\\\n",
       "\\end{tabular}\n",
       "\n",
       "\\end{description}\n"
      ],
      "text/markdown": [
       "$Duration\n",
       ":   \n",
       "A data.table: 5 × 12\n",
       "\n",
       "| variable &lt;chr&gt; | bin &lt;chr&gt; | count &lt;int&gt; | count_distr &lt;dbl&gt; | neg &lt;int&gt; | pos &lt;int&gt; | posprob &lt;dbl&gt; | woe &lt;dbl&gt; | bin_iv &lt;dbl&gt; | total_iv &lt;dbl&gt; | breaks &lt;chr&gt; | is_special_values &lt;lgl&gt; |\n",
       "|---|---|---|---|---|---|---|---|---|---|---|---|\n",
       "| Duration | [-Inf,12) |  59 | 0.16298343 | 13 | 46 | 0.7796610 |  1.0529710 | 0.157685658 | 0.3894076 | 12  | FALSE |\n",
       "| Duration | [12,22)   | 141 | 0.38950276 | 54 | 87 | 0.6170213 |  0.2662030 | 0.027063976 | 0.3894076 | 22  | FALSE |\n",
       "| Duration | [22,26)   |  62 | 0.17127072 | 34 | 28 | 0.4516129 | -0.4048770 | 0.028291408 | 0.3894076 | 26  | FALSE |\n",
       "| Duration | [26,32)   |  24 | 0.06629834 | 10 | 14 | 0.5833333 |  0.1257512 | 0.001040164 | 0.3894076 | 32  | FALSE |\n",
       "| Duration | [32, Inf) |  76 | 0.20994475 | 51 | 25 | 0.3289474 | -0.9236708 | 0.175326409 | 0.3894076 | Inf | FALSE |\n",
       "\n",
       "\n",
       "$Property\n",
       ":   \n",
       "A data.table: 4 × 12\n",
       "\n",
       "| variable &lt;chr&gt; | bin &lt;chr&gt; | count &lt;int&gt; | count_distr &lt;dbl&gt; | neg &lt;int&gt; | pos &lt;int&gt; | posprob &lt;dbl&gt; | woe &lt;dbl&gt; | bin_iv &lt;dbl&gt; | total_iv &lt;dbl&gt; | breaks &lt;chr&gt; | is_special_values &lt;lgl&gt; |\n",
       "|---|---|---|---|---|---|---|---|---|---|---|---|\n",
       "| Property | 1 |  98 | 0.2707182 | 26 | 72 | 0.7346939 |  0.8078485 | 0.161170772 | 0.2413046 | 1 | FALSE |\n",
       "| Property | 2 |  81 | 0.2237569 | 39 | 42 | 0.5185185 | -0.1366131 | 0.004199587 | 0.2413046 | 2 | FALSE |\n",
       "| Property | 3 | 112 | 0.3093923 | 55 | 57 | 0.5089286 | -0.1750029 | 0.009538741 | 0.2413046 | 3 | FALSE |\n",
       "| Property | 4 |  71 | 0.1961326 | 42 | 29 | 0.4084507 | -0.5810948 | 0.066395464 | 0.2413046 | 4 | FALSE |\n",
       "\n",
       "\n",
       "$Savings\n",
       ":   \n",
       "A data.table: 3 × 12\n",
       "\n",
       "| variable &lt;chr&gt; | bin &lt;chr&gt; | count &lt;int&gt; | count_distr &lt;dbl&gt; | neg &lt;int&gt; | pos &lt;int&gt; | posprob &lt;dbl&gt; | woe &lt;dbl&gt; | bin_iv &lt;dbl&gt; | total_iv &lt;dbl&gt; | breaks &lt;chr&gt; | is_special_values &lt;lgl&gt; |\n",
       "|---|---|---|---|---|---|---|---|---|---|---|---|\n",
       "| Savings | 1%,%2 | 285 | 0.7872928 | 142 | 143 | 0.5017544 | -0.2037035 | 0.03290691 | 0.18178 | 1%,%2 | FALSE |\n",
       "| Savings | 3%,%4 |  26 | 0.0718232 |   5 |  21 | 0.8076923 |  1.2243635 | 0.09076917 | 0.18178 | 3%,%4 | FALSE |\n",
       "| Savings | 5     |  51 | 0.1408840 |  15 |  36 | 0.7058824 |  0.6647477 | 0.05810387 | 0.18178 | 5     | FALSE |\n",
       "\n",
       "\n",
       "$History\n",
       ":   \n",
       "A data.table: 4 × 12\n",
       "\n",
       "| variable &lt;chr&gt; | bin &lt;chr&gt; | count &lt;int&gt; | count_distr &lt;dbl&gt; | neg &lt;int&gt; | pos &lt;int&gt; | posprob &lt;dbl&gt; | woe &lt;dbl&gt; | bin_iv &lt;dbl&gt; | total_iv &lt;dbl&gt; | breaks &lt;chr&gt; | is_special_values &lt;lgl&gt; |\n",
       "|---|---|---|---|---|---|---|---|---|---|---|---|\n",
       "| History | 0%,%1 |  43 | 0.11878453 | 28 |  15 | 0.3488372 | -0.834875340 | 8.168379e-02 | 0.1533457 | 0%,%1 | FALSE |\n",
       "| History | 2     | 212 | 0.58563536 | 95 | 117 | 0.5518868 | -0.002423988 | 3.441465e-06 | 0.1533457 | 2     | FALSE |\n",
       "| History | 3     |  30 | 0.08287293 | 15 |  15 | 0.5000000 | -0.210721031 | 3.707129e-03 | 0.1533457 | 3     | FALSE |\n",
       "| History | 4     |  77 | 0.21270718 | 24 |  53 | 0.6883117 |  0.581517052 | 6.795134e-02 | 0.1533457 | 4     | FALSE |\n",
       "\n",
       "\n",
       "\n",
       "\n"
      ],
      "text/plain": [
       "$Duration\n",
       "   variable       bin count count_distr neg pos   posprob        woe\n",
       "1: Duration [-Inf,12)    59  0.16298343  13  46 0.7796610  1.0529710\n",
       "2: Duration   [12,22)   141  0.38950276  54  87 0.6170213  0.2662030\n",
       "3: Duration   [22,26)    62  0.17127072  34  28 0.4516129 -0.4048770\n",
       "4: Duration   [26,32)    24  0.06629834  10  14 0.5833333  0.1257512\n",
       "5: Duration [32, Inf)    76  0.20994475  51  25 0.3289474 -0.9236708\n",
       "        bin_iv  total_iv breaks is_special_values\n",
       "1: 0.157685658 0.3894076     12             FALSE\n",
       "2: 0.027063976 0.3894076     22             FALSE\n",
       "3: 0.028291408 0.3894076     26             FALSE\n",
       "4: 0.001040164 0.3894076     32             FALSE\n",
       "5: 0.175326409 0.3894076    Inf             FALSE\n",
       "\n",
       "$Property\n",
       "   variable bin count count_distr neg pos   posprob        woe      bin_iv\n",
       "1: Property   1    98   0.2707182  26  72 0.7346939  0.8078485 0.161170772\n",
       "2: Property   2    81   0.2237569  39  42 0.5185185 -0.1366131 0.004199587\n",
       "3: Property   3   112   0.3093923  55  57 0.5089286 -0.1750029 0.009538741\n",
       "4: Property   4    71   0.1961326  42  29 0.4084507 -0.5810948 0.066395464\n",
       "    total_iv breaks is_special_values\n",
       "1: 0.2413046      1             FALSE\n",
       "2: 0.2413046      2             FALSE\n",
       "3: 0.2413046      3             FALSE\n",
       "4: 0.2413046      4             FALSE\n",
       "\n",
       "$Savings\n",
       "   variable   bin count count_distr neg pos   posprob        woe     bin_iv\n",
       "1:  Savings 1%,%2   285   0.7872928 142 143 0.5017544 -0.2037035 0.03290691\n",
       "2:  Savings 3%,%4    26   0.0718232   5  21 0.8076923  1.2243635 0.09076917\n",
       "3:  Savings     5    51   0.1408840  15  36 0.7058824  0.6647477 0.05810387\n",
       "   total_iv breaks is_special_values\n",
       "1:  0.18178  1%,%2             FALSE\n",
       "2:  0.18178  3%,%4             FALSE\n",
       "3:  0.18178      5             FALSE\n",
       "\n",
       "$History\n",
       "   variable   bin count count_distr neg pos   posprob          woe       bin_iv\n",
       "1:  History 0%,%1    43  0.11878453  28  15 0.3488372 -0.834875340 8.168379e-02\n",
       "2:  History     2   212  0.58563536  95 117 0.5518868 -0.002423988 3.441465e-06\n",
       "3:  History     3    30  0.08287293  15  15 0.5000000 -0.210721031 3.707129e-03\n",
       "4:  History     4    77  0.21270718  24  53 0.6883117  0.581517052 6.795134e-02\n",
       "    total_iv breaks is_special_values\n",
       "1: 0.1533457  0%,%1             FALSE\n",
       "2: 0.1533457      2             FALSE\n",
       "3: 0.1533457      3             FALSE\n",
       "4: 0.1533457      4             FALSE\n"
      ]
     },
     "metadata": {},
     "output_type": "display_data"
    }
   ],
   "source": [
    "train_bins12"
   ]
  },
  {
   "cell_type": "code",
   "execution_count": 23,
   "metadata": {},
   "outputs": [
    {
     "data": {
      "text/plain": [
       "$Duration\n"
      ]
     },
     "metadata": {},
     "output_type": "display_data"
    },
    {
     "data": {
      "image/png": "[encoded data removed]",
      "text/plain": [
       "plot without title"
      ]
     },
     "metadata": {},
     "output_type": "display_data"
    }
   ],
   "source": [
    "woebin_plot(train_bins12,x='Duration',line_value='woe')"
   ]
  },
  {
   "cell_type": "markdown",
   "metadata": {},
   "source": [
    "## Coarse classification\n",
    "\n",
    "I will manually create dummies for the bins"
   ]
  },
  {
   "cell_type": "markdown",
   "metadata": {},
   "source": [
    "### checking 12\n",
    "\n",
    "#### training data"
   ]
  },
  {
   "cell_type": "markdown",
   "metadata": {},
   "source": [
    "###### Duration"
   ]
  },
  {
   "cell_type": "code",
   "execution_count": 24,
   "metadata": {},
   "outputs": [
    {
     "data": {
      "text/html": [
       "<table class=\"dataframe\">\n",
       "<caption>A data.table: 5 × 12</caption>\n",
       "<thead>\n",
       "\t<tr><th scope=col>variable</th><th scope=col>bin</th><th scope=col>count</th><th scope=col>count_distr</th><th scope=col>neg</th><th scope=col>pos</th><th scope=col>posprob</th><th scope=col>woe</th><th scope=col>bin_iv</th><th scope=col>total_iv</th><th scope=col>breaks</th><th scope=col>is_special_values</th></tr>\n",
       "\t<tr><th scope=col>&lt;chr&gt;</th><th scope=col>&lt;chr&gt;</th><th scope=col>&lt;int&gt;</th><th scope=col>&lt;dbl&gt;</th><th scope=col>&lt;int&gt;</th><th scope=col>&lt;int&gt;</th><th scope=col>&lt;dbl&gt;</th><th scope=col>&lt;dbl&gt;</th><th scope=col>&lt;dbl&gt;</th><th scope=col>&lt;dbl&gt;</th><th scope=col>&lt;chr&gt;</th><th scope=col>&lt;lgl&gt;</th></tr>\n",
       "</thead>\n",
       "<tbody>\n",
       "\t<tr><td>Duration</td><td>[-Inf,12)</td><td> 59</td><td>0.16298343</td><td>13</td><td>46</td><td>0.7796610</td><td> 1.0529710</td><td>0.157685658</td><td>0.3894076</td><td>12 </td><td>FALSE</td></tr>\n",
       "\t<tr><td>Duration</td><td>[12,22)  </td><td>141</td><td>0.38950276</td><td>54</td><td>87</td><td>0.6170213</td><td> 0.2662030</td><td>0.027063976</td><td>0.3894076</td><td>22 </td><td>FALSE</td></tr>\n",
       "\t<tr><td>Duration</td><td>[22,26)  </td><td> 62</td><td>0.17127072</td><td>34</td><td>28</td><td>0.4516129</td><td>-0.4048770</td><td>0.028291408</td><td>0.3894076</td><td>26 </td><td>FALSE</td></tr>\n",
       "\t<tr><td>Duration</td><td>[26,32)  </td><td> 24</td><td>0.06629834</td><td>10</td><td>14</td><td>0.5833333</td><td> 0.1257512</td><td>0.001040164</td><td>0.3894076</td><td>32 </td><td>FALSE</td></tr>\n",
       "\t<tr><td>Duration</td><td>[32, Inf)</td><td> 76</td><td>0.20994475</td><td>51</td><td>25</td><td>0.3289474</td><td>-0.9236708</td><td>0.175326409</td><td>0.3894076</td><td>Inf</td><td>FALSE</td></tr>\n",
       "</tbody>\n",
       "</table>\n"
      ],
      "text/latex": [
       "A data.table: 5 × 12\n",
       "\\begin{tabular}{llllllllllll}\n",
       " variable & bin & count & count\\_distr & neg & pos & posprob & woe & bin\\_iv & total\\_iv & breaks & is\\_special\\_values\\\\\n",
       " <chr> & <chr> & <int> & <dbl> & <int> & <int> & <dbl> & <dbl> & <dbl> & <dbl> & <chr> & <lgl>\\\\\n",
       "\\hline\n",
       "\t Duration & {[}-Inf,12) &  59 & 0.16298343 & 13 & 46 & 0.7796610 &  1.0529710 & 0.157685658 & 0.3894076 & 12  & FALSE\\\\\n",
       "\t Duration & {[}12,22)   & 141 & 0.38950276 & 54 & 87 & 0.6170213 &  0.2662030 & 0.027063976 & 0.3894076 & 22  & FALSE\\\\\n",
       "\t Duration & {[}22,26)   &  62 & 0.17127072 & 34 & 28 & 0.4516129 & -0.4048770 & 0.028291408 & 0.3894076 & 26  & FALSE\\\\\n",
       "\t Duration & {[}26,32)   &  24 & 0.06629834 & 10 & 14 & 0.5833333 &  0.1257512 & 0.001040164 & 0.3894076 & 32  & FALSE\\\\\n",
       "\t Duration & {[}32, Inf) &  76 & 0.20994475 & 51 & 25 & 0.3289474 & -0.9236708 & 0.175326409 & 0.3894076 & Inf & FALSE\\\\\n",
       "\\end{tabular}\n"
      ],
      "text/markdown": [
       "\n",
       "A data.table: 5 × 12\n",
       "\n",
       "| variable &lt;chr&gt; | bin &lt;chr&gt; | count &lt;int&gt; | count_distr &lt;dbl&gt; | neg &lt;int&gt; | pos &lt;int&gt; | posprob &lt;dbl&gt; | woe &lt;dbl&gt; | bin_iv &lt;dbl&gt; | total_iv &lt;dbl&gt; | breaks &lt;chr&gt; | is_special_values &lt;lgl&gt; |\n",
       "|---|---|---|---|---|---|---|---|---|---|---|---|\n",
       "| Duration | [-Inf,12) |  59 | 0.16298343 | 13 | 46 | 0.7796610 |  1.0529710 | 0.157685658 | 0.3894076 | 12  | FALSE |\n",
       "| Duration | [12,22)   | 141 | 0.38950276 | 54 | 87 | 0.6170213 |  0.2662030 | 0.027063976 | 0.3894076 | 22  | FALSE |\n",
       "| Duration | [22,26)   |  62 | 0.17127072 | 34 | 28 | 0.4516129 | -0.4048770 | 0.028291408 | 0.3894076 | 26  | FALSE |\n",
       "| Duration | [26,32)   |  24 | 0.06629834 | 10 | 14 | 0.5833333 |  0.1257512 | 0.001040164 | 0.3894076 | 32  | FALSE |\n",
       "| Duration | [32, Inf) |  76 | 0.20994475 | 51 | 25 | 0.3289474 | -0.9236708 | 0.175326409 | 0.3894076 | Inf | FALSE |\n",
       "\n"
      ],
      "text/plain": [
       "  variable bin       count count_distr neg pos posprob   woe        bin_iv     \n",
       "1 Duration [-Inf,12)  59   0.16298343  13  46  0.7796610  1.0529710 0.157685658\n",
       "2 Duration [12,22)   141   0.38950276  54  87  0.6170213  0.2662030 0.027063976\n",
       "3 Duration [22,26)    62   0.17127072  34  28  0.4516129 -0.4048770 0.028291408\n",
       "4 Duration [26,32)    24   0.06629834  10  14  0.5833333  0.1257512 0.001040164\n",
       "5 Duration [32, Inf)  76   0.20994475  51  25  0.3289474 -0.9236708 0.175326409\n",
       "  total_iv  breaks is_special_values\n",
       "1 0.3894076 12     FALSE            \n",
       "2 0.3894076 22     FALSE            \n",
       "3 0.3894076 26     FALSE            \n",
       "4 0.3894076 32     FALSE            \n",
       "5 0.3894076 Inf    FALSE            "
      ]
     },
     "metadata": {},
     "output_type": "display_data"
    }
   ],
   "source": [
    "# visualise the duration bin\n",
    "train_bins12$Duration"
   ]
  },
  {
   "cell_type": "code",
   "execution_count": 25,
   "metadata": {},
   "outputs": [],
   "source": [
    "# create binary variables for duration less than 12\n",
    "dum_train12 <- mutate(train12, duration12=ifelse(Duration<12,1,0))\n",
    "\n",
    "# create binary variables for duration more than or equal to 12 or less than 22\n",
    "dum_train12 <- mutate(dum_train12, duration12_22=ifelse(Duration>=12&Duration<22,1,0))\n",
    "\n",
    "# create binary variables for duration more than or equal to 22 or less than 26\n",
    "dum_train12 <- mutate(dum_train12, duration22_26=ifelse(Duration>=22&Duration<26,1,0))\n",
    "\n",
    "# create binary variables for duration more than or equal to 26 or less than 32\n",
    "dum_train12 <- mutate(dum_train12, duration26_32=ifelse(Duration>=26&Duration<32,1,0))\n",
    "\n",
    "# to avoid multi-collinearity we create N-1 bins"
   ]
  },
  {
   "cell_type": "markdown",
   "metadata": {},
   "source": [
    "###### Savings"
   ]
  },
  {
   "cell_type": "code",
   "execution_count": 26,
   "metadata": {},
   "outputs": [
    {
     "data": {
      "text/html": [
       "<table class=\"dataframe\">\n",
       "<caption>A data.table: 3 × 12</caption>\n",
       "<thead>\n",
       "\t<tr><th scope=col>variable</th><th scope=col>bin</th><th scope=col>count</th><th scope=col>count_distr</th><th scope=col>neg</th><th scope=col>pos</th><th scope=col>posprob</th><th scope=col>woe</th><th scope=col>bin_iv</th><th scope=col>total_iv</th><th scope=col>breaks</th><th scope=col>is_special_values</th></tr>\n",
       "\t<tr><th scope=col>&lt;chr&gt;</th><th scope=col>&lt;chr&gt;</th><th scope=col>&lt;int&gt;</th><th scope=col>&lt;dbl&gt;</th><th scope=col>&lt;int&gt;</th><th scope=col>&lt;int&gt;</th><th scope=col>&lt;dbl&gt;</th><th scope=col>&lt;dbl&gt;</th><th scope=col>&lt;dbl&gt;</th><th scope=col>&lt;dbl&gt;</th><th scope=col>&lt;chr&gt;</th><th scope=col>&lt;lgl&gt;</th></tr>\n",
       "</thead>\n",
       "<tbody>\n",
       "\t<tr><td>Savings</td><td>1%,%2</td><td>285</td><td>0.7872928</td><td>142</td><td>143</td><td>0.5017544</td><td>-0.2037035</td><td>0.03290691</td><td>0.18178</td><td>1%,%2</td><td>FALSE</td></tr>\n",
       "\t<tr><td>Savings</td><td>3%,%4</td><td> 26</td><td>0.0718232</td><td>  5</td><td> 21</td><td>0.8076923</td><td> 1.2243635</td><td>0.09076917</td><td>0.18178</td><td>3%,%4</td><td>FALSE</td></tr>\n",
       "\t<tr><td>Savings</td><td>5    </td><td> 51</td><td>0.1408840</td><td> 15</td><td> 36</td><td>0.7058824</td><td> 0.6647477</td><td>0.05810387</td><td>0.18178</td><td>5    </td><td>FALSE</td></tr>\n",
       "</tbody>\n",
       "</table>\n"
      ],
      "text/latex": [
       "A data.table: 3 × 12\n",
       "\\begin{tabular}{llllllllllll}\n",
       " variable & bin & count & count\\_distr & neg & pos & posprob & woe & bin\\_iv & total\\_iv & breaks & is\\_special\\_values\\\\\n",
       " <chr> & <chr> & <int> & <dbl> & <int> & <int> & <dbl> & <dbl> & <dbl> & <dbl> & <chr> & <lgl>\\\\\n",
       "\\hline\n",
       "\t Savings & 1\\%,\\%2 & 285 & 0.7872928 & 142 & 143 & 0.5017544 & -0.2037035 & 0.03290691 & 0.18178 & 1\\%,\\%2 & FALSE\\\\\n",
       "\t Savings & 3\\%,\\%4 &  26 & 0.0718232 &   5 &  21 & 0.8076923 &  1.2243635 & 0.09076917 & 0.18178 & 3\\%,\\%4 & FALSE\\\\\n",
       "\t Savings & 5     &  51 & 0.1408840 &  15 &  36 & 0.7058824 &  0.6647477 & 0.05810387 & 0.18178 & 5     & FALSE\\\\\n",
       "\\end{tabular}\n"
      ],
      "text/markdown": [
       "\n",
       "A data.table: 3 × 12\n",
       "\n",
       "| variable &lt;chr&gt; | bin &lt;chr&gt; | count &lt;int&gt; | count_distr &lt;dbl&gt; | neg &lt;int&gt; | pos &lt;int&gt; | posprob &lt;dbl&gt; | woe &lt;dbl&gt; | bin_iv &lt;dbl&gt; | total_iv &lt;dbl&gt; | breaks &lt;chr&gt; | is_special_values &lt;lgl&gt; |\n",
       "|---|---|---|---|---|---|---|---|---|---|---|---|\n",
       "| Savings | 1%,%2 | 285 | 0.7872928 | 142 | 143 | 0.5017544 | -0.2037035 | 0.03290691 | 0.18178 | 1%,%2 | FALSE |\n",
       "| Savings | 3%,%4 |  26 | 0.0718232 |   5 |  21 | 0.8076923 |  1.2243635 | 0.09076917 | 0.18178 | 3%,%4 | FALSE |\n",
       "| Savings | 5     |  51 | 0.1408840 |  15 |  36 | 0.7058824 |  0.6647477 | 0.05810387 | 0.18178 | 5     | FALSE |\n",
       "\n"
      ],
      "text/plain": [
       "  variable bin   count count_distr neg pos posprob   woe        bin_iv    \n",
       "1 Savings  1%,%2 285   0.7872928   142 143 0.5017544 -0.2037035 0.03290691\n",
       "2 Savings  3%,%4  26   0.0718232     5  21 0.8076923  1.2243635 0.09076917\n",
       "3 Savings  5      51   0.1408840    15  36 0.7058824  0.6647477 0.05810387\n",
       "  total_iv breaks is_special_values\n",
       "1 0.18178  1%,%2  FALSE            \n",
       "2 0.18178  3%,%4  FALSE            \n",
       "3 0.18178  5      FALSE            "
      ]
     },
     "metadata": {},
     "output_type": "display_data"
    }
   ],
   "source": [
    "# visualise the savings bin\n",
    "train_bins12$Savings"
   ]
  },
  {
   "cell_type": "code",
   "execution_count": 27,
   "metadata": {},
   "outputs": [],
   "source": [
    "# create binary variables for savings equal to 1 or 2\n",
    "dum_train12 <- mutate(dum_train12, savings1_2=ifelse(Savings==1|Savings==2,1,0))\n",
    "\n",
    "# create binary variables for savings equal to 3 or 4\n",
    "dum_train12 <- mutate(dum_train12, savings3_4=ifelse(Savings==3|Savings==4,1,0))"
   ]
  },
  {
   "cell_type": "markdown",
   "metadata": {},
   "source": [
    "###### Property"
   ]
  },
  {
   "cell_type": "code",
   "execution_count": 28,
   "metadata": {},
   "outputs": [
    {
     "data": {
      "text/html": [
       "<table class=\"dataframe\">\n",
       "<caption>A data.table: 4 × 12</caption>\n",
       "<thead>\n",
       "\t<tr><th scope=col>variable</th><th scope=col>bin</th><th scope=col>count</th><th scope=col>count_distr</th><th scope=col>neg</th><th scope=col>pos</th><th scope=col>posprob</th><th scope=col>woe</th><th scope=col>bin_iv</th><th scope=col>total_iv</th><th scope=col>breaks</th><th scope=col>is_special_values</th></tr>\n",
       "\t<tr><th scope=col>&lt;chr&gt;</th><th scope=col>&lt;chr&gt;</th><th scope=col>&lt;int&gt;</th><th scope=col>&lt;dbl&gt;</th><th scope=col>&lt;int&gt;</th><th scope=col>&lt;int&gt;</th><th scope=col>&lt;dbl&gt;</th><th scope=col>&lt;dbl&gt;</th><th scope=col>&lt;dbl&gt;</th><th scope=col>&lt;dbl&gt;</th><th scope=col>&lt;chr&gt;</th><th scope=col>&lt;lgl&gt;</th></tr>\n",
       "</thead>\n",
       "<tbody>\n",
       "\t<tr><td>Property</td><td>1</td><td> 98</td><td>0.2707182</td><td>26</td><td>72</td><td>0.7346939</td><td> 0.8078485</td><td>0.161170772</td><td>0.2413046</td><td>1</td><td>FALSE</td></tr>\n",
       "\t<tr><td>Property</td><td>2</td><td> 81</td><td>0.2237569</td><td>39</td><td>42</td><td>0.5185185</td><td>-0.1366131</td><td>0.004199587</td><td>0.2413046</td><td>2</td><td>FALSE</td></tr>\n",
       "\t<tr><td>Property</td><td>3</td><td>112</td><td>0.3093923</td><td>55</td><td>57</td><td>0.5089286</td><td>-0.1750029</td><td>0.009538741</td><td>0.2413046</td><td>3</td><td>FALSE</td></tr>\n",
       "\t<tr><td>Property</td><td>4</td><td> 71</td><td>0.1961326</td><td>42</td><td>29</td><td>0.4084507</td><td>-0.5810948</td><td>0.066395464</td><td>0.2413046</td><td>4</td><td>FALSE</td></tr>\n",
       "</tbody>\n",
       "</table>\n"
      ],
      "text/latex": [
       "A data.table: 4 × 12\n",
       "\\begin{tabular}{llllllllllll}\n",
       " variable & bin & count & count\\_distr & neg & pos & posprob & woe & bin\\_iv & total\\_iv & breaks & is\\_special\\_values\\\\\n",
       " <chr> & <chr> & <int> & <dbl> & <int> & <int> & <dbl> & <dbl> & <dbl> & <dbl> & <chr> & <lgl>\\\\\n",
       "\\hline\n",
       "\t Property & 1 &  98 & 0.2707182 & 26 & 72 & 0.7346939 &  0.8078485 & 0.161170772 & 0.2413046 & 1 & FALSE\\\\\n",
       "\t Property & 2 &  81 & 0.2237569 & 39 & 42 & 0.5185185 & -0.1366131 & 0.004199587 & 0.2413046 & 2 & FALSE\\\\\n",
       "\t Property & 3 & 112 & 0.3093923 & 55 & 57 & 0.5089286 & -0.1750029 & 0.009538741 & 0.2413046 & 3 & FALSE\\\\\n",
       "\t Property & 4 &  71 & 0.1961326 & 42 & 29 & 0.4084507 & -0.5810948 & 0.066395464 & 0.2413046 & 4 & FALSE\\\\\n",
       "\\end{tabular}\n"
      ],
      "text/markdown": [
       "\n",
       "A data.table: 4 × 12\n",
       "\n",
       "| variable &lt;chr&gt; | bin &lt;chr&gt; | count &lt;int&gt; | count_distr &lt;dbl&gt; | neg &lt;int&gt; | pos &lt;int&gt; | posprob &lt;dbl&gt; | woe &lt;dbl&gt; | bin_iv &lt;dbl&gt; | total_iv &lt;dbl&gt; | breaks &lt;chr&gt; | is_special_values &lt;lgl&gt; |\n",
       "|---|---|---|---|---|---|---|---|---|---|---|---|\n",
       "| Property | 1 |  98 | 0.2707182 | 26 | 72 | 0.7346939 |  0.8078485 | 0.161170772 | 0.2413046 | 1 | FALSE |\n",
       "| Property | 2 |  81 | 0.2237569 | 39 | 42 | 0.5185185 | -0.1366131 | 0.004199587 | 0.2413046 | 2 | FALSE |\n",
       "| Property | 3 | 112 | 0.3093923 | 55 | 57 | 0.5089286 | -0.1750029 | 0.009538741 | 0.2413046 | 3 | FALSE |\n",
       "| Property | 4 |  71 | 0.1961326 | 42 | 29 | 0.4084507 | -0.5810948 | 0.066395464 | 0.2413046 | 4 | FALSE |\n",
       "\n"
      ],
      "text/plain": [
       "  variable bin count count_distr neg pos posprob   woe        bin_iv     \n",
       "1 Property 1    98   0.2707182   26  72  0.7346939  0.8078485 0.161170772\n",
       "2 Property 2    81   0.2237569   39  42  0.5185185 -0.1366131 0.004199587\n",
       "3 Property 3   112   0.3093923   55  57  0.5089286 -0.1750029 0.009538741\n",
       "4 Property 4    71   0.1961326   42  29  0.4084507 -0.5810948 0.066395464\n",
       "  total_iv  breaks is_special_values\n",
       "1 0.2413046 1      FALSE            \n",
       "2 0.2413046 2      FALSE            \n",
       "3 0.2413046 3      FALSE            \n",
       "4 0.2413046 4      FALSE            "
      ]
     },
     "metadata": {},
     "output_type": "display_data"
    }
   ],
   "source": [
    "# visualise the property bin\n",
    "train_bins12$Property"
   ]
  },
  {
   "cell_type": "code",
   "execution_count": 29,
   "metadata": {},
   "outputs": [],
   "source": [
    "# create binary variables for property equal to 1\n",
    "dum_train12 <- mutate(dum_train12, property1=ifelse(Property==1,1,0))\n",
    "\n",
    "# create binary variables for property equal to 2\n",
    "dum_train12 <- mutate(dum_train12, property2=ifelse(Property==2,1,0))\n",
    "\n",
    "# create binary variables for property equal to 3\n",
    "dum_train12 <- mutate(dum_train12, property3=ifelse(Property==3,1,0))"
   ]
  },
  {
   "cell_type": "markdown",
   "metadata": {},
   "source": [
    "###### History"
   ]
  },
  {
   "cell_type": "code",
   "execution_count": 30,
   "metadata": {},
   "outputs": [
    {
     "data": {
      "text/html": [
       "<table class=\"dataframe\">\n",
       "<caption>A data.table: 4 × 12</caption>\n",
       "<thead>\n",
       "\t<tr><th scope=col>variable</th><th scope=col>bin</th><th scope=col>count</th><th scope=col>count_distr</th><th scope=col>neg</th><th scope=col>pos</th><th scope=col>posprob</th><th scope=col>woe</th><th scope=col>bin_iv</th><th scope=col>total_iv</th><th scope=col>breaks</th><th scope=col>is_special_values</th></tr>\n",
       "\t<tr><th scope=col>&lt;chr&gt;</th><th scope=col>&lt;chr&gt;</th><th scope=col>&lt;int&gt;</th><th scope=col>&lt;dbl&gt;</th><th scope=col>&lt;int&gt;</th><th scope=col>&lt;int&gt;</th><th scope=col>&lt;dbl&gt;</th><th scope=col>&lt;dbl&gt;</th><th scope=col>&lt;dbl&gt;</th><th scope=col>&lt;dbl&gt;</th><th scope=col>&lt;chr&gt;</th><th scope=col>&lt;lgl&gt;</th></tr>\n",
       "</thead>\n",
       "<tbody>\n",
       "\t<tr><td>History</td><td>0%,%1</td><td> 43</td><td>0.11878453</td><td>28</td><td> 15</td><td>0.3488372</td><td>-0.834875340</td><td>8.168379e-02</td><td>0.1533457</td><td>0%,%1</td><td>FALSE</td></tr>\n",
       "\t<tr><td>History</td><td>2    </td><td>212</td><td>0.58563536</td><td>95</td><td>117</td><td>0.5518868</td><td>-0.002423988</td><td>3.441465e-06</td><td>0.1533457</td><td>2    </td><td>FALSE</td></tr>\n",
       "\t<tr><td>History</td><td>3    </td><td> 30</td><td>0.08287293</td><td>15</td><td> 15</td><td>0.5000000</td><td>-0.210721031</td><td>3.707129e-03</td><td>0.1533457</td><td>3    </td><td>FALSE</td></tr>\n",
       "\t<tr><td>History</td><td>4    </td><td> 77</td><td>0.21270718</td><td>24</td><td> 53</td><td>0.6883117</td><td> 0.581517052</td><td>6.795134e-02</td><td>0.1533457</td><td>4    </td><td>FALSE</td></tr>\n",
       "</tbody>\n",
       "</table>\n"
      ],
      "text/latex": [
       "A data.table: 4 × 12\n",
       "\\begin{tabular}{llllllllllll}\n",
       " variable & bin & count & count\\_distr & neg & pos & posprob & woe & bin\\_iv & total\\_iv & breaks & is\\_special\\_values\\\\\n",
       " <chr> & <chr> & <int> & <dbl> & <int> & <int> & <dbl> & <dbl> & <dbl> & <dbl> & <chr> & <lgl>\\\\\n",
       "\\hline\n",
       "\t History & 0\\%,\\%1 &  43 & 0.11878453 & 28 &  15 & 0.3488372 & -0.834875340 & 8.168379e-02 & 0.1533457 & 0\\%,\\%1 & FALSE\\\\\n",
       "\t History & 2     & 212 & 0.58563536 & 95 & 117 & 0.5518868 & -0.002423988 & 3.441465e-06 & 0.1533457 & 2     & FALSE\\\\\n",
       "\t History & 3     &  30 & 0.08287293 & 15 &  15 & 0.5000000 & -0.210721031 & 3.707129e-03 & 0.1533457 & 3     & FALSE\\\\\n",
       "\t History & 4     &  77 & 0.21270718 & 24 &  53 & 0.6883117 &  0.581517052 & 6.795134e-02 & 0.1533457 & 4     & FALSE\\\\\n",
       "\\end{tabular}\n"
      ],
      "text/markdown": [
       "\n",
       "A data.table: 4 × 12\n",
       "\n",
       "| variable &lt;chr&gt; | bin &lt;chr&gt; | count &lt;int&gt; | count_distr &lt;dbl&gt; | neg &lt;int&gt; | pos &lt;int&gt; | posprob &lt;dbl&gt; | woe &lt;dbl&gt; | bin_iv &lt;dbl&gt; | total_iv &lt;dbl&gt; | breaks &lt;chr&gt; | is_special_values &lt;lgl&gt; |\n",
       "|---|---|---|---|---|---|---|---|---|---|---|---|\n",
       "| History | 0%,%1 |  43 | 0.11878453 | 28 |  15 | 0.3488372 | -0.834875340 | 8.168379e-02 | 0.1533457 | 0%,%1 | FALSE |\n",
       "| History | 2     | 212 | 0.58563536 | 95 | 117 | 0.5518868 | -0.002423988 | 3.441465e-06 | 0.1533457 | 2     | FALSE |\n",
       "| History | 3     |  30 | 0.08287293 | 15 |  15 | 0.5000000 | -0.210721031 | 3.707129e-03 | 0.1533457 | 3     | FALSE |\n",
       "| History | 4     |  77 | 0.21270718 | 24 |  53 | 0.6883117 |  0.581517052 | 6.795134e-02 | 0.1533457 | 4     | FALSE |\n",
       "\n"
      ],
      "text/plain": [
       "  variable bin   count count_distr neg pos posprob   woe          bin_iv      \n",
       "1 History  0%,%1  43   0.11878453  28   15 0.3488372 -0.834875340 8.168379e-02\n",
       "2 History  2     212   0.58563536  95  117 0.5518868 -0.002423988 3.441465e-06\n",
       "3 History  3      30   0.08287293  15   15 0.5000000 -0.210721031 3.707129e-03\n",
       "4 History  4      77   0.21270718  24   53 0.6883117  0.581517052 6.795134e-02\n",
       "  total_iv  breaks is_special_values\n",
       "1 0.1533457 0%,%1  FALSE            \n",
       "2 0.1533457 2      FALSE            \n",
       "3 0.1533457 3      FALSE            \n",
       "4 0.1533457 4      FALSE            "
      ]
     },
     "metadata": {},
     "output_type": "display_data"
    }
   ],
   "source": [
    "# visualise the history bin\n",
    "train_bins12$History"
   ]
  },
  {
   "cell_type": "code",
   "execution_count": 31,
   "metadata": {},
   "outputs": [],
   "source": [
    "# create binary variables for history equal to 0 or 1\n",
    "dum_train12 <- mutate(dum_train12, history0_1=ifelse(History==0|History==1,1,0))\n",
    "\n",
    "# create binary variables for history equal to 2\n",
    "dum_train12 <- mutate(dum_train12, history2=ifelse(History==2,1,0))\n",
    "\n",
    "# create binary variables for history equal to 3\n",
    "dum_train12 <- mutate(dum_train12, history3=ifelse(History==3,1,0))"
   ]
  },
  {
   "cell_type": "code",
   "execution_count": 32,
   "metadata": {},
   "outputs": [],
   "source": [
    "# remove columns\n",
    "dum_train12 <- dum_train12[5:17]"
   ]
  },
  {
   "cell_type": "markdown",
   "metadata": {},
   "source": [
    "##### testing data"
   ]
  },
  {
   "cell_type": "code",
   "execution_count": 33,
   "metadata": {},
   "outputs": [],
   "source": [
    "# create binary variables for duration 12\n",
    "dum_test12 <- mutate(test12, duration12=ifelse(Duration<12,1,0))\n",
    "\n",
    "# create binary variables for duration more than or equal to 12 or less than 22\n",
    "dum_test12 <- mutate(dum_test12, duration12_22=ifelse(Duration>=12&Duration<22,1,0))\n",
    "\n",
    "# create binary variables for duration more than or equal to 22 or less than 26\n",
    "dum_test12 <- mutate(dum_test12, duration22_26=ifelse(Duration>=22&Duration<26,1,0))\n",
    "\n",
    "# create binary variables for duration more than or equal to 26 or less than 32\n",
    "dum_test12 <- mutate(dum_test12, duration26_32=ifelse(Duration>=26&Duration<32,1,0))\n",
    "\n",
    "# create binary variables for savings equal to 1 or 2\n",
    "dum_test12 <- mutate(dum_test12, savings1_2=ifelse(Savings==1|Savings==2,1,0))\n",
    "\n",
    "# create binary variables for savings equal to 3 or 4\n",
    "dum_test12 <- mutate(dum_test12, savings3_4=ifelse(Savings==3|Savings==4,1,0))\n",
    "\n",
    "# create binary variables for property equal to 1\n",
    "dum_test12 <- mutate(dum_test12, property1=ifelse(Property==1,1,0))\n",
    "\n",
    "# create binary variables for property equal to 2\n",
    "dum_test12 <- mutate(dum_test12, property2=ifelse(Property==2,1,0))\n",
    "\n",
    "# create binary variables for property equal to 3\n",
    "dum_test12 <- mutate(dum_test12, property3=ifelse(Property==3,1,0))\n",
    "\n",
    "# create binary variables for history equal to 0 or 1\n",
    "dum_test12 <- mutate(dum_test12, history0_1=ifelse(History==0|History==1,1,0))\n",
    "\n",
    "# create binary variables for history equal to 2\n",
    "dum_test12 <- mutate(dum_test12, history2=ifelse(History==2,1,0))\n",
    "\n",
    "# create binary variables for history equal to 3\n",
    "dum_test12 <- mutate(dum_test12, history3=ifelse(History==3,1,0))\n",
    "\n",
    "# remove columns\n",
    "dum_test12 <- dum_test12[5:17]"
   ]
  },
  {
   "cell_type": "markdown",
   "metadata": {},
   "source": [
    "### Checking 34\n",
    "\n",
    "##### training data"
   ]
  },
  {
   "cell_type": "markdown",
   "metadata": {},
   "source": [
    "###### Age "
   ]
  },
  {
   "cell_type": "code",
   "execution_count": 34,
   "metadata": {},
   "outputs": [
    {
     "data": {
      "text/html": [
       "<table class=\"dataframe\">\n",
       "<caption>A data.table: 6 × 12</caption>\n",
       "<thead>\n",
       "\t<tr><th scope=col>variable</th><th scope=col>bin</th><th scope=col>count</th><th scope=col>count_distr</th><th scope=col>neg</th><th scope=col>pos</th><th scope=col>posprob</th><th scope=col>woe</th><th scope=col>bin_iv</th><th scope=col>total_iv</th><th scope=col>breaks</th><th scope=col>is_special_values</th></tr>\n",
       "\t<tr><th scope=col>&lt;chr&gt;</th><th scope=col>&lt;chr&gt;</th><th scope=col>&lt;int&gt;</th><th scope=col>&lt;dbl&gt;</th><th scope=col>&lt;int&gt;</th><th scope=col>&lt;int&gt;</th><th scope=col>&lt;dbl&gt;</th><th scope=col>&lt;dbl&gt;</th><th scope=col>&lt;dbl&gt;</th><th scope=col>&lt;dbl&gt;</th><th scope=col>&lt;chr&gt;</th><th scope=col>&lt;lgl&gt;</th></tr>\n",
       "</thead>\n",
       "<tbody>\n",
       "\t<tr><td>Age</td><td>[-Inf,24)</td><td> 22</td><td>0.07189542</td><td> 6</td><td> 16</td><td>0.7272727</td><td>-1.0029642</td><td>0.102986981</td><td>0.3116217</td><td>24 </td><td>FALSE</td></tr>\n",
       "\t<tr><td>Age</td><td>[24,28)  </td><td> 49</td><td>0.16013072</td><td> 5</td><td> 44</td><td>0.8979592</td><td> 0.1909583</td><td>0.005429638</td><td>0.3116217</td><td>28 </td><td>FALSE</td></tr>\n",
       "\t<tr><td>Age</td><td>[28,31)  </td><td> 31</td><td>0.10130719</td><td> 7</td><td> 24</td><td>0.7741935</td><td>-0.7516498</td><td>0.075142323</td><td>0.3116217</td><td>31 </td><td>FALSE</td></tr>\n",
       "\t<tr><td>Age</td><td>[31,34)  </td><td> 39</td><td>0.12745098</td><td> 3</td><td> 36</td><td>0.9230769</td><td> 0.5011132</td><td>0.026432676</td><td>0.3116217</td><td>34 </td><td>FALSE</td></tr>\n",
       "\t<tr><td>Age</td><td>[34,36)  </td><td> 28</td><td>0.09150327</td><td> 1</td><td> 27</td><td>0.9642857</td><td> 1.3120434</td><td>0.096231456</td><td>0.3116217</td><td>36 </td><td>FALSE</td></tr>\n",
       "\t<tr><td>Age</td><td>[36, Inf)</td><td>137</td><td>0.44771242</td><td>15</td><td>122</td><td>0.8905109</td><td> 0.1121774</td><td>0.005398670</td><td>0.3116217</td><td>Inf</td><td>FALSE</td></tr>\n",
       "</tbody>\n",
       "</table>\n"
      ],
      "text/latex": [
       "A data.table: 6 × 12\n",
       "\\begin{tabular}{llllllllllll}\n",
       " variable & bin & count & count\\_distr & neg & pos & posprob & woe & bin\\_iv & total\\_iv & breaks & is\\_special\\_values\\\\\n",
       " <chr> & <chr> & <int> & <dbl> & <int> & <int> & <dbl> & <dbl> & <dbl> & <dbl> & <chr> & <lgl>\\\\\n",
       "\\hline\n",
       "\t Age & {[}-Inf,24) &  22 & 0.07189542 &  6 &  16 & 0.7272727 & -1.0029642 & 0.102986981 & 0.3116217 & 24  & FALSE\\\\\n",
       "\t Age & {[}24,28)   &  49 & 0.16013072 &  5 &  44 & 0.8979592 &  0.1909583 & 0.005429638 & 0.3116217 & 28  & FALSE\\\\\n",
       "\t Age & {[}28,31)   &  31 & 0.10130719 &  7 &  24 & 0.7741935 & -0.7516498 & 0.075142323 & 0.3116217 & 31  & FALSE\\\\\n",
       "\t Age & {[}31,34)   &  39 & 0.12745098 &  3 &  36 & 0.9230769 &  0.5011132 & 0.026432676 & 0.3116217 & 34  & FALSE\\\\\n",
       "\t Age & {[}34,36)   &  28 & 0.09150327 &  1 &  27 & 0.9642857 &  1.3120434 & 0.096231456 & 0.3116217 & 36  & FALSE\\\\\n",
       "\t Age & {[}36, Inf) & 137 & 0.44771242 & 15 & 122 & 0.8905109 &  0.1121774 & 0.005398670 & 0.3116217 & Inf & FALSE\\\\\n",
       "\\end{tabular}\n"
      ],
      "text/markdown": [
       "\n",
       "A data.table: 6 × 12\n",
       "\n",
       "| variable &lt;chr&gt; | bin &lt;chr&gt; | count &lt;int&gt; | count_distr &lt;dbl&gt; | neg &lt;int&gt; | pos &lt;int&gt; | posprob &lt;dbl&gt; | woe &lt;dbl&gt; | bin_iv &lt;dbl&gt; | total_iv &lt;dbl&gt; | breaks &lt;chr&gt; | is_special_values &lt;lgl&gt; |\n",
       "|---|---|---|---|---|---|---|---|---|---|---|---|\n",
       "| Age | [-Inf,24) |  22 | 0.07189542 |  6 |  16 | 0.7272727 | -1.0029642 | 0.102986981 | 0.3116217 | 24  | FALSE |\n",
       "| Age | [24,28)   |  49 | 0.16013072 |  5 |  44 | 0.8979592 |  0.1909583 | 0.005429638 | 0.3116217 | 28  | FALSE |\n",
       "| Age | [28,31)   |  31 | 0.10130719 |  7 |  24 | 0.7741935 | -0.7516498 | 0.075142323 | 0.3116217 | 31  | FALSE |\n",
       "| Age | [31,34)   |  39 | 0.12745098 |  3 |  36 | 0.9230769 |  0.5011132 | 0.026432676 | 0.3116217 | 34  | FALSE |\n",
       "| Age | [34,36)   |  28 | 0.09150327 |  1 |  27 | 0.9642857 |  1.3120434 | 0.096231456 | 0.3116217 | 36  | FALSE |\n",
       "| Age | [36, Inf) | 137 | 0.44771242 | 15 | 122 | 0.8905109 |  0.1121774 | 0.005398670 | 0.3116217 | Inf | FALSE |\n",
       "\n"
      ],
      "text/plain": [
       "  variable bin       count count_distr neg pos posprob   woe        bin_iv     \n",
       "1 Age      [-Inf,24)  22   0.07189542   6   16 0.7272727 -1.0029642 0.102986981\n",
       "2 Age      [24,28)    49   0.16013072   5   44 0.8979592  0.1909583 0.005429638\n",
       "3 Age      [28,31)    31   0.10130719   7   24 0.7741935 -0.7516498 0.075142323\n",
       "4 Age      [31,34)    39   0.12745098   3   36 0.9230769  0.5011132 0.026432676\n",
       "5 Age      [34,36)    28   0.09150327   1   27 0.9642857  1.3120434 0.096231456\n",
       "6 Age      [36, Inf) 137   0.44771242  15  122 0.8905109  0.1121774 0.005398670\n",
       "  total_iv  breaks is_special_values\n",
       "1 0.3116217 24     FALSE            \n",
       "2 0.3116217 28     FALSE            \n",
       "3 0.3116217 31     FALSE            \n",
       "4 0.3116217 34     FALSE            \n",
       "5 0.3116217 36     FALSE            \n",
       "6 0.3116217 Inf    FALSE            "
      ]
     },
     "metadata": {},
     "output_type": "display_data"
    }
   ],
   "source": [
    "# visualise the age bin\n",
    "train_bins34$Age"
   ]
  },
  {
   "cell_type": "code",
   "execution_count": 35,
   "metadata": {},
   "outputs": [],
   "source": [
    "# create binary variables for age less than 24\n",
    "dum_train34 <- mutate(train34, age24=ifelse(Age<24,1,0))\n",
    "\n",
    "# create binary variables for age more than or equal to 24 or less than 28\n",
    "dum_train34 <- mutate(dum_train34, age24_28=ifelse(Age>=24&Age<28,1,0))\n",
    "\n",
    "# create binary variables for age more than or equal to 28 or less than 31\n",
    "dum_train34 <- mutate(dum_train34, age28_31=ifelse(Age>=28&Age<31,1,0))\n",
    "\n",
    "# create binary variables for age more than or equal to 31 or less than 34\n",
    "dum_train34 <- mutate(dum_train34, age31_34=ifelse(Age>=31&Age<34,1,0))\n",
    "\n",
    "# create binary variables for age more than or equal to 34 or less than 36\n",
    "dum_train34 <- mutate(dum_train34, age34_36=ifelse(Age>=34&Age<36,1,0))"
   ]
  },
  {
   "cell_type": "markdown",
   "metadata": {},
   "source": [
    "###### History"
   ]
  },
  {
   "cell_type": "code",
   "execution_count": 36,
   "metadata": {},
   "outputs": [
    {
     "data": {
      "text/html": [
       "<table class=\"dataframe\">\n",
       "<caption>A data.table: 3 × 12</caption>\n",
       "<thead>\n",
       "\t<tr><th scope=col>variable</th><th scope=col>bin</th><th scope=col>count</th><th scope=col>count_distr</th><th scope=col>neg</th><th scope=col>pos</th><th scope=col>posprob</th><th scope=col>woe</th><th scope=col>bin_iv</th><th scope=col>total_iv</th><th scope=col>breaks</th><th scope=col>is_special_values</th></tr>\n",
       "\t<tr><th scope=col>&lt;chr&gt;</th><th scope=col>&lt;chr&gt;</th><th scope=col>&lt;int&gt;</th><th scope=col>&lt;dbl&gt;</th><th scope=col>&lt;int&gt;</th><th scope=col>&lt;int&gt;</th><th scope=col>&lt;dbl&gt;</th><th scope=col>&lt;dbl&gt;</th><th scope=col>&lt;dbl&gt;</th><th scope=col>&lt;dbl&gt;</th><th scope=col>&lt;chr&gt;</th><th scope=col>&lt;lgl&gt;</th></tr>\n",
       "</thead>\n",
       "<tbody>\n",
       "\t<tr><td>History</td><td>0%,%1%,%2</td><td>169</td><td>0.5522876</td><td>21</td><td>148</td><td>0.8757396</td><td>-0.03110363</td><td>0.0005406338</td><td>0.2802148</td><td>0%,%1%,%2</td><td>FALSE</td></tr>\n",
       "\t<tr><td>History</td><td>3        </td><td> 32</td><td>0.1045752</td><td> 9</td><td> 23</td><td>0.7187500</td><td>-1.04552383</td><td>0.1649223762</td><td>0.2802148</td><td>3        </td><td>FALSE</td></tr>\n",
       "\t<tr><td>History</td><td>4        </td><td>105</td><td>0.3431373</td><td> 7</td><td> 98</td><td>0.9333333</td><td> 0.65526386</td><td>0.1147518248</td><td>0.2802148</td><td>4        </td><td>FALSE</td></tr>\n",
       "</tbody>\n",
       "</table>\n"
      ],
      "text/latex": [
       "A data.table: 3 × 12\n",
       "\\begin{tabular}{llllllllllll}\n",
       " variable & bin & count & count\\_distr & neg & pos & posprob & woe & bin\\_iv & total\\_iv & breaks & is\\_special\\_values\\\\\n",
       " <chr> & <chr> & <int> & <dbl> & <int> & <int> & <dbl> & <dbl> & <dbl> & <dbl> & <chr> & <lgl>\\\\\n",
       "\\hline\n",
       "\t History & 0\\%,\\%1\\%,\\%2 & 169 & 0.5522876 & 21 & 148 & 0.8757396 & -0.03110363 & 0.0005406338 & 0.2802148 & 0\\%,\\%1\\%,\\%2 & FALSE\\\\\n",
       "\t History & 3         &  32 & 0.1045752 &  9 &  23 & 0.7187500 & -1.04552383 & 0.1649223762 & 0.2802148 & 3         & FALSE\\\\\n",
       "\t History & 4         & 105 & 0.3431373 &  7 &  98 & 0.9333333 &  0.65526386 & 0.1147518248 & 0.2802148 & 4         & FALSE\\\\\n",
       "\\end{tabular}\n"
      ],
      "text/markdown": [
       "\n",
       "A data.table: 3 × 12\n",
       "\n",
       "| variable &lt;chr&gt; | bin &lt;chr&gt; | count &lt;int&gt; | count_distr &lt;dbl&gt; | neg &lt;int&gt; | pos &lt;int&gt; | posprob &lt;dbl&gt; | woe &lt;dbl&gt; | bin_iv &lt;dbl&gt; | total_iv &lt;dbl&gt; | breaks &lt;chr&gt; | is_special_values &lt;lgl&gt; |\n",
       "|---|---|---|---|---|---|---|---|---|---|---|---|\n",
       "| History | 0%,%1%,%2 | 169 | 0.5522876 | 21 | 148 | 0.8757396 | -0.03110363 | 0.0005406338 | 0.2802148 | 0%,%1%,%2 | FALSE |\n",
       "| History | 3         |  32 | 0.1045752 |  9 |  23 | 0.7187500 | -1.04552383 | 0.1649223762 | 0.2802148 | 3         | FALSE |\n",
       "| History | 4         | 105 | 0.3431373 |  7 |  98 | 0.9333333 |  0.65526386 | 0.1147518248 | 0.2802148 | 4         | FALSE |\n",
       "\n"
      ],
      "text/plain": [
       "  variable bin       count count_distr neg pos posprob   woe        \n",
       "1 History  0%,%1%,%2 169   0.5522876   21  148 0.8757396 -0.03110363\n",
       "2 History  3          32   0.1045752    9   23 0.7187500 -1.04552383\n",
       "3 History  4         105   0.3431373    7   98 0.9333333  0.65526386\n",
       "  bin_iv       total_iv  breaks    is_special_values\n",
       "1 0.0005406338 0.2802148 0%,%1%,%2 FALSE            \n",
       "2 0.1649223762 0.2802148 3         FALSE            \n",
       "3 0.1147518248 0.2802148 4         FALSE            "
      ]
     },
     "metadata": {},
     "output_type": "display_data"
    }
   ],
   "source": [
    "# visualise the history bin\n",
    "train_bins34$History"
   ]
  },
  {
   "cell_type": "code",
   "execution_count": 37,
   "metadata": {},
   "outputs": [],
   "source": [
    "# create binary variables for history equal to 0 or 1 or 2\n",
    "dum_train34 <- mutate(dum_train34, history0_1_2=ifelse(History==0|History==1|History==2,1,0))\n",
    "\n",
    "# create binary variables for history equal to 3\n",
    "dum_train34 <- mutate(dum_train34, history3=ifelse(History==3,1,0))"
   ]
  },
  {
   "cell_type": "markdown",
   "metadata": {},
   "source": [
    "###### Duration"
   ]
  },
  {
   "cell_type": "code",
   "execution_count": 38,
   "metadata": {},
   "outputs": [
    {
     "data": {
      "text/html": [
       "<table class=\"dataframe\">\n",
       "<caption>A data.table: 7 × 12</caption>\n",
       "<thead>\n",
       "\t<tr><th scope=col>variable</th><th scope=col>bin</th><th scope=col>count</th><th scope=col>count_distr</th><th scope=col>neg</th><th scope=col>pos</th><th scope=col>posprob</th><th scope=col>woe</th><th scope=col>bin_iv</th><th scope=col>total_iv</th><th scope=col>breaks</th><th scope=col>is_special_values</th></tr>\n",
       "\t<tr><th scope=col>&lt;chr&gt;</th><th scope=col>&lt;chr&gt;</th><th scope=col>&lt;int&gt;</th><th scope=col>&lt;dbl&gt;</th><th scope=col>&lt;int&gt;</th><th scope=col>&lt;int&gt;</th><th scope=col>&lt;dbl&gt;</th><th scope=col>&lt;dbl&gt;</th><th scope=col>&lt;dbl&gt;</th><th scope=col>&lt;dbl&gt;</th><th scope=col>&lt;chr&gt;</th><th scope=col>&lt;lgl&gt;</th></tr>\n",
       "</thead>\n",
       "<tbody>\n",
       "\t<tr><td>Duration</td><td>[-Inf,8) </td><td>30</td><td>0.09803922</td><td> 1</td><td>29</td><td>0.9666667</td><td> 1.38350236</td><td>0.1117588566</td><td>0.3488869</td><td>8  </td><td>FALSE</td></tr>\n",
       "\t<tr><td>Duration</td><td>[8,12)   </td><td>31</td><td>0.10130719</td><td> 4</td><td>27</td><td>0.8709677</td><td>-0.07425096</td><td>0.0005744322</td><td>0.3488869</td><td>12 </td><td>FALSE</td></tr>\n",
       "\t<tr><td>Duration</td><td>[12,16)  </td><td>79</td><td>0.25816993</td><td> 6</td><td>73</td><td>0.9240506</td><td> 0.51490650</td><td>0.0562346399</td><td>0.3488869</td><td>16 </td><td>FALSE</td></tr>\n",
       "\t<tr><td>Duration</td><td>[16,24)  </td><td>46</td><td>0.15032680</td><td>10</td><td>36</td><td>0.7826087</td><td>-0.70285962</td><td>0.0958990622</td><td>0.3488869</td><td>24 </td><td>FALSE</td></tr>\n",
       "\t<tr><td>Duration</td><td>[24,26)  </td><td>61</td><td>0.19934641</td><td> 7</td><td>54</td><td>0.8852459</td><td> 0.05928043</td><td>0.0006849442</td><td>0.3488869</td><td>26 </td><td>FALSE</td></tr>\n",
       "\t<tr><td>Duration</td><td>[26,38)  </td><td>41</td><td>0.13398693</td><td> 8</td><td>33</td><td>0.8048780</td><td>-0.56672745</td><td>0.0530114793</td><td>0.3488869</td><td>38 </td><td>FALSE</td></tr>\n",
       "\t<tr><td>Duration</td><td>[38, Inf)</td><td>18</td><td>0.05882353</td><td> 1</td><td>17</td><td>0.9444444</td><td> 0.84941988</td><td>0.0307235161</td><td>0.3488869</td><td>Inf</td><td>FALSE</td></tr>\n",
       "</tbody>\n",
       "</table>\n"
      ],
      "text/latex": [
       "A data.table: 7 × 12\n",
       "\\begin{tabular}{llllllllllll}\n",
       " variable & bin & count & count\\_distr & neg & pos & posprob & woe & bin\\_iv & total\\_iv & breaks & is\\_special\\_values\\\\\n",
       " <chr> & <chr> & <int> & <dbl> & <int> & <int> & <dbl> & <dbl> & <dbl> & <dbl> & <chr> & <lgl>\\\\\n",
       "\\hline\n",
       "\t Duration & {[}-Inf,8)  & 30 & 0.09803922 &  1 & 29 & 0.9666667 &  1.38350236 & 0.1117588566 & 0.3488869 & 8   & FALSE\\\\\n",
       "\t Duration & {[}8,12)    & 31 & 0.10130719 &  4 & 27 & 0.8709677 & -0.07425096 & 0.0005744322 & 0.3488869 & 12  & FALSE\\\\\n",
       "\t Duration & {[}12,16)   & 79 & 0.25816993 &  6 & 73 & 0.9240506 &  0.51490650 & 0.0562346399 & 0.3488869 & 16  & FALSE\\\\\n",
       "\t Duration & {[}16,24)   & 46 & 0.15032680 & 10 & 36 & 0.7826087 & -0.70285962 & 0.0958990622 & 0.3488869 & 24  & FALSE\\\\\n",
       "\t Duration & {[}24,26)   & 61 & 0.19934641 &  7 & 54 & 0.8852459 &  0.05928043 & 0.0006849442 & 0.3488869 & 26  & FALSE\\\\\n",
       "\t Duration & {[}26,38)   & 41 & 0.13398693 &  8 & 33 & 0.8048780 & -0.56672745 & 0.0530114793 & 0.3488869 & 38  & FALSE\\\\\n",
       "\t Duration & {[}38, Inf) & 18 & 0.05882353 &  1 & 17 & 0.9444444 &  0.84941988 & 0.0307235161 & 0.3488869 & Inf & FALSE\\\\\n",
       "\\end{tabular}\n"
      ],
      "text/markdown": [
       "\n",
       "A data.table: 7 × 12\n",
       "\n",
       "| variable &lt;chr&gt; | bin &lt;chr&gt; | count &lt;int&gt; | count_distr &lt;dbl&gt; | neg &lt;int&gt; | pos &lt;int&gt; | posprob &lt;dbl&gt; | woe &lt;dbl&gt; | bin_iv &lt;dbl&gt; | total_iv &lt;dbl&gt; | breaks &lt;chr&gt; | is_special_values &lt;lgl&gt; |\n",
       "|---|---|---|---|---|---|---|---|---|---|---|---|\n",
       "| Duration | [-Inf,8)  | 30 | 0.09803922 |  1 | 29 | 0.9666667 |  1.38350236 | 0.1117588566 | 0.3488869 | 8   | FALSE |\n",
       "| Duration | [8,12)    | 31 | 0.10130719 |  4 | 27 | 0.8709677 | -0.07425096 | 0.0005744322 | 0.3488869 | 12  | FALSE |\n",
       "| Duration | [12,16)   | 79 | 0.25816993 |  6 | 73 | 0.9240506 |  0.51490650 | 0.0562346399 | 0.3488869 | 16  | FALSE |\n",
       "| Duration | [16,24)   | 46 | 0.15032680 | 10 | 36 | 0.7826087 | -0.70285962 | 0.0958990622 | 0.3488869 | 24  | FALSE |\n",
       "| Duration | [24,26)   | 61 | 0.19934641 |  7 | 54 | 0.8852459 |  0.05928043 | 0.0006849442 | 0.3488869 | 26  | FALSE |\n",
       "| Duration | [26,38)   | 41 | 0.13398693 |  8 | 33 | 0.8048780 | -0.56672745 | 0.0530114793 | 0.3488869 | 38  | FALSE |\n",
       "| Duration | [38, Inf) | 18 | 0.05882353 |  1 | 17 | 0.9444444 |  0.84941988 | 0.0307235161 | 0.3488869 | Inf | FALSE |\n",
       "\n"
      ],
      "text/plain": [
       "  variable bin       count count_distr neg pos posprob   woe        \n",
       "1 Duration [-Inf,8)  30    0.09803922   1  29  0.9666667  1.38350236\n",
       "2 Duration [8,12)    31    0.10130719   4  27  0.8709677 -0.07425096\n",
       "3 Duration [12,16)   79    0.25816993   6  73  0.9240506  0.51490650\n",
       "4 Duration [16,24)   46    0.15032680  10  36  0.7826087 -0.70285962\n",
       "5 Duration [24,26)   61    0.19934641   7  54  0.8852459  0.05928043\n",
       "6 Duration [26,38)   41    0.13398693   8  33  0.8048780 -0.56672745\n",
       "7 Duration [38, Inf) 18    0.05882353   1  17  0.9444444  0.84941988\n",
       "  bin_iv       total_iv  breaks is_special_values\n",
       "1 0.1117588566 0.3488869 8      FALSE            \n",
       "2 0.0005744322 0.3488869 12     FALSE            \n",
       "3 0.0562346399 0.3488869 16     FALSE            \n",
       "4 0.0958990622 0.3488869 24     FALSE            \n",
       "5 0.0006849442 0.3488869 26     FALSE            \n",
       "6 0.0530114793 0.3488869 38     FALSE            \n",
       "7 0.0307235161 0.3488869 Inf    FALSE            "
      ]
     },
     "metadata": {},
     "output_type": "display_data"
    }
   ],
   "source": [
    "# visualise the duration bin\n",
    "train_bins34$Duration"
   ]
  },
  {
   "cell_type": "code",
   "execution_count": 39,
   "metadata": {},
   "outputs": [],
   "source": [
    "# create binary variables for duration less than 8\n",
    "dum_train34 <- mutate(dum_train34, duration8=ifelse(Duration<8,1,0))\n",
    "\n",
    "# create binary variables for duration more than or equal to 8 or less than 12\n",
    "dum_train34 <- mutate(dum_train34, duration8_12=ifelse(Duration>=8&Duration<12,1,0))\n",
    "\n",
    "# create binary variables for duration more than or equal to 12 or less than 16\n",
    "dum_train34 <- mutate(dum_train34, duration12_16=ifelse(Duration>=12&Duration<16,1,0))\n",
    "\n",
    "# create binary variables for duration more than or equal to 16 or less than 24\n",
    "dum_train34 <- mutate(dum_train34, duration16_24=ifelse(Duration>=16&Duration<24,1,0))\n",
    "\n",
    "# create binary variables for duration more than or equal to 24 or less than 26\n",
    "dum_train34 <- mutate(dum_train34, duration24_26=ifelse(Duration>=24&Duration<26,1,0))\n",
    "\n",
    "# create binary variables for duration more than or equal to 26 or less than 38\n",
    "dum_train34 <- mutate(dum_train34, duration26_38=ifelse(Duration>=26&Duration<38,1,0))"
   ]
  },
  {
   "cell_type": "markdown",
   "metadata": {},
   "source": [
    "###### Amount"
   ]
  },
  {
   "cell_type": "code",
   "execution_count": 40,
   "metadata": {},
   "outputs": [
    {
     "data": {
      "text/html": [
       "<table class=\"dataframe\">\n",
       "<caption>A data.table: 7 × 12</caption>\n",
       "<thead>\n",
       "\t<tr><th scope=col>variable</th><th scope=col>bin</th><th scope=col>count</th><th scope=col>count_distr</th><th scope=col>neg</th><th scope=col>pos</th><th scope=col>posprob</th><th scope=col>woe</th><th scope=col>bin_iv</th><th scope=col>total_iv</th><th scope=col>breaks</th><th scope=col>is_special_values</th></tr>\n",
       "\t<tr><th scope=col>&lt;chr&gt;</th><th scope=col>&lt;chr&gt;</th><th scope=col>&lt;int&gt;</th><th scope=col>&lt;dbl&gt;</th><th scope=col>&lt;int&gt;</th><th scope=col>&lt;int&gt;</th><th scope=col>&lt;dbl&gt;</th><th scope=col>&lt;dbl&gt;</th><th scope=col>&lt;dbl&gt;</th><th scope=col>&lt;dbl&gt;</th><th scope=col>&lt;chr&gt;</th><th scope=col>&lt;lgl&gt;</th></tr>\n",
       "</thead>\n",
       "<tbody>\n",
       "\t<tr><td>Amount</td><td>[-Inf,800) </td><td>21</td><td>0.06862745</td><td>4</td><td>17</td><td>0.8095238</td><td>-0.5368745</td><td>0.024111614</td><td>0.2974239</td><td>800 </td><td>FALSE</td></tr>\n",
       "\t<tr><td>Amount</td><td>[800,1600) </td><td>98</td><td>0.32026144</td><td>8</td><td>90</td><td>0.9183673</td><td> 0.4365747</td><td>0.051671350</td><td>0.2974239</td><td>1600</td><td>FALSE</td></tr>\n",
       "\t<tr><td>Amount</td><td>[1600,2200)</td><td>34</td><td>0.11111111</td><td>7</td><td>27</td><td>0.7941176</td><td>-0.6338668</td><td>0.056298423</td><td>0.2974239</td><td>2200</td><td>FALSE</td></tr>\n",
       "\t<tr><td>Amount</td><td>[2200,3000)</td><td>46</td><td>0.15032680</td><td>5</td><td>41</td><td>0.8913043</td><td> 0.1203407</td><td>0.002079634</td><td>0.2974239</td><td>3000</td><td>FALSE</td></tr>\n",
       "\t<tr><td>Amount</td><td>[3000,4400)</td><td>44</td><td>0.14379085</td><td>2</td><td>42</td><td>0.9545455</td><td> 1.0607290</td><td>0.108278975</td><td>0.2974239</td><td>4400</td><td>FALSE</td></tr>\n",
       "\t<tr><td>Amount</td><td>[4400,8000)</td><td>45</td><td>0.14705882</td><td>7</td><td>38</td><td>0.8444444</td><td>-0.2921175</td><td>0.013999802</td><td>0.2974239</td><td>8000</td><td>FALSE</td></tr>\n",
       "\t<tr><td>Amount</td><td>[8000, Inf)</td><td>18</td><td>0.05882353</td><td>4</td><td>14</td><td>0.7777778</td><td>-0.7310305</td><td>0.040984127</td><td>0.2974239</td><td>Inf </td><td>FALSE</td></tr>\n",
       "</tbody>\n",
       "</table>\n"
      ],
      "text/latex": [
       "A data.table: 7 × 12\n",
       "\\begin{tabular}{llllllllllll}\n",
       " variable & bin & count & count\\_distr & neg & pos & posprob & woe & bin\\_iv & total\\_iv & breaks & is\\_special\\_values\\\\\n",
       " <chr> & <chr> & <int> & <dbl> & <int> & <int> & <dbl> & <dbl> & <dbl> & <dbl> & <chr> & <lgl>\\\\\n",
       "\\hline\n",
       "\t Amount & {[}-Inf,800)  & 21 & 0.06862745 & 4 & 17 & 0.8095238 & -0.5368745 & 0.024111614 & 0.2974239 & 800  & FALSE\\\\\n",
       "\t Amount & {[}800,1600)  & 98 & 0.32026144 & 8 & 90 & 0.9183673 &  0.4365747 & 0.051671350 & 0.2974239 & 1600 & FALSE\\\\\n",
       "\t Amount & {[}1600,2200) & 34 & 0.11111111 & 7 & 27 & 0.7941176 & -0.6338668 & 0.056298423 & 0.2974239 & 2200 & FALSE\\\\\n",
       "\t Amount & {[}2200,3000) & 46 & 0.15032680 & 5 & 41 & 0.8913043 &  0.1203407 & 0.002079634 & 0.2974239 & 3000 & FALSE\\\\\n",
       "\t Amount & {[}3000,4400) & 44 & 0.14379085 & 2 & 42 & 0.9545455 &  1.0607290 & 0.108278975 & 0.2974239 & 4400 & FALSE\\\\\n",
       "\t Amount & {[}4400,8000) & 45 & 0.14705882 & 7 & 38 & 0.8444444 & -0.2921175 & 0.013999802 & 0.2974239 & 8000 & FALSE\\\\\n",
       "\t Amount & {[}8000, Inf) & 18 & 0.05882353 & 4 & 14 & 0.7777778 & -0.7310305 & 0.040984127 & 0.2974239 & Inf  & FALSE\\\\\n",
       "\\end{tabular}\n"
      ],
      "text/markdown": [
       "\n",
       "A data.table: 7 × 12\n",
       "\n",
       "| variable &lt;chr&gt; | bin &lt;chr&gt; | count &lt;int&gt; | count_distr &lt;dbl&gt; | neg &lt;int&gt; | pos &lt;int&gt; | posprob &lt;dbl&gt; | woe &lt;dbl&gt; | bin_iv &lt;dbl&gt; | total_iv &lt;dbl&gt; | breaks &lt;chr&gt; | is_special_values &lt;lgl&gt; |\n",
       "|---|---|---|---|---|---|---|---|---|---|---|---|\n",
       "| Amount | [-Inf,800)  | 21 | 0.06862745 | 4 | 17 | 0.8095238 | -0.5368745 | 0.024111614 | 0.2974239 | 800  | FALSE |\n",
       "| Amount | [800,1600)  | 98 | 0.32026144 | 8 | 90 | 0.9183673 |  0.4365747 | 0.051671350 | 0.2974239 | 1600 | FALSE |\n",
       "| Amount | [1600,2200) | 34 | 0.11111111 | 7 | 27 | 0.7941176 | -0.6338668 | 0.056298423 | 0.2974239 | 2200 | FALSE |\n",
       "| Amount | [2200,3000) | 46 | 0.15032680 | 5 | 41 | 0.8913043 |  0.1203407 | 0.002079634 | 0.2974239 | 3000 | FALSE |\n",
       "| Amount | [3000,4400) | 44 | 0.14379085 | 2 | 42 | 0.9545455 |  1.0607290 | 0.108278975 | 0.2974239 | 4400 | FALSE |\n",
       "| Amount | [4400,8000) | 45 | 0.14705882 | 7 | 38 | 0.8444444 | -0.2921175 | 0.013999802 | 0.2974239 | 8000 | FALSE |\n",
       "| Amount | [8000, Inf) | 18 | 0.05882353 | 4 | 14 | 0.7777778 | -0.7310305 | 0.040984127 | 0.2974239 | Inf  | FALSE |\n",
       "\n"
      ],
      "text/plain": [
       "  variable bin         count count_distr neg pos posprob   woe       \n",
       "1 Amount   [-Inf,800)  21    0.06862745  4   17  0.8095238 -0.5368745\n",
       "2 Amount   [800,1600)  98    0.32026144  8   90  0.9183673  0.4365747\n",
       "3 Amount   [1600,2200) 34    0.11111111  7   27  0.7941176 -0.6338668\n",
       "4 Amount   [2200,3000) 46    0.15032680  5   41  0.8913043  0.1203407\n",
       "5 Amount   [3000,4400) 44    0.14379085  2   42  0.9545455  1.0607290\n",
       "6 Amount   [4400,8000) 45    0.14705882  7   38  0.8444444 -0.2921175\n",
       "7 Amount   [8000, Inf) 18    0.05882353  4   14  0.7777778 -0.7310305\n",
       "  bin_iv      total_iv  breaks is_special_values\n",
       "1 0.024111614 0.2974239 800    FALSE            \n",
       "2 0.051671350 0.2974239 1600   FALSE            \n",
       "3 0.056298423 0.2974239 2200   FALSE            \n",
       "4 0.002079634 0.2974239 3000   FALSE            \n",
       "5 0.108278975 0.2974239 4400   FALSE            \n",
       "6 0.013999802 0.2974239 8000   FALSE            \n",
       "7 0.040984127 0.2974239 Inf    FALSE            "
      ]
     },
     "metadata": {},
     "output_type": "display_data"
    }
   ],
   "source": [
    "# visualise the amount bin\n",
    "train_bins34$Amount"
   ]
  },
  {
   "cell_type": "code",
   "execution_count": 41,
   "metadata": {},
   "outputs": [],
   "source": [
    "# create binary variables for amount less than 800\n",
    "dum_train34 <- mutate(dum_train34, amount800=ifelse(Amount<800,1,0))\n",
    "\n",
    "# create binary variables for duration more than or equal to 800 or less than 1600\n",
    "dum_train34 <- mutate(dum_train34, amount800_1600=ifelse(Amount>=800&Amount<1600,1,0))\n",
    "\n",
    "# create binary variables for duration more than or equal to 1600 or less than 2200\n",
    "dum_train34 <- mutate(dum_train34, amount1600_2200=ifelse(Amount>=1600&Amount<2200,1,0))\n",
    "\n",
    "# create binary variables for duration more than or equal to 2200 or less than 3000\n",
    "dum_train34 <- mutate(dum_train34, amount2200_3000=ifelse(Amount>=2200&Amount<3000,1,0))\n",
    "\n",
    "# create binary variables for duration more than or equal to 3000 or less than 4400\n",
    "dum_train34 <- mutate(dum_train34, amount3000_4400=ifelse(Amount>=3000&Amount<4400,1,0))\n",
    "\n",
    "# create binary variables for duration more than or equal to 4400 or less than 8000\n",
    "dum_train34 <- mutate(dum_train34, amount4400_8000=ifelse(Amount>=4400&Amount<8000,1,0))"
   ]
  },
  {
   "cell_type": "code",
   "execution_count": 42,
   "metadata": {},
   "outputs": [],
   "source": [
    "# remove columns\n",
    "dum_train34 <- dum_train34[5:24]"
   ]
  },
  {
   "cell_type": "markdown",
   "metadata": {},
   "source": [
    "#### testing data"
   ]
  },
  {
   "cell_type": "code",
   "execution_count": 43,
   "metadata": {},
   "outputs": [],
   "source": [
    "# create binary variables for age less than 24\n",
    "dum_test34 <- mutate(test34, age24=ifelse(Age<24,1,0))\n",
    "\n",
    "# create binary variables for age more than or equal to 24 or less than 28\n",
    "dum_test34 <- mutate(dum_test34, age24_28=ifelse(Age>=24&Age<28,1,0))\n",
    "\n",
    "# create binary variables for age more than or equal to 28 or less than 31\n",
    "dum_test34 <- mutate(dum_test34, age28_31=ifelse(Age>=28&Age<31,1,0))\n",
    "\n",
    "# create binary variables for age more than or equal to 31 or less than 34\n",
    "dum_test34 <- mutate(dum_test34, age31_34=ifelse(Age>=31&Age<34,1,0))\n",
    "\n",
    "# create binary variables for age more than or equal to 34 or less than 36\n",
    "dum_test34 <- mutate(dum_test34, age34_36=ifelse(Age>=34&Age<36,1,0))\n",
    "\n",
    "# create binary variables for history equal to 0 or 1 or 2\n",
    "dum_test34 <- mutate(dum_test34, history0_1_2=ifelse(History==0|History==1|History==2,1,0))\n",
    "\n",
    "# create binary variables for history equal to 3\n",
    "dum_test34 <- mutate(dum_test34, history3=ifelse(History==3,1,0))\n",
    "\n",
    "# create binary variables for duration less than 8\n",
    "dum_test34 <- mutate(dum_test34, duration8=ifelse(Duration<8,1,0))\n",
    "\n",
    "# create binary variables for duration more than or equal to 8 or less than 12\n",
    "dum_test34 <- mutate(dum_test34, duration8_12=ifelse(Duration>=8&Duration<12,1,0))\n",
    "\n",
    "# create binary variables for duration more than or equal to 12 or less than 16\n",
    "dum_test34 <- mutate(dum_test34, duration12_16=ifelse(Duration>=12&Duration<16,1,0))\n",
    "\n",
    "# create binary variables for duration more than or equal to 16 or less than 24\n",
    "dum_test34 <- mutate(dum_test34, duration16_24=ifelse(Duration>=16&Duration<24,1,0))\n",
    "\n",
    "# create binary variables for duration more than or equal to 24 or less than 26\n",
    "dum_test34 <- mutate(dum_test34, duration24_26=ifelse(Duration>=24&Duration<26,1,0))\n",
    "\n",
    "# create binary variables for duration more than or equal to 26 or less than 38\n",
    "dum_test34 <- mutate(dum_test34, duration26_38=ifelse(Duration>=26&Duration<38,1,0))\n",
    "\n",
    "# create binary variables for amount less than 800\n",
    "dum_test34 <- mutate(dum_test34, amount800=ifelse(Amount<800,1,0))\n",
    "\n",
    "# create binary variables for duration more than or equal to 800 or less than 1600\n",
    "dum_test34 <- mutate(dum_test34, amount800_1600=ifelse(Amount>=800&Amount<1600,1,0))\n",
    "\n",
    "# create binary variables for duration more than or equal to 1600 or less than 2200\n",
    "dum_test34 <- mutate(dum_test34, amount1600_2200=ifelse(Amount>=1600&Amount<2200,1,0))\n",
    "\n",
    "# create binary variables for duration more than or equal to 2200 or less than 3000\n",
    "dum_test34 <- mutate(dum_test34, amount2200_3000=ifelse(Amount>=2200&Amount<3000,1,0))\n",
    "\n",
    "# create binary variables for duration more than or equal to 3000 or less than 4400\n",
    "dum_test34 <- mutate(dum_test34, amount3000_4400=ifelse(Amount>=3000&Amount<4400,1,0))\n",
    "\n",
    "# create binary variables for duration more than or equal to 4400 or less than 8000\n",
    "dum_test34 <- mutate(dum_test34, amount4400_8000=ifelse(Amount>=4400&Amount<8000,1,0))\n",
    "\n",
    "# remove columns\n",
    "dum_test34 <- dum_test34[5:24]"
   ]
  },
  {
   "cell_type": "markdown",
   "metadata": {},
   "source": [
    "# Model\n",
    "\n",
    "### Checking 12 linear regression"
   ]
  },
  {
   "cell_type": "code",
   "execution_count": 44,
   "metadata": {},
   "outputs": [
    {
     "data": {
      "text/plain": [
       "\n",
       "Call:\n",
       "lm(formula = Good ~ ., data = dum_train12)\n",
       "\n",
       "Residuals:\n",
       "    Min      1Q  Median      3Q     Max \n",
       "-0.9231 -0.4495  0.1247  0.3755  0.8732 \n",
       "\n",
       "Coefficients:\n",
       "               Estimate Std. Error t value Pr(>|t|)    \n",
       "(Intercept)    0.637080   0.103314   6.166 1.93e-09 ***\n",
       "duration12     0.346946   0.085753   4.046 6.42e-05 ***\n",
       "duration12_22  0.201071   0.071934   2.795 0.005473 ** \n",
       "duration22_26  0.092212   0.080613   1.144 0.253458    \n",
       "duration26_32  0.239946   0.111487   2.152 0.032064 *  \n",
       "savings1_2    -0.250631   0.070911  -3.534 0.000464 ***\n",
       "savings3_4    -0.025891   0.113077  -0.229 0.819026    \n",
       "property1      0.189734   0.079056   2.400 0.016918 *  \n",
       "property2      0.003406   0.079526   0.043 0.965866    \n",
       "property3      0.032383   0.072724   0.445 0.656392    \n",
       "history0_1    -0.259644   0.089907  -2.888 0.004120 ** \n",
       "history2      -0.126668   0.062178  -2.037 0.042385 *  \n",
       "history3      -0.109828   0.101444  -1.083 0.279713    \n",
       "---\n",
       "Signif. codes:  0 '***' 0.001 '**' 0.01 '*' 0.05 '.' 0.1 ' ' 1\n",
       "\n",
       "Residual standard error: 0.4614 on 349 degrees of freedom\n",
       "Multiple R-squared:   0.17,\tAdjusted R-squared:  0.1415 \n",
       "F-statistic: 5.957 on 12 and 349 DF,  p-value: 1.822e-09\n"
      ]
     },
     "metadata": {},
     "output_type": "display_data"
    }
   ],
   "source": [
    "# linear regression model for subset 1\n",
    "model12_lin<- lm(Good~., data=dum_train12)\n",
    "summary(model12_lin)"
   ]
  },
  {
   "cell_type": "markdown",
   "metadata": {},
   "source": [
    "### Checking 12 logistic regression"
   ]
  },
  {
   "cell_type": "code",
   "execution_count": 45,
   "metadata": {},
   "outputs": [
    {
     "data": {
      "text/plain": [
       "\n",
       "Call:\n",
       "glm(formula = Good ~ ., family = \"binomial\", data = dum_train12)\n",
       "\n",
       "Deviance Residuals: \n",
       "    Min       1Q   Median       3Q      Max  \n",
       "-2.1272  -1.0704   0.5326   0.9288   1.9544  \n",
       "\n",
       "Coefficients:\n",
       "              Estimate Std. Error z value Pr(>|z|)    \n",
       "(Intercept)    0.77671    0.50205   1.547 0.121843    \n",
       "duration12     1.67181    0.42910   3.896 9.78e-05 ***\n",
       "duration12_22  0.86650    0.33782   2.565 0.010319 *  \n",
       "duration22_26  0.40952    0.37820   1.083 0.278884    \n",
       "duration26_32  1.05302    0.51527   2.044 0.040988 *  \n",
       "savings1_2    -1.23612    0.35815  -3.451 0.000558 ***\n",
       "savings3_4    -0.03779    0.61897  -0.061 0.951321    \n",
       "property1      0.94008    0.37974   2.476 0.013301 *  \n",
       "property2      0.02789    0.37232   0.075 0.940291    \n",
       "property3      0.16895    0.34241   0.493 0.621716    \n",
       "history0_1    -1.29004    0.44216  -2.918 0.003527 ** \n",
       "history2      -0.66416    0.30902  -2.149 0.031613 *  \n",
       "history3      -0.60323    0.48330  -1.248 0.211972    \n",
       "---\n",
       "Signif. codes:  0 '***' 0.001 '**' 0.01 '*' 0.05 '.' 0.1 ' ' 1\n",
       "\n",
       "(Dispersion parameter for binomial family taken to be 1)\n",
       "\n",
       "    Null deviance: 497.84  on 361  degrees of freedom\n",
       "Residual deviance: 430.25  on 349  degrees of freedom\n",
       "AIC: 456.25\n",
       "\n",
       "Number of Fisher Scoring iterations: 4\n"
      ]
     },
     "metadata": {},
     "output_type": "display_data"
    }
   ],
   "source": [
    "# logistic regression for subset 1\n",
    "model12_log <- glm(Good~., data=dum_train12, family='binomial')\n",
    "summary(model12_log)"
   ]
  },
  {
   "cell_type": "markdown",
   "metadata": {},
   "source": [
    "### Checking 34 linear regression"
   ]
  },
  {
   "cell_type": "code",
   "execution_count": 46,
   "metadata": {},
   "outputs": [
    {
     "data": {
      "text/plain": [
       "\n",
       "Call:\n",
       "lm(formula = Good ~ ., data = dum_train34)\n",
       "\n",
       "Residuals:\n",
       "     Min       1Q   Median       3Q      Max \n",
       "-0.99124  0.01450  0.07852  0.16174  0.42229 \n",
       "\n",
       "Coefficients:\n",
       "                Estimate Std. Error t value Pr(>|t|)    \n",
       "(Intercept)      0.94530    0.09128  10.356  < 2e-16 ***\n",
       "age24           -0.13848    0.07439  -1.862  0.06369 .  \n",
       "age24_28         0.03201    0.05435   0.589  0.55629    \n",
       "age28_31        -0.05647    0.06463  -0.874  0.38297    \n",
       "age31_34         0.05202    0.05852   0.889  0.37480    \n",
       "age34_36         0.10275    0.06643   1.547  0.12306    \n",
       "history0_1_2    -0.04529    0.04064  -1.114  0.26611    \n",
       "history3        -0.18324    0.06829  -2.683  0.00771 ** \n",
       "duration8       -0.03372    0.11588  -0.291  0.77123    \n",
       "duration8_12    -0.15341    0.11375  -1.349  0.17850    \n",
       "duration12_16   -0.09908    0.10454  -0.948  0.34408    \n",
       "duration16_24   -0.21241    0.10720  -1.981  0.04850 *  \n",
       "duration24_26   -0.14807    0.10330  -1.433  0.15286    \n",
       "duration26_38   -0.15508    0.10041  -1.544  0.12359    \n",
       "amount800        0.03150    0.12528   0.251  0.80164    \n",
       "amount800_1600   0.12575    0.10661   1.179  0.23918    \n",
       "amount1600_2200  0.02858    0.11368   0.251  0.80168    \n",
       "amount2200_3000  0.13654    0.10712   1.275  0.20345    \n",
       "amount3000_4400  0.18035    0.10744   1.679  0.09431 .  \n",
       "amount4400_8000  0.04799    0.10134   0.474  0.63615    \n",
       "---\n",
       "Signif. codes:  0 '***' 0.001 '**' 0.01 '*' 0.05 '.' 0.1 ' ' 1\n",
       "\n",
       "Residual standard error: 0.3164 on 286 degrees of freedom\n",
       "Multiple R-squared:  0.1196,\tAdjusted R-squared:  0.06107 \n",
       "F-statistic: 2.044 on 19 and 286 DF,  p-value: 0.006899\n"
      ]
     },
     "metadata": {},
     "output_type": "display_data"
    }
   ],
   "source": [
    "# linear regression model for subset 2\n",
    "model34_lin <- lm(Good~., data=dum_train34)\n",
    "summary(model34_lin)"
   ]
  },
  {
   "cell_type": "markdown",
   "metadata": {},
   "source": [
    "### Checking 34 logistic regression"
   ]
  },
  {
   "cell_type": "code",
   "execution_count": 47,
   "metadata": {},
   "outputs": [
    {
     "data": {
      "text/plain": [
       "\n",
       "Call:\n",
       "glm(formula = Good ~ ., family = \"binomial\", data = dum_train12)\n",
       "\n",
       "Deviance Residuals: \n",
       "    Min       1Q   Median       3Q      Max  \n",
       "-2.1272  -1.0704   0.5326   0.9288   1.9544  \n",
       "\n",
       "Coefficients:\n",
       "              Estimate Std. Error z value Pr(>|z|)    \n",
       "(Intercept)    0.77671    0.50205   1.547 0.121843    \n",
       "duration12     1.67181    0.42910   3.896 9.78e-05 ***\n",
       "duration12_22  0.86650    0.33782   2.565 0.010319 *  \n",
       "duration22_26  0.40952    0.37820   1.083 0.278884    \n",
       "duration26_32  1.05302    0.51527   2.044 0.040988 *  \n",
       "savings1_2    -1.23612    0.35815  -3.451 0.000558 ***\n",
       "savings3_4    -0.03779    0.61897  -0.061 0.951321    \n",
       "property1      0.94008    0.37974   2.476 0.013301 *  \n",
       "property2      0.02789    0.37232   0.075 0.940291    \n",
       "property3      0.16895    0.34241   0.493 0.621716    \n",
       "history0_1    -1.29004    0.44216  -2.918 0.003527 ** \n",
       "history2      -0.66416    0.30902  -2.149 0.031613 *  \n",
       "history3      -0.60323    0.48330  -1.248 0.211972    \n",
       "---\n",
       "Signif. codes:  0 '***' 0.001 '**' 0.01 '*' 0.05 '.' 0.1 ' ' 1\n",
       "\n",
       "(Dispersion parameter for binomial family taken to be 1)\n",
       "\n",
       "    Null deviance: 497.84  on 361  degrees of freedom\n",
       "Residual deviance: 430.25  on 349  degrees of freedom\n",
       "AIC: 456.25\n",
       "\n",
       "Number of Fisher Scoring iterations: 4\n"
      ]
     },
     "metadata": {},
     "output_type": "display_data"
    }
   ],
   "source": [
    "# logistic regression for subset 2\n",
    "model34_log <- glm(Good~., data=dum_train34, family='binomial')\n",
    "summary(model12_log)"
   ]
  },
  {
   "cell_type": "markdown",
   "metadata": {},
   "source": [
    "# Evaluation\n",
    "\n",
    "### checking 12 linear regression"
   ]
  },
  {
   "cell_type": "code",
   "execution_count": 48,
   "metadata": {},
   "outputs": [
    {
     "data": {
      "image/png": "[encoded data removed]",
      "text/plain": [
       "plot without title"
      ]
     },
     "metadata": {},
     "output_type": "display_data"
    }
   ],
   "source": [
    "model12_lin_pred_prob <- predict(model12_lin, dum_test12, type=c(\"response\"))\n",
    "\n",
    "dum_test12$prob <- model12_lin_pred_prob\n",
    "\n",
    "ROC_curve <- roc(Good ~ prob, data=dum_test12, \n",
    "                 levels=c(0,1), direction='<')\n",
    "\n",
    "options(repr.plot.width=4, repr.plot.height=4)\n",
    "\n",
    "plot(ROC_curve)"
   ]
  },
  {
   "cell_type": "markdown",
   "metadata": {},
   "source": [
    "##### AUC"
   ]
  },
  {
   "cell_type": "code",
   "execution_count": 49,
   "metadata": {},
   "outputs": [
    {
     "data": {
      "text/html": [
       "0.676935524022903"
      ],
      "text/latex": [
       "0.676935524022903"
      ],
      "text/markdown": [
       "0.676935524022903"
      ],
      "text/plain": [
       "Area under the curve: 0.6769"
      ]
     },
     "metadata": {},
     "output_type": "display_data"
    },
    {
     "data": {
      "text/html": [
       "<style>\n",
       ".dl-inline {width: auto; margin:0; padding: 0}\n",
       ".dl-inline>dt, .dl-inline>dd {float: none; width: auto; display: inline-block}\n",
       ".dl-inline>dt::after {content: \":\\0020\"; padding-right: .5ex}\n",
       ".dl-inline>dt:not(:first-of-type) {padding-left: .5ex}\n",
       "</style><dl class=dl-inline><dt>2.5%</dt><dd>0.593851132686084</dd><dt>50%</dt><dd>0.675815285038586</dd><dt>97.5%</dt><dd>0.752867500622355</dd></dl>\n"
      ],
      "text/latex": [
       "\\begin{description*}\n",
       "\\item[2.5\\textbackslash{}\\%] 0.593851132686084\n",
       "\\item[50\\textbackslash{}\\%] 0.675815285038586\n",
       "\\item[97.5\\textbackslash{}\\%] 0.752867500622355\n",
       "\\end{description*}\n"
      ],
      "text/markdown": [
       "2.5%\n",
       ":   0.59385113268608450%\n",
       ":   0.67581528503858697.5%\n",
       ":   0.752867500622355\n",
       "\n"
      ],
      "text/plain": [
       "95% CI: 0.5939-0.7529 (2000 stratified bootstrap replicates)"
      ]
     },
     "metadata": {},
     "output_type": "display_data"
    }
   ],
   "source": [
    "lin12_auc <- auc(ROC_curve)\n",
    "lin12_auc\n",
    "# confidence limits for the auc:\n",
    "ci(auc(ROC_curve), method = \"bootstrap\")"
   ]
  },
  {
   "cell_type": "markdown",
   "metadata": {},
   "source": [
    "##### Gini"
   ]
  },
  {
   "cell_type": "code",
   "execution_count": 50,
   "metadata": {},
   "outputs": [
    {
     "data": {
      "text/html": [
       "0.353871048045805"
      ],
      "text/latex": [
       "0.353871048045805"
      ],
      "text/markdown": [
       "0.353871048045805"
      ],
      "text/plain": [
       "[1] 0.353871"
      ]
     },
     "metadata": {},
     "output_type": "display_data"
    }
   ],
   "source": [
    "# gini coefficient:\n",
    "lin12_gini <- 2 * (auc(ROC_curve) - 0.5)\n",
    "lin12_gini"
   ]
  },
  {
   "cell_type": "markdown",
   "metadata": {},
   "source": [
    "##### KS statistic"
   ]
  },
  {
   "cell_type": "code",
   "execution_count": 51,
   "metadata": {},
   "outputs": [
    {
     "data": {
      "text/html": [
       "0.274707493154095"
      ],
      "text/latex": [
       "0.274707493154095"
      ],
      "text/markdown": [
       "0.274707493154095"
      ],
      "text/plain": [
       "[1] 0.2747075"
      ]
     },
     "metadata": {},
     "output_type": "display_data"
    }
   ],
   "source": [
    "model12_lin_pred <- predict(model12_lin, dum_test12, type=c(\"response\"))\n",
    "\n",
    "model12_lin_prob <- prediction(model12_lin_pred, dum_test12$Good)\n",
    "\n",
    "perf <- performance(model12_lin_prob,\"tpr\",\"fpr\")\n",
    "\n",
    "lin12_ks <- max(attr(perf,'y.values')[[1]]-attr(perf,'x.values')[[1]])\n",
    "lin12_ks"
   ]
  },
  {
   "cell_type": "markdown",
   "metadata": {},
   "source": [
    "### Checking 12 logistic regression"
   ]
  },
  {
   "cell_type": "code",
   "execution_count": 52,
   "metadata": {},
   "outputs": [
    {
     "data": {
      "image/png": "[encoded data removed]",
      "text/plain": [
       "plot without title"
      ]
     },
     "metadata": {},
     "output_type": "display_data"
    }
   ],
   "source": [
    "model12_log_pred_prob <- predict(model12_log, dum_test12, type=c(\"response\"))\n",
    "\n",
    "dum_test12$prob <- model12_log_pred_prob\n",
    "\n",
    "ROC_curve <- roc(Good ~ prob, data=dum_test12, \n",
    "                 levels=c(0,1), direction='<')\n",
    "\n",
    "options(repr.plot.width=4, repr.plot.height=4)\n",
    "\n",
    "plot(ROC_curve)"
   ]
  },
  {
   "cell_type": "markdown",
   "metadata": {},
   "source": [
    "##### AUC"
   ]
  },
  {
   "cell_type": "code",
   "execution_count": 53,
   "metadata": {},
   "outputs": [
    {
     "data": {
      "text/html": [
       "0.674819517052527"
      ],
      "text/latex": [
       "0.674819517052527"
      ],
      "text/markdown": [
       "0.674819517052527"
      ],
      "text/plain": [
       "Area under the curve: 0.6748"
      ]
     },
     "metadata": {},
     "output_type": "display_data"
    },
    {
     "data": {
      "text/html": [
       "<style>\n",
       ".dl-inline {width: auto; margin:0; padding: 0}\n",
       ".dl-inline>dt, .dl-inline>dd {float: none; width: auto; display: inline-block}\n",
       ".dl-inline>dt::after {content: \":\\0020\"; padding-right: .5ex}\n",
       ".dl-inline>dt:not(:first-of-type) {padding-left: .5ex}\n",
       "</style><dl class=dl-inline><dt>2.5%</dt><dd>0.595903348269853</dd><dt>50%</dt><dd>0.674663928304705</dd><dt>97.5%</dt><dd>0.750127582773214</dd></dl>\n"
      ],
      "text/latex": [
       "\\begin{description*}\n",
       "\\item[2.5\\textbackslash{}\\%] 0.595903348269853\n",
       "\\item[50\\textbackslash{}\\%] 0.674663928304705\n",
       "\\item[97.5\\textbackslash{}\\%] 0.750127582773214\n",
       "\\end{description*}\n"
      ],
      "text/markdown": [
       "2.5%\n",
       ":   0.59590334826985350%\n",
       ":   0.67466392830470597.5%\n",
       ":   0.750127582773214\n",
       "\n"
      ],
      "text/plain": [
       "95% CI: 0.5959-0.7501 (2000 stratified bootstrap replicates)"
      ]
     },
     "metadata": {},
     "output_type": "display_data"
    }
   ],
   "source": [
    "log12_auc <- auc(ROC_curve)\n",
    "log12_auc\n",
    "# confidence limits for the auc:\n",
    "ci(auc(ROC_curve), method = \"bootstrap\")"
   ]
  },
  {
   "cell_type": "markdown",
   "metadata": {},
   "source": [
    "##### Gini"
   ]
  },
  {
   "cell_type": "code",
   "execution_count": 54,
   "metadata": {},
   "outputs": [
    {
     "data": {
      "text/html": [
       "0.349639034105053"
      ],
      "text/latex": [
       "0.349639034105053"
      ],
      "text/markdown": [
       "0.349639034105053"
      ],
      "text/plain": [
       "[1] 0.349639"
      ]
     },
     "metadata": {},
     "output_type": "display_data"
    }
   ],
   "source": [
    "# gini coefficient:\n",
    "log12_gini <- 2 * (auc(ROC_curve) - 0.5)\n",
    "log12_gini"
   ]
  },
  {
   "cell_type": "markdown",
   "metadata": {},
   "source": [
    "##### KS statistic"
   ]
  },
  {
   "cell_type": "code",
   "execution_count": 55,
   "metadata": {},
   "outputs": [
    {
     "data": {
      "text/html": [
       "0.274707493154095"
      ],
      "text/latex": [
       "0.274707493154095"
      ],
      "text/markdown": [
       "0.274707493154095"
      ],
      "text/plain": [
       "[1] 0.2747075"
      ]
     },
     "metadata": {},
     "output_type": "display_data"
    }
   ],
   "source": [
    "model12_log_pred <- predict(model12_log, dum_test12, type=c(\"response\"))\n",
    "\n",
    "model12_log_prob <- prediction(model12_log_pred, dum_test12$Good)\n",
    "\n",
    "perf <- performance(model12_log_prob,\"tpr\",\"fpr\")\n",
    "\n",
    "log12_ks <- max(attr(perf,'y.values')[[1]]-attr(perf,'x.values')[[1]])\n",
    "log12_ks"
   ]
  },
  {
   "cell_type": "markdown",
   "metadata": {},
   "source": [
    "### Checking 34 linear regression"
   ]
  },
  {
   "cell_type": "code",
   "execution_count": 56,
   "metadata": {},
   "outputs": [
    {
     "data": {
      "image/png": "[encoded data removed]",
      "text/plain": [
       "plot without title"
      ]
     },
     "metadata": {},
     "output_type": "display_data"
    }
   ],
   "source": [
    "model34_lin_pred_prob <- predict(model34_lin, dum_test34, type=c(\"response\"))\n",
    "\n",
    "dum_test34$prob <- model34_lin_pred_prob\n",
    "\n",
    "ROC_curve <- roc(Good ~ prob, data=dum_test34, \n",
    "                 levels=c(0,1), direction='<')\n",
    "\n",
    "options(repr.plot.width=4, repr.plot.height=4)\n",
    "\n",
    "plot(ROC_curve)"
   ]
  },
  {
   "cell_type": "markdown",
   "metadata": {},
   "source": [
    "##### AUC"
   ]
  },
  {
   "cell_type": "code",
   "execution_count": 57,
   "metadata": {},
   "outputs": [
    {
     "data": {
      "text/html": [
       "0.511209239130435"
      ],
      "text/latex": [
       "0.511209239130435"
      ],
      "text/markdown": [
       "0.511209239130435"
      ],
      "text/plain": [
       "Area under the curve: 0.5112"
      ]
     },
     "metadata": {},
     "output_type": "display_data"
    },
    {
     "data": {
      "text/html": [
       "<style>\n",
       ".dl-inline {width: auto; margin:0; padding: 0}\n",
       ".dl-inline>dt, .dl-inline>dd {float: none; width: auto; display: inline-block}\n",
       ".dl-inline>dt::after {content: \":\\0020\"; padding-right: .5ex}\n",
       ".dl-inline>dt:not(:first-of-type) {padding-left: .5ex}\n",
       "</style><dl class=dl-inline><dt>2.5%</dt><dd>0.3787109375</dd><dt>50%</dt><dd>0.509171195652174</dd><dt>97.5%</dt><dd>0.635190217391304</dd></dl>\n"
      ],
      "text/latex": [
       "\\begin{description*}\n",
       "\\item[2.5\\textbackslash{}\\%] 0.3787109375\n",
       "\\item[50\\textbackslash{}\\%] 0.509171195652174\n",
       "\\item[97.5\\textbackslash{}\\%] 0.635190217391304\n",
       "\\end{description*}\n"
      ],
      "text/markdown": [
       "2.5%\n",
       ":   0.378710937550%\n",
       ":   0.50917119565217497.5%\n",
       ":   0.635190217391304\n",
       "\n"
      ],
      "text/plain": [
       "95% CI: 0.3787-0.6352 (2000 stratified bootstrap replicates)"
      ]
     },
     "metadata": {},
     "output_type": "display_data"
    }
   ],
   "source": [
    "lin34_auc <- auc(ROC_curve)\n",
    "lin34_auc\n",
    "# confidence limits for the auc:\n",
    "ci(auc(ROC_curve), method = \"bootstrap\")"
   ]
  },
  {
   "cell_type": "markdown",
   "metadata": {},
   "source": [
    "##### Gini"
   ]
  },
  {
   "cell_type": "code",
   "execution_count": 58,
   "metadata": {},
   "outputs": [
    {
     "data": {
      "text/html": [
       "0.0224184782608696"
      ],
      "text/latex": [
       "0.0224184782608696"
      ],
      "text/markdown": [
       "0.0224184782608696"
      ],
      "text/plain": [
       "[1] 0.02241848"
      ]
     },
     "metadata": {},
     "output_type": "display_data"
    }
   ],
   "source": [
    "# gini coefficient:\n",
    "lin34_gini <- 2 * (auc(ROC_curve) - 0.5)\n",
    "lin34_gini"
   ]
  },
  {
   "cell_type": "markdown",
   "metadata": {},
   "source": [
    "##### KS statistic"
   ]
  },
  {
   "cell_type": "code",
   "execution_count": 59,
   "metadata": {},
   "outputs": [
    {
     "data": {
      "text/html": [
       "0.106317934782609"
      ],
      "text/latex": [
       "0.106317934782609"
      ],
      "text/markdown": [
       "0.106317934782609"
      ],
      "text/plain": [
       "[1] 0.1063179"
      ]
     },
     "metadata": {},
     "output_type": "display_data"
    }
   ],
   "source": [
    "model34_lin_pred <- predict(model34_lin, dum_test34, type=c(\"response\"))\n",
    "\n",
    "model34_lin_prob <- prediction(model34_lin_pred, dum_test34$Good)\n",
    "\n",
    "perf <- performance(model34_lin_prob,\"tpr\",\"fpr\")\n",
    "\n",
    "lin34_ks <- max(attr(perf,'y.values')[[1]]-attr(perf,'x.values')[[1]])\n",
    "lin34_ks"
   ]
  },
  {
   "cell_type": "markdown",
   "metadata": {},
   "source": [
    "### Checking 34 logistic regression"
   ]
  },
  {
   "cell_type": "code",
   "execution_count": 60,
   "metadata": {},
   "outputs": [
    {
     "data": {
      "image/png": "[encoded data removed]",
      "text/plain": [
       "plot without title"
      ]
     },
     "metadata": {},
     "output_type": "display_data"
    }
   ],
   "source": [
    "model34_log_pred_prob <- predict(model34_log, dum_test34, type=c(\"response\"))\n",
    "\n",
    "dum_test34$prob <- model34_log_pred_prob\n",
    "\n",
    "ROC_curve <- roc(Good ~ prob, data=dum_test34, \n",
    "                 levels=c(0,1), direction='<')\n",
    "\n",
    "options(repr.plot.width=4, repr.plot.height=4)\n",
    "\n",
    "plot(ROC_curve)"
   ]
  },
  {
   "cell_type": "markdown",
   "metadata": {},
   "source": [
    "##### AUC "
   ]
  },
  {
   "cell_type": "code",
   "execution_count": 61,
   "metadata": {},
   "outputs": [
    {
     "data": {
      "text/html": [
       "0.512567934782609"
      ],
      "text/latex": [
       "0.512567934782609"
      ],
      "text/markdown": [
       "0.512567934782609"
      ],
      "text/plain": [
       "Area under the curve: 0.5126"
      ]
     },
     "metadata": {},
     "output_type": "display_data"
    },
    {
     "data": {
      "text/html": [
       "<style>\n",
       ".dl-inline {width: auto; margin:0; padding: 0}\n",
       ".dl-inline>dt, .dl-inline>dd {float: none; width: auto; display: inline-block}\n",
       ".dl-inline>dt::after {content: \":\\0020\"; padding-right: .5ex}\n",
       ".dl-inline>dt:not(:first-of-type) {padding-left: .5ex}\n",
       "</style><dl class=dl-inline><dt>2.5%</dt><dd>0.381759510869565</dd><dt>50%</dt><dd>0.512567934782609</dd><dt>97.5%</dt><dd>0.641355298913043</dd></dl>\n"
      ],
      "text/latex": [
       "\\begin{description*}\n",
       "\\item[2.5\\textbackslash{}\\%] 0.381759510869565\n",
       "\\item[50\\textbackslash{}\\%] 0.512567934782609\n",
       "\\item[97.5\\textbackslash{}\\%] 0.641355298913043\n",
       "\\end{description*}\n"
      ],
      "text/markdown": [
       "2.5%\n",
       ":   0.38175951086956550%\n",
       ":   0.51256793478260997.5%\n",
       ":   0.641355298913043\n",
       "\n"
      ],
      "text/plain": [
       "95% CI: 0.3818-0.6414 (2000 stratified bootstrap replicates)"
      ]
     },
     "metadata": {},
     "output_type": "display_data"
    }
   ],
   "source": [
    "log34_auc <- auc(ROC_curve)\n",
    "log34_auc\n",
    "# confidence limits for the auc:\n",
    "ci(auc(ROC_curve), method = \"bootstrap\")"
   ]
  },
  {
   "cell_type": "markdown",
   "metadata": {},
   "source": [
    "##### Gini"
   ]
  },
  {
   "cell_type": "code",
   "execution_count": 62,
   "metadata": {},
   "outputs": [
    {
     "data": {
      "text/html": [
       "0.0251358695652173"
      ],
      "text/latex": [
       "0.0251358695652173"
      ],
      "text/markdown": [
       "0.0251358695652173"
      ],
      "text/plain": [
       "[1] 0.02513587"
      ]
     },
     "metadata": {},
     "output_type": "display_data"
    }
   ],
   "source": [
    "# gini coefficient:\n",
    "log34_gini <- 2 * (auc(ROC_curve) - 0.5)\n",
    "log34_gini"
   ]
  },
  {
   "cell_type": "markdown",
   "metadata": {},
   "source": [
    "##### KS statistic"
   ]
  },
  {
   "cell_type": "code",
   "execution_count": 63,
   "metadata": {},
   "outputs": [
    {
     "data": {
      "text/html": [
       "0.106997282608696"
      ],
      "text/latex": [
       "0.106997282608696"
      ],
      "text/markdown": [
       "0.106997282608696"
      ],
      "text/plain": [
       "[1] 0.1069973"
      ]
     },
     "metadata": {},
     "output_type": "display_data"
    }
   ],
   "source": [
    "model34_log_pred <- predict(model34_log, dum_test34, type=c(\"response\"))\n",
    "\n",
    "model34_log_prob <- prediction(model34_log_pred, dum_test34$Good)\n",
    "\n",
    "perf <- performance(model34_log_prob,\"tpr\",\"fpr\")\n",
    "\n",
    "log34_ks <- max(attr(perf,'y.values')[[1]]-attr(perf,'x.values')[[1]])\n",
    "log34_ks"
   ]
  },
  {
   "cell_type": "markdown",
   "metadata": {},
   "source": [
    "# Result"
   ]
  },
  {
   "cell_type": "code",
   "execution_count": 64,
   "metadata": {},
   "outputs": [
    {
     "data": {
      "text/html": [
       "<table class=\"dataframe\">\n",
       "<caption>A data.frame: 4 × 4</caption>\n",
       "<thead>\n",
       "\t<tr><th scope=col>Models</th><th scope=col>AUC</th><th scope=col>Gini</th><th scope=col>KS</th></tr>\n",
       "\t<tr><th scope=col>&lt;fct&gt;</th><th scope=col>&lt;dbl&gt;</th><th scope=col>&lt;dbl&gt;</th><th scope=col>&lt;dbl&gt;</th></tr>\n",
       "</thead>\n",
       "<tbody>\n",
       "\t<tr><td>Linear Regression- Checking = 1,2  </td><td>0.6769355</td><td>0.35387105</td><td>0.2747075</td></tr>\n",
       "\t<tr><td>Logistic Regression- Checking = 1,2</td><td>0.6748195</td><td>0.34963903</td><td>0.2747075</td></tr>\n",
       "\t<tr><td>Linear Regression- Checking = 3,4  </td><td>0.5112092</td><td>0.02241848</td><td>0.1063179</td></tr>\n",
       "\t<tr><td>Logistic Regression- Checking = 3,4</td><td>0.5125679</td><td>0.02513587</td><td>0.1069973</td></tr>\n",
       "</tbody>\n",
       "</table>\n"
      ],
      "text/latex": [
       "A data.frame: 4 × 4\n",
       "\\begin{tabular}{llll}\n",
       " Models & AUC & Gini & KS\\\\\n",
       " <fct> & <dbl> & <dbl> & <dbl>\\\\\n",
       "\\hline\n",
       "\t Linear Regression- Checking = 1,2   & 0.6769355 & 0.35387105 & 0.2747075\\\\\n",
       "\t Logistic Regression- Checking = 1,2 & 0.6748195 & 0.34963903 & 0.2747075\\\\\n",
       "\t Linear Regression- Checking = 3,4   & 0.5112092 & 0.02241848 & 0.1063179\\\\\n",
       "\t Logistic Regression- Checking = 3,4 & 0.5125679 & 0.02513587 & 0.1069973\\\\\n",
       "\\end{tabular}\n"
      ],
      "text/markdown": [
       "\n",
       "A data.frame: 4 × 4\n",
       "\n",
       "| Models &lt;fct&gt; | AUC &lt;dbl&gt; | Gini &lt;dbl&gt; | KS &lt;dbl&gt; |\n",
       "|---|---|---|---|\n",
       "| Linear Regression- Checking = 1,2   | 0.6769355 | 0.35387105 | 0.2747075 |\n",
       "| Logistic Regression- Checking = 1,2 | 0.6748195 | 0.34963903 | 0.2747075 |\n",
       "| Linear Regression- Checking = 3,4   | 0.5112092 | 0.02241848 | 0.1063179 |\n",
       "| Logistic Regression- Checking = 3,4 | 0.5125679 | 0.02513587 | 0.1069973 |\n",
       "\n"
      ],
      "text/plain": [
       "  Models                              AUC       Gini       KS       \n",
       "1 Linear Regression- Checking = 1,2   0.6769355 0.35387105 0.2747075\n",
       "2 Logistic Regression- Checking = 1,2 0.6748195 0.34963903 0.2747075\n",
       "3 Linear Regression- Checking = 3,4   0.5112092 0.02241848 0.1063179\n",
       "4 Logistic Regression- Checking = 3,4 0.5125679 0.02513587 0.1069973"
      ]
     },
     "metadata": {},
     "output_type": "display_data"
    }
   ],
   "source": [
    "Models <- c('Linear Regression- Checking = 1,2','Logistic Regression- Checking = 1,2','Linear Regression- Checking = 3,4','Logistic Regression- Checking = 3,4')\n",
    "AUC <- c(lin12_auc,log12_auc,lin34_auc,log34_auc)\n",
    "Gini <- c(lin12_gini,log12_gini,lin34_gini,log34_gini)\n",
    "KS <- c(lin12_ks,log12_ks,lin34_ks,log34_ks)\n",
    "data.frame(Models,AUC,Gini,KS)"
   ]
  },
  {
   "cell_type": "markdown",
   "metadata": {},
   "source": [
    "* Models perform better with subset 1 than subset 2\n",
    "\n",
    "* Gini coefficicent is well below what was expected, may indicate a problem \n",
    "\n",
    "* KS statistic for both models with checking 1,2 are exactly the same, may be another problem\n",
    "\n",
    "* I will re-evaluate both models, using the `step` function to choose a model by AIC in a Stepwise Algorithm."
   ]
  },
  {
   "cell_type": "markdown",
   "metadata": {},
   "source": [
    "# Model v2\n",
    "\n",
    "### Checking 12 linear regression"
   ]
  },
  {
   "cell_type": "code",
   "execution_count": 65,
   "metadata": {},
   "outputs": [
    {
     "name": "stdout",
     "output_type": "stream",
     "text": [
      "Start:  AIC=-503.85\n",
      "Good ~ 1\n",
      "\n",
      "                Df Sum of Sq    RSS     AIC\n",
      "+ property1      1    4.4613 85.041 -520.36\n",
      "+ duration12     1    3.6378 85.865 -516.87\n",
      "+ savings1_2     1    3.4484 86.054 -516.07\n",
      "+ history0_1     1    2.0237 87.479 -510.13\n",
      "+ savings3_4     1    1.8244 87.678 -509.30\n",
      "+ duration12_22  1    0.9619 88.541 -505.76\n",
      "+ duration22_26  1    0.7613 88.742 -504.94\n",
      "<none>                       89.503 -503.85\n",
      "+ property3      1    0.3077 89.195 -503.10\n",
      "+ property2      1    0.1204 89.382 -502.34\n",
      "+ history3       1    0.0901 89.413 -502.21\n",
      "+ duration26_32  1    0.0245 89.478 -501.95\n",
      "+ history2       1    0.0002 89.503 -501.85\n",
      "\n",
      "Step:  AIC=-520.36\n",
      "Good ~ property1\n",
      "\n",
      "                Df Sum of Sq    RSS     AIC\n",
      "+ savings1_2     1    3.8030 81.238 -534.92\n",
      "+ duration12     1    2.3779 82.664 -528.63\n",
      "+ savings3_4     1    1.4476 83.594 -524.57\n",
      "+ history0_1     1    1.4417 83.600 -524.55\n",
      "<none>                       85.041 -520.36\n",
      "+ duration22_26  1    0.4097 84.632 -520.11\n",
      "+ duration12_22  1    0.3820 84.659 -519.99\n",
      "+ duration26_32  1    0.1570 84.884 -519.03\n",
      "+ property2      1    0.1325 84.909 -518.92\n",
      "+ property3      1    0.1128 84.929 -518.84\n",
      "+ history3       1    0.0397 85.002 -518.53\n",
      "+ history2       1    0.0121 85.029 -518.41\n",
      "- property1      1    4.4613 89.503 -503.85\n",
      "\n",
      "Step:  AIC=-534.92\n",
      "Good ~ property1 + savings1_2\n",
      "\n",
      "                Df Sum of Sq    RSS     AIC\n",
      "+ duration12     1    2.3903 78.848 -543.73\n",
      "+ history0_1     1    1.4055 79.833 -539.24\n",
      "+ duration22_26  1    0.4825 80.756 -535.08\n",
      "<none>                       81.238 -534.92\n",
      "+ duration12_22  1    0.3005 80.938 -534.26\n",
      "+ property2      1    0.1350 81.103 -533.52\n",
      "+ duration26_32  1    0.1283 81.110 -533.49\n",
      "+ property3      1    0.0593 81.179 -533.18\n",
      "+ history3       1    0.0506 81.188 -533.15\n",
      "+ history2       1    0.0367 81.202 -533.08\n",
      "+ savings3_4     1    0.0317 81.207 -533.06\n",
      "- savings1_2     1    3.8030 85.041 -520.36\n",
      "- property1      1    4.8159 86.054 -516.07\n",
      "\n",
      "Step:  AIC=-543.73\n",
      "Good ~ property1 + savings1_2 + duration12\n",
      "\n",
      "                Df Sum of Sq    RSS     AIC\n",
      "+ duration12_22  1    1.6110 77.237 -549.20\n",
      "+ history0_1     1    1.2292 77.619 -547.42\n",
      "<none>                       78.848 -543.73\n",
      "+ duration26_32  1    0.2640 78.584 -542.95\n",
      "+ duration22_26  1    0.1739 78.674 -542.53\n",
      "+ property2      1    0.0915 78.757 -542.15\n",
      "+ property3      1    0.0826 78.766 -542.11\n",
      "+ history2       1    0.0273 78.821 -541.86\n",
      "+ history3       1    0.0251 78.823 -541.85\n",
      "+ savings3_4     1    0.0111 78.837 -541.78\n",
      "- duration12     1    2.3903 81.238 -534.92\n",
      "- property1      1    3.4965 82.345 -530.02\n",
      "- savings1_2     1    3.8154 82.664 -528.63\n",
      "\n",
      "Step:  AIC=-549.2\n",
      "Good ~ property1 + savings1_2 + duration12 + duration12_22\n",
      "\n",
      "                Df Sum of Sq    RSS     AIC\n",
      "+ history0_1     1    0.9444 76.293 -551.66\n",
      "+ duration26_32  1    0.7648 76.472 -550.81\n",
      "<none>                       77.237 -549.20\n",
      "+ history2       1    0.0611 77.176 -547.49\n",
      "+ duration22_26  1    0.0429 77.194 -547.41\n",
      "+ property3      1    0.0427 77.194 -547.40\n",
      "+ property2      1    0.0209 77.216 -547.30\n",
      "+ savings3_4     1    0.0007 77.236 -547.21\n",
      "+ history3       1    0.0001 77.237 -547.20\n",
      "- duration12_22  1    1.6110 78.848 -543.73\n",
      "- property1      1    2.1549 79.392 -541.24\n",
      "- savings1_2     1    3.6220 80.859 -534.61\n",
      "- duration12     1    3.7008 80.938 -534.26\n",
      "\n",
      "Step:  AIC=-551.66\n",
      "Good ~ property1 + savings1_2 + duration12 + duration12_22 + \n",
      "    history0_1\n",
      "\n",
      "                Df Sum of Sq    RSS     AIC\n",
      "+ duration26_32  1    0.8168 75.476 -553.55\n",
      "+ history2       1    0.5480 75.745 -552.27\n",
      "<none>                       76.293 -551.66\n",
      "+ property3      1    0.0395 76.253 -549.85\n",
      "+ duration22_26  1    0.0369 76.256 -549.83\n",
      "+ history3       1    0.0200 76.273 -549.75\n",
      "+ property2      1    0.0045 76.288 -549.68\n",
      "+ savings3_4     1    0.0022 76.291 -549.67\n",
      "- history0_1     1    0.9444 77.237 -549.20\n",
      "- duration12_22  1    1.3262 77.619 -547.42\n",
      "- property1      1    1.9643 78.257 -544.46\n",
      "- duration12     1    3.3366 79.629 -538.16\n",
      "- savings1_2     1    3.6087 79.901 -536.93\n",
      "\n",
      "Step:  AIC=-553.55\n",
      "Good ~ property1 + savings1_2 + duration12 + duration12_22 + \n",
      "    history0_1 + duration26_32\n",
      "\n",
      "                Df Sum of Sq    RSS     AIC\n",
      "+ history2       1    0.5598 74.916 -554.25\n",
      "<none>                       75.476 -553.55\n",
      "+ duration22_26  1    0.2695 75.206 -552.85\n",
      "+ property3      1    0.0379 75.438 -551.74\n",
      "- duration26_32  1    0.8168 76.293 -551.66\n",
      "+ history3       1    0.0114 75.464 -551.61\n",
      "+ property2      1    0.0034 75.473 -551.57\n",
      "+ savings3_4     1    0.0010 75.475 -551.56\n",
      "- history0_1     1    0.9964 76.472 -550.81\n",
      "- duration12_22  1    1.8079 77.284 -546.99\n",
      "- property1      1    2.0119 77.488 -546.03\n",
      "- savings1_2     1    3.5010 78.977 -539.14\n",
      "- duration12     1    3.8717 79.348 -537.45\n",
      "\n",
      "Step:  AIC=-554.25\n",
      "Good ~ property1 + savings1_2 + duration12 + duration12_22 + \n",
      "    history0_1 + duration26_32 + history2\n",
      "\n",
      "                Df Sum of Sq    RSS     AIC\n",
      "<none>                       74.916 -554.25\n",
      "+ duration22_26  1    0.3113 74.605 -553.76\n",
      "- history2       1    0.5598 75.476 -553.55\n",
      "+ history3       1    0.2587 74.657 -553.50\n",
      "+ property3      1    0.0763 74.840 -552.62\n",
      "+ property2      1    0.0097 74.906 -552.30\n",
      "- duration26_32  1    0.8287 75.745 -552.27\n",
      "+ savings3_4     1    0.0034 74.913 -552.27\n",
      "- history0_1     1    1.4973 76.413 -549.09\n",
      "- duration12_22  1    1.8444 76.760 -547.45\n",
      "- property1      1    2.0190 76.935 -546.62\n",
      "- savings1_2     1    3.6127 78.529 -539.20\n",
      "- duration12     1    3.7783 78.694 -538.44\n"
     ]
    },
    {
     "data": {
      "text/plain": [
       "\n",
       "Call:\n",
       "lm(formula = Good ~ property1 + savings1_2 + duration12 + duration12_22 + \n",
       "    history0_1 + duration26_32 + history2, data = dum_train12)\n",
       "\n",
       "Coefficients:\n",
       "  (Intercept)      property1     savings1_2     duration12  duration12_22  \n",
       "      0.64532        0.17792       -0.24486        0.31437        0.16893  \n",
       "   history0_1  duration26_32       history2  \n",
       "     -0.22360        0.20157       -0.08891  \n"
      ]
     },
     "metadata": {},
     "output_type": "display_data"
    }
   ],
   "source": [
    "model12_lin <- lm(Good~1, data=dum_train12)\n",
    "\n",
    "\n",
    "step(model12_lin, scope=list(lower=Good~1, \n",
    "                             upper=Good~duration12+duration12_22+duration22_26+duration26_32+savings1_2+\n",
    "                             savings3_4+property1+property2+property3+history0_1+history2+history3,trace=1))\n"
   ]
  },
  {
   "cell_type": "code",
   "execution_count": 66,
   "metadata": {},
   "outputs": [
    {
     "data": {
      "text/plain": [
       "\n",
       "Call:\n",
       "lm(formula = Good ~ property1 + savings1_2 + duration12 + duration12_22 + \n",
       "    history0_1 + duration26_32 + history2, data = dum_train12)\n",
       "\n",
       "Residuals:\n",
       "    Min      1Q  Median      3Q     Max \n",
       "-0.8928 -0.4005  0.1072  0.3741  0.8231 \n",
       "\n",
       "Coefficients:\n",
       "              Estimate Std. Error t value Pr(>|t|)    \n",
       "(Intercept)    0.64532    0.07374   8.751  < 2e-16 ***\n",
       "property1      0.17792    0.05760   3.089  0.00217 ** \n",
       "savings1_2    -0.24486    0.05926  -4.132 4.50e-05 ***\n",
       "duration12     0.31437    0.07440   4.225 3.04e-05 ***\n",
       "duration12_22  0.16893    0.05722   2.952  0.00337 ** \n",
       "history0_1    -0.22360    0.08406  -2.660  0.00817 ** \n",
       "duration26_32  0.20157    0.10186   1.979  0.04861 *  \n",
       "history2      -0.08891    0.05466  -1.626  0.10474    \n",
       "---\n",
       "Signif. codes:  0 '***' 0.001 '**' 0.01 '*' 0.05 '.' 0.1 ' ' 1\n",
       "\n",
       "Residual standard error: 0.46 on 354 degrees of freedom\n",
       "Multiple R-squared:  0.163,\tAdjusted R-squared:  0.1464 \n",
       "F-statistic: 9.847 on 7 and 354 DF,  p-value: 3.13e-11\n"
      ]
     },
     "metadata": {},
     "output_type": "display_data"
    }
   ],
   "source": [
    "model12_lin <- lm(formula = Good ~ property1 + savings1_2 + duration12 + duration12_22 + \n",
    "    history0_1 + duration26_32 + history2, data = dum_train12)\n",
    "summary(model12_lin)"
   ]
  },
  {
   "cell_type": "markdown",
   "metadata": {},
   "source": [
    "### Checking 12 logistic regression"
   ]
  },
  {
   "cell_type": "code",
   "execution_count": 67,
   "metadata": {},
   "outputs": [
    {
     "name": "stdout",
     "output_type": "stream",
     "text": [
      "Start:  AIC=499.84\n",
      "Good ~ 1\n",
      "\n",
      "                Df Deviance    AIC\n",
      "+ property1      1   479.13 483.13\n",
      "+ duration12     1   482.19 486.19\n",
      "+ savings1_2     1   483.30 487.30\n",
      "+ history0_1     1   489.66 493.66\n",
      "+ savings3_4     1   489.81 493.81\n",
      "+ duration12_22  1   493.93 497.93\n",
      "+ duration22_26  1   494.78 498.78\n",
      "<none>               497.84 499.84\n",
      "+ property3      1   496.60 500.60\n",
      "+ property2      1   497.36 501.36\n",
      "+ history3       1   497.48 501.48\n",
      "+ duration26_32  1   497.74 501.74\n",
      "+ history2       1   497.84 501.84\n",
      "\n",
      "Step:  AIC=483.13\n",
      "Good ~ property1\n",
      "\n",
      "                Df Deviance    AIC\n",
      "+ savings1_2     1   462.38 468.38\n",
      "+ duration12     1   468.16 474.16\n",
      "+ savings3_4     1   472.30 478.30\n",
      "+ history0_1     1   473.11 479.11\n",
      "<none>               479.13 483.13\n",
      "+ duration22_26  1   477.43 483.43\n",
      "+ duration12_22  1   477.50 483.50\n",
      "+ duration26_32  1   478.49 484.49\n",
      "+ property2      1   478.60 484.60\n",
      "+ property3      1   478.68 484.68\n",
      "+ history3       1   478.97 484.97\n",
      "+ history2       1   479.08 485.08\n",
      "- property1      1   497.84 499.84\n",
      "\n",
      "Step:  AIC=468.38\n",
      "Good ~ property1 + savings1_2\n",
      "\n",
      "                Df Deviance    AIC\n",
      "+ duration12     1   450.89 458.89\n",
      "+ history0_1     1   456.20 464.20\n",
      "+ duration22_26  1   460.31 468.31\n",
      "<none>               462.38 468.38\n",
      "+ duration12_22  1   461.04 469.04\n",
      "+ property2      1   461.81 469.81\n",
      "+ duration26_32  1   461.86 469.86\n",
      "+ savings3_4     1   462.02 470.02\n",
      "+ history3       1   462.11 470.11\n",
      "+ property3      1   462.15 470.15\n",
      "+ history2       1   462.22 470.22\n",
      "- savings1_2     1   479.13 483.13\n",
      "- property1      1   483.30 487.30\n",
      "\n",
      "Step:  AIC=458.89\n",
      "Good ~ property1 + savings1_2 + duration12\n",
      "\n",
      "                Df Deviance    AIC\n",
      "+ duration12_22  1   444.27 454.27\n",
      "+ history0_1     1   445.39 455.39\n",
      "<none>               450.89 458.89\n",
      "+ duration26_32  1   449.74 459.74\n",
      "+ duration22_26  1   450.17 460.17\n",
      "+ property2      1   450.47 460.47\n",
      "+ property3      1   450.53 460.53\n",
      "+ savings3_4     1   450.66 460.66\n",
      "+ history3       1   450.71 460.71\n",
      "+ history2       1   450.73 460.73\n",
      "- duration12     1   462.38 468.38\n",
      "- property1      1   466.79 472.79\n",
      "- savings1_2     1   468.16 474.16\n",
      "\n",
      "Step:  AIC=454.27\n",
      "Good ~ property1 + savings1_2 + duration12 + duration12_22\n",
      "\n",
      "                Df Deviance    AIC\n",
      "+ history0_1     1   439.90 451.90\n",
      "+ duration26_32  1   441.02 453.02\n",
      "<none>               444.27 454.27\n",
      "+ history2       1   443.95 455.95\n",
      "+ property3      1   444.09 456.09\n",
      "+ duration22_26  1   444.11 456.11\n",
      "+ property2      1   444.16 456.16\n",
      "+ savings3_4     1   444.17 456.17\n",
      "+ history3       1   444.26 456.26\n",
      "- duration12_22  1   450.89 458.89\n",
      "- property1      1   454.38 462.38\n",
      "- duration12     1   461.04 469.04\n",
      "- savings1_2     1   461.06 469.06\n",
      "\n",
      "Step:  AIC=451.9\n",
      "Good ~ property1 + savings1_2 + duration12 + duration12_22 + \n",
      "    history0_1\n",
      "\n",
      "                Df Deviance    AIC\n",
      "+ duration26_32  1   436.34 450.34\n",
      "+ history2       1   437.13 451.13\n",
      "<none>               439.90 451.90\n",
      "+ property3      1   439.72 453.72\n",
      "+ history3       1   439.76 453.76\n",
      "+ duration22_26  1   439.78 453.78\n",
      "+ savings3_4     1   439.79 453.79\n",
      "+ property2      1   439.88 453.88\n",
      "- history0_1     1   444.27 454.27\n",
      "- duration12_22  1   445.39 455.39\n",
      "- property1      1   449.25 459.25\n",
      "- duration12     1   455.27 465.27\n",
      "- savings1_2     1   456.88 466.88\n",
      "\n",
      "Step:  AIC=450.34\n",
      "Good ~ property1 + savings1_2 + duration12 + duration12_22 + \n",
      "    history0_1 + duration26_32\n",
      "\n",
      "                Df Deviance    AIC\n",
      "+ history2       1   433.48 449.48\n",
      "<none>               436.34 450.34\n",
      "+ duration22_26  1   435.21 451.21\n",
      "- duration26_32  1   439.90 451.90\n",
      "+ property3      1   436.17 452.17\n",
      "+ history3       1   436.24 452.24\n",
      "+ savings3_4     1   436.31 452.31\n",
      "+ property2      1   436.32 452.32\n",
      "- history0_1     1   441.02 453.02\n",
      "- duration12_22  1   443.90 455.90\n",
      "- property1      1   445.96 457.96\n",
      "- savings1_2     1   452.97 464.97\n",
      "- duration12     1   454.07 466.07\n",
      "\n",
      "Step:  AIC=449.48\n",
      "Good ~ property1 + savings1_2 + duration12 + duration12_22 + \n",
      "    history0_1 + duration26_32 + history2\n",
      "\n",
      "                Df Deviance    AIC\n",
      "<none>               433.48 449.48\n",
      "+ history3       1   431.87 449.87\n",
      "+ duration22_26  1   432.15 450.15\n",
      "- history2       1   436.34 450.34\n",
      "+ property3      1   433.08 451.08\n",
      "- duration26_32  1   437.13 451.13\n",
      "+ property2      1   433.44 451.44\n",
      "+ savings3_4     1   433.48 451.48\n",
      "- history0_1     1   440.70 454.70\n",
      "- duration12_22  1   441.32 455.32\n",
      "- property1      1   443.14 457.14\n",
      "- savings1_2     1   450.95 464.95\n",
      "- duration12     1   451.13 465.13\n"
     ]
    },
    {
     "data": {
      "text/plain": [
       "\n",
       "Call:  glm(formula = Good ~ property1 + savings1_2 + duration12 + duration12_22 + \n",
       "    history0_1 + duration26_32 + history2, family = \"binomial\", \n",
       "    data = dum_train12)\n",
       "\n",
       "Coefficients:\n",
       "  (Intercept)      property1     savings1_2     duration12  duration12_22  \n",
       "       0.7881         0.8626        -1.2187         1.5171         0.7393  \n",
       "   history0_1  duration26_32       history2  \n",
       "      -1.0773         0.8849        -0.4431  \n",
       "\n",
       "Degrees of Freedom: 361 Total (i.e. Null);  354 Residual\n",
       "Null Deviance:\t    497.8 \n",
       "Residual Deviance: 433.5 \tAIC: 449.5"
      ]
     },
     "metadata": {},
     "output_type": "display_data"
    }
   ],
   "source": [
    "model12_log <- glm(Good~1, data=dum_train12, family='binomial')\n",
    "\n",
    "\n",
    "step(model12_log, scope=list(lower=Good~1, \n",
    "                             upper=Good~duration12+duration12_22+duration22_26+duration26_32+savings1_2+\n",
    "                             savings3_4+property1+property2+property3+history0_1+history2+history3,trace=1))"
   ]
  },
  {
   "cell_type": "code",
   "execution_count": 68,
   "metadata": {},
   "outputs": [
    {
     "data": {
      "text/plain": [
       "\n",
       "Call:\n",
       "glm(formula = Good ~ property1 + savings1_2 + duration12 + duration12_22 + \n",
       "    history0_1 + duration26_32 + history2, family = \"binomial\", \n",
       "    data = dum_train12)\n",
       "\n",
       "Deviance Residuals: \n",
       "    Min       1Q   Median       3Q      Max  \n",
       "-2.0407  -1.0009   0.5165   0.9190   1.8482  \n",
       "\n",
       "Coefficients:\n",
       "              Estimate Std. Error z value Pr(>|z|)    \n",
       "(Intercept)     0.7881     0.3629   2.171  0.02990 *  \n",
       "property1       0.8626     0.2829   3.049  0.00229 ** \n",
       "savings1_2     -1.2187     0.3059  -3.984 6.79e-05 ***\n",
       "duration12      1.5171     0.3796   3.996 6.44e-05 ***\n",
       "duration12_22   0.7393     0.2653   2.786  0.00533 ** \n",
       "history0_1     -1.0773     0.4093  -2.632  0.00849 ** \n",
       "duration26_32   0.8849     0.4668   1.896  0.05800 .  \n",
       "history2       -0.4431     0.2642  -1.677  0.09348 .  \n",
       "---\n",
       "Signif. codes:  0 '***' 0.001 '**' 0.01 '*' 0.05 '.' 0.1 ' ' 1\n",
       "\n",
       "(Dispersion parameter for binomial family taken to be 1)\n",
       "\n",
       "    Null deviance: 497.84  on 361  degrees of freedom\n",
       "Residual deviance: 433.48  on 354  degrees of freedom\n",
       "AIC: 449.48\n",
       "\n",
       "Number of Fisher Scoring iterations: 4\n"
      ]
     },
     "metadata": {},
     "output_type": "display_data"
    }
   ],
   "source": [
    "model12_log <- glm(formula = Good ~ property1 + savings1_2 + duration12 + duration12_22 + \n",
    "    history0_1 + duration26_32 + history2, family = \"binomial\", \n",
    "    data = dum_train12)\n",
    "summary(model12_log)"
   ]
  },
  {
   "cell_type": "markdown",
   "metadata": {},
   "source": [
    "### Checking 34 linear regression"
   ]
  },
  {
   "cell_type": "code",
   "execution_count": 69,
   "metadata": {},
   "outputs": [
    {
     "name": "stdout",
     "output_type": "stream",
     "text": [
      "Start:  AIC=-683.91\n",
      "Good ~ 1\n",
      "\n",
      "                  Df Sum of Sq    RSS     AIC\n",
      "+ history3         1   0.91871 31.607 -690.68\n",
      "+ age24            1   0.54631 31.980 -687.09\n",
      "+ duration16_24    1   0.50390 32.022 -686.69\n",
      "+ age28_31         1   0.37952 32.147 -685.50\n",
      "+ amount3000_4400  1   0.29263 32.234 -684.68\n",
      "+ amount1600_2200  1   0.27614 32.250 -684.52\n",
      "+ duration26_38    1   0.26070 32.265 -684.37\n",
      "+ duration8        1   0.25513 32.271 -684.32\n",
      "+ age34_36         1   0.22373 32.302 -684.02\n",
      "+ amount800_1600   1   0.22247 32.304 -684.01\n",
      "+ duration12_16    1   0.21532 32.311 -683.94\n",
      "<none>                         32.526 -683.91\n",
      "+ amount800        1   0.10910 32.417 -682.94\n",
      "+ age31_34         1   0.08650 32.440 -682.73\n",
      "+ amount4400_8000  1   0.06331 32.463 -682.51\n",
      "+ age24_28         1   0.02078 32.505 -682.11\n",
      "+ amount2200_3000  1   0.00808 32.518 -681.99\n",
      "+ history0_1_2     1   0.00422 32.522 -681.95\n",
      "+ duration24_26    1   0.00289 32.523 -681.94\n",
      "+ duration8_12     1   0.00227 32.524 -681.93\n",
      "\n",
      "Step:  AIC=-690.68\n",
      "Good ~ history3\n",
      "\n",
      "                  Df Sum of Sq    RSS     AIC\n",
      "+ age24            1   0.56415 31.043 -694.19\n",
      "+ duration16_24    1   0.45727 31.150 -693.14\n",
      "+ age28_31         1   0.34874 31.259 -692.07\n",
      "+ age34_36         1   0.30049 31.307 -691.60\n",
      "+ amount1600_2200  1   0.26120 31.346 -691.22\n",
      "+ duration8        1   0.25038 31.357 -691.11\n",
      "+ amount3000_4400  1   0.24485 31.363 -691.06\n",
      "+ history0_1_2     1   0.21482 31.393 -690.77\n",
      "<none>                         31.607 -690.68\n",
      "+ amount800_1600   1   0.14460 31.463 -690.08\n",
      "+ amount800        1   0.14380 31.464 -690.07\n",
      "+ duration12_16    1   0.13420 31.473 -689.98\n",
      "+ duration26_38    1   0.09983 31.508 -689.65\n",
      "+ amount4400_8000  1   0.07402 31.533 -689.40\n",
      "+ age31_34         1   0.06821 31.539 -689.34\n",
      "+ age24_28         1   0.03874 31.569 -689.05\n",
      "+ duration8_12     1   0.02519 31.582 -688.92\n",
      "+ amount2200_3000  1   0.02339 31.584 -688.91\n",
      "+ duration24_26    1   0.00194 31.605 -688.70\n",
      "- history3         1   0.91871 32.526 -683.91\n",
      "\n",
      "Step:  AIC=-694.19\n",
      "Good ~ history3 + age24\n",
      "\n",
      "                  Df Sum of Sq    RSS     AIC\n",
      "+ age28_31         1   0.44009 30.603 -696.56\n",
      "+ duration16_24    1   0.43251 30.611 -696.48\n",
      "+ amount3000_4400  1   0.29740 30.746 -695.14\n",
      "+ duration8        1   0.24536 30.798 -694.62\n",
      "+ amount1600_2200  1   0.24429 30.799 -694.61\n",
      "+ age34_36         1   0.23446 30.809 -694.51\n",
      "<none>                         31.043 -694.19\n",
      "+ history0_1_2     1   0.15193 30.891 -693.69\n",
      "+ duration12_16    1   0.13866 30.905 -693.56\n",
      "+ amount4400_8000  1   0.11111 30.932 -693.29\n",
      "+ amount800_1600   1   0.10122 30.942 -693.19\n",
      "+ duration26_38    1   0.09763 30.946 -693.15\n",
      "+ amount800        1   0.08306 30.960 -693.01\n",
      "+ age31_34         1   0.03310 31.010 -692.52\n",
      "+ amount2200_3000  1   0.02114 31.022 -692.40\n",
      "+ duration8_12     1   0.01833 31.025 -692.37\n",
      "+ age24_28         1   0.01138 31.032 -692.30\n",
      "+ duration24_26    1   0.00016 31.043 -692.19\n",
      "- age24            1   0.56415 31.607 -690.68\n",
      "- history3         1   0.93655 31.980 -687.09\n",
      "\n",
      "Step:  AIC=-696.56\n",
      "Good ~ history3 + age24 + age28_31\n",
      "\n",
      "                  Df Sum of Sq    RSS     AIC\n",
      "+ duration16_24    1   0.32965 30.273 -697.87\n",
      "+ amount3000_4400  1   0.25077 30.352 -697.08\n",
      "+ duration8        1   0.22102 30.382 -696.78\n",
      "<none>                         30.603 -696.56\n",
      "+ amount1600_2200  1   0.17195 30.431 -696.28\n",
      "+ age34_36         1   0.16705 30.436 -696.23\n",
      "+ amount4400_8000  1   0.13719 30.466 -695.93\n",
      "+ history0_1_2     1   0.13145 30.472 -695.88\n",
      "+ duration12_16    1   0.12829 30.475 -695.84\n",
      "+ duration26_38    1   0.10200 30.501 -695.58\n",
      "+ amount800_1600   1   0.08120 30.522 -695.37\n",
      "+ amount800        1   0.06488 30.538 -695.21\n",
      "+ amount2200_3000  1   0.02264 30.581 -694.79\n",
      "+ duration8_12     1   0.01817 30.585 -694.74\n",
      "+ age31_34         1   0.00822 30.595 -694.64\n",
      "+ duration24_26    1   0.00150 30.602 -694.57\n",
      "+ age24_28         1   0.00000 30.603 -694.56\n",
      "- age28_31         1   0.44009 31.043 -694.19\n",
      "- age24            1   0.65550 31.259 -692.07\n",
      "- history3         1   0.90312 31.506 -689.66\n",
      "\n",
      "Step:  AIC=-697.87\n",
      "Good ~ history3 + age24 + age28_31 + duration16_24\n",
      "\n",
      "                  Df Sum of Sq    RSS     AIC\n",
      "+ amount3000_4400  1   0.24686 30.027 -698.38\n",
      "<none>                         30.273 -697.87\n",
      "+ duration26_38    1   0.18319 30.090 -697.73\n",
      "+ age34_36         1   0.17117 30.102 -697.61\n",
      "+ amount4400_8000  1   0.16557 30.108 -697.55\n",
      "+ duration8        1   0.15717 30.116 -697.47\n",
      "+ history0_1_2     1   0.13209 30.142 -697.21\n",
      "+ amount1600_2200  1   0.13004 30.143 -697.19\n",
      "+ amount800_1600   1   0.08717 30.186 -696.76\n",
      "+ amount800        1   0.08083 30.193 -696.69\n",
      "- duration16_24    1   0.32965 30.603 -696.56\n",
      "- age28_31         1   0.33723 30.611 -696.48\n",
      "+ duration12_16    1   0.05019 30.223 -696.38\n",
      "+ duration8_12     1   0.04733 30.226 -696.35\n",
      "+ amount2200_3000  1   0.03237 30.241 -696.20\n",
      "+ duration24_26    1   0.02559 30.248 -696.13\n",
      "+ age31_34         1   0.01498 30.259 -696.02\n",
      "+ age24_28         1   0.00269 30.271 -695.90\n",
      "- age24            1   0.62007 30.894 -693.67\n",
      "- history3         1   0.86683 31.140 -691.23\n",
      "\n",
      "Step:  AIC=-698.38\n",
      "Good ~ history3 + age24 + age28_31 + duration16_24 + amount3000_4400\n",
      "\n",
      "                  Df Sum of Sq    RSS     AIC\n",
      "+ amount800_1600   1   0.20970 29.817 -698.52\n",
      "+ age34_36         1   0.19990 29.827 -698.42\n",
      "<none>                         30.027 -698.38\n",
      "+ duration26_38    1   0.18811 29.839 -698.30\n",
      "+ duration8        1   0.17584 29.851 -698.18\n",
      "- amount3000_4400  1   0.24686 30.273 -697.87\n",
      "+ history0_1_2     1   0.12861 29.898 -697.69\n",
      "+ amount4400_8000  1   0.10639 29.920 -697.46\n",
      "- age28_31         1   0.29797 30.325 -697.36\n",
      "+ amount1600_2200  1   0.08668 29.940 -697.26\n",
      "+ amount2200_3000  1   0.07174 29.955 -697.11\n",
      "- duration16_24    1   0.32574 30.352 -697.08\n",
      "+ duration12_16    1   0.05941 29.967 -696.98\n",
      "+ amount800        1   0.05105 29.976 -696.90\n",
      "+ duration24_26    1   0.04487 29.982 -696.84\n",
      "+ duration8_12     1   0.04248 29.984 -696.81\n",
      "+ age31_34         1   0.01095 30.016 -696.49\n",
      "+ age24_28         1   0.00258 30.024 -696.40\n",
      "- age24            1   0.66514 30.692 -693.67\n",
      "- history3         1   0.82291 30.850 -692.11\n",
      "\n",
      "Step:  AIC=-698.52\n",
      "Good ~ history3 + age24 + age28_31 + duration16_24 + amount3000_4400 + \n",
      "    amount800_1600\n",
      "\n",
      "                  Df Sum of Sq    RSS     AIC\n",
      "+ amount2200_3000  1   0.21280 29.604 -698.71\n",
      "+ age34_36         1   0.21046 29.607 -698.69\n",
      "<none>                         29.817 -698.52\n",
      "- amount800_1600   1   0.20970 30.027 -698.38\n",
      "+ duration8        1   0.15042 29.667 -698.07\n",
      "- age28_31         1   0.26012 30.077 -697.87\n",
      "+ history0_1_2     1   0.12738 29.690 -697.83\n",
      "+ duration26_38    1   0.11015 29.707 -697.66\n",
      "- duration16_24    1   0.33437 30.151 -697.11\n",
      "+ duration24_26    1   0.05582 29.761 -697.10\n",
      "+ duration8_12     1   0.05543 29.762 -697.09\n",
      "+ duration12_16    1   0.03114 29.786 -696.84\n",
      "+ amount4400_8000  1   0.02830 29.789 -696.81\n",
      "+ amount1600_2200  1   0.02773 29.789 -696.81\n",
      "- amount3000_4400  1   0.36939 30.186 -696.76\n",
      "+ amount800        1   0.01566 29.801 -696.68\n",
      "+ age31_34         1   0.01315 29.804 -696.66\n",
      "+ age24_28         1   0.00147 29.816 -696.54\n",
      "- age24            1   0.60647 30.424 -694.36\n",
      "- history3         1   0.71915 30.536 -693.23\n",
      "\n",
      "Step:  AIC=-698.71\n",
      "Good ~ history3 + age24 + age28_31 + duration16_24 + amount3000_4400 + \n",
      "    amount800_1600 + amount2200_3000\n",
      "\n",
      "                  Df Sum of Sq    RSS     AIC\n",
      "+ age34_36         1   0.21040 29.394 -698.90\n",
      "+ duration8        1   0.20220 29.402 -698.81\n",
      "<none>                         29.604 -698.71\n",
      "- amount2200_3000  1   0.21280 29.817 -698.52\n",
      "+ history0_1_2     1   0.15749 29.447 -698.35\n",
      "- age28_31         1   0.24122 29.845 -698.23\n",
      "+ duration26_38    1   0.08131 29.523 -697.56\n",
      "+ duration8_12     1   0.07504 29.529 -697.49\n",
      "+ duration24_26    1   0.07306 29.531 -697.47\n",
      "- amount800_1600   1   0.35076 29.955 -697.11\n",
      "- duration16_24    1   0.36602 29.970 -696.95\n",
      "+ duration12_16    1   0.01443 29.590 -696.86\n",
      "+ age31_34         1   0.01296 29.591 -696.85\n",
      "+ age24_28         1   0.00301 29.601 -696.75\n",
      "+ amount800        1   0.00030 29.604 -696.72\n",
      "+ amount1600_2200  1   0.00029 29.604 -696.72\n",
      "+ amount4400_8000  1   0.00018 29.604 -696.72\n",
      "- amount3000_4400  1   0.50576 30.110 -695.53\n",
      "- age24            1   0.58458 30.189 -694.73\n",
      "- history3         1   0.73151 30.336 -693.25\n",
      "\n",
      "Step:  AIC=-698.9\n",
      "Good ~ history3 + age24 + age28_31 + duration16_24 + amount3000_4400 + \n",
      "    amount800_1600 + amount2200_3000 + age34_36\n",
      "\n",
      "                  Df Sum of Sq    RSS     AIC\n",
      "+ duration8        1   0.20007 29.194 -698.99\n",
      "- age28_31         1   0.18533 29.579 -698.97\n",
      "<none>                         29.394 -698.90\n",
      "- age34_36         1   0.21040 29.604 -698.71\n",
      "- amount2200_3000  1   0.21274 29.607 -698.69\n",
      "+ history0_1_2     1   0.15150 29.242 -698.48\n",
      "+ duration26_38    1   0.08748 29.306 -697.81\n",
      "+ duration8_12     1   0.07030 29.323 -697.63\n",
      "+ duration24_26    1   0.06173 29.332 -697.54\n",
      "+ age31_34         1   0.03375 29.360 -697.25\n",
      "- amount800_1600   1   0.36342 29.757 -697.14\n",
      "- duration16_24    1   0.37081 29.765 -697.06\n",
      "+ duration12_16    1   0.01117 29.383 -697.01\n",
      "+ amount1600_2200  1   0.00110 29.393 -696.91\n",
      "+ age24_28         1   0.00079 29.393 -696.91\n",
      "+ amount800        1   0.00048 29.393 -696.90\n",
      "+ amount4400_8000  1   0.00001 29.394 -696.90\n",
      "- age24            1   0.51346 29.907 -695.60\n",
      "- amount3000_4400  1   0.54806 29.942 -695.24\n",
      "- history3         1   0.78577 30.180 -692.82\n",
      "\n",
      "Step:  AIC=-698.99\n",
      "Good ~ history3 + age24 + age28_31 + duration16_24 + amount3000_4400 + \n",
      "    amount800_1600 + amount2200_3000 + age34_36 + duration8\n",
      "\n",
      "                  Df Sum of Sq    RSS     AIC\n",
      "- age28_31         1   0.17668 29.370 -699.14\n",
      "<none>                         29.194 -698.99\n",
      "- duration8        1   0.20007 29.394 -698.90\n",
      "- age34_36         1   0.20827 29.402 -698.81\n",
      "+ history0_1_2     1   0.14201 29.052 -698.48\n",
      "- amount2200_3000  1   0.26421 29.458 -698.23\n",
      "- duration16_24    1   0.29775 29.491 -697.88\n",
      "+ duration26_38    1   0.05109 29.143 -697.52\n",
      "+ duration12_16    1   0.04919 29.145 -697.50\n",
      "+ age31_34         1   0.04408 29.150 -697.45\n",
      "+ duration8_12     1   0.04345 29.150 -697.44\n",
      "- amount800_1600   1   0.35163 29.545 -697.32\n",
      "+ duration24_26    1   0.02701 29.167 -697.27\n",
      "+ amount800        1   0.00566 29.188 -697.05\n",
      "+ amount1600_2200  1   0.00365 29.190 -697.03\n",
      "+ amount4400_8000  1   0.00354 29.190 -697.02\n",
      "+ age24_28         1   0.00000 29.194 -696.99\n",
      "- age24            1   0.51313 29.707 -695.66\n",
      "- amount3000_4400  1   0.58440 29.778 -694.92\n",
      "- history3         1   0.79225 29.986 -692.79\n",
      "\n",
      "Step:  AIC=-699.14\n",
      "Good ~ history3 + age24 + duration16_24 + amount3000_4400 + amount800_1600 + \n",
      "    amount2200_3000 + age34_36 + duration8\n",
      "\n",
      "                  Df Sum of Sq    RSS     AIC\n",
      "<none>                         29.370 -699.14\n",
      "+ age28_31         1   0.17668 29.194 -698.99\n",
      "- duration8        1   0.20872 29.579 -698.97\n",
      "+ history0_1_2     1   0.15493 29.215 -698.76\n",
      "- age34_36         1   0.26249 29.633 -698.42\n",
      "- amount2200_3000  1   0.28328 29.654 -698.20\n",
      "+ age31_34         1   0.07604 29.294 -697.93\n",
      "+ duration26_38    1   0.04935 29.321 -697.66\n",
      "+ duration8_12     1   0.04718 29.323 -697.63\n",
      "+ duration12_16    1   0.04463 29.326 -697.61\n",
      "+ duration24_26    1   0.02587 29.345 -697.41\n",
      "- duration16_24    1   0.36760 29.738 -697.33\n",
      "+ amount4400_8000  1   0.01165 29.359 -697.26\n",
      "+ amount1600_2200  1   0.00890 29.361 -697.23\n",
      "+ amount800        1   0.00693 29.363 -697.21\n",
      "+ age24_28         1   0.00549 29.365 -697.20\n",
      "- amount800_1600   1   0.39871 29.769 -697.01\n",
      "- age24            1   0.45460 29.825 -696.44\n",
      "- amount3000_4400  1   0.65873 30.029 -694.35\n",
      "- history3         1   0.80674 30.177 -692.85\n"
     ]
    },
    {
     "data": {
      "text/plain": [
       "\n",
       "Call:\n",
       "lm(formula = Good ~ history3 + age24 + duration16_24 + amount3000_4400 + \n",
       "    amount800_1600 + amount2200_3000 + age34_36 + duration8, \n",
       "    data = dum_train34)\n",
       "\n",
       "Coefficients:\n",
       "    (Intercept)         history3            age24    duration16_24  \n",
       "        0.84157         -0.16972         -0.15054         -0.09813  \n",
       "amount3000_4400   amount800_1600  amount2200_3000         age34_36  \n",
       "        0.14426          0.08704          0.09344          0.10246  \n",
       "      duration8  \n",
       "        0.08971  \n"
      ]
     },
     "metadata": {},
     "output_type": "display_data"
    }
   ],
   "source": [
    "model34_lin <- lm(Good~1, data=dum_train34)\n",
    "\n",
    "step(model34_lin, scope=list(lower=Good~1, \n",
    "                             upper=Good~age24+age24_28+age28_31+age31_34+age34_36+history0_1_2+history3+duration8+duration8_12+\n",
    "                             duration12_16+duration16_24+duration24_26+duration26_38+amount800+amount800_1600+\n",
    "                             amount1600_2200+amount2200_3000+amount3000_4400+amount4400_8000,trace=1))"
   ]
  },
  {
   "cell_type": "code",
   "execution_count": 70,
   "metadata": {},
   "outputs": [
    {
     "data": {
      "text/plain": [
       "\n",
       "Call:\n",
       "lm(formula = Good ~ history3 + age24 + duration16_24 + amount3000_4400 + \n",
       "    amount800_1600 + amount2200_3000 + age34_36 + duration8, \n",
       "    data = dum_train34)\n",
       "\n",
       "Residuals:\n",
       "     Min       1Q   Median       3Q      Max \n",
       "-1.03747  0.01417  0.07139  0.15843  0.47868 \n",
       "\n",
       "Coefficients:\n",
       "                Estimate Std. Error t value Pr(>|t|)    \n",
       "(Intercept)      0.84157    0.03297  25.527  < 2e-16 ***\n",
       "history3        -0.16972    0.05942  -2.856  0.00459 ** \n",
       "age24           -0.15054    0.07021  -2.144  0.03284 *  \n",
       "duration16_24   -0.09813    0.05089  -1.928  0.05481 .  \n",
       "amount3000_4400  0.14426    0.05589   2.581  0.01033 *  \n",
       "amount800_1600   0.08704    0.04335   2.008  0.04555 *  \n",
       "amount2200_3000  0.09344    0.05521   1.693  0.09160 .  \n",
       "age34_36         0.10246    0.06289   1.629  0.10433    \n",
       "duration8        0.08971    0.06175   1.453  0.14734    \n",
       "---\n",
       "Signif. codes:  0 '***' 0.001 '**' 0.01 '*' 0.05 '.' 0.1 ' ' 1\n",
       "\n",
       "Residual standard error: 0.3145 on 297 degrees of freedom\n",
       "Multiple R-squared:  0.09702,\tAdjusted R-squared:  0.0727 \n",
       "F-statistic: 3.989 on 8 and 297 DF,  p-value: 0.0001646\n"
      ]
     },
     "metadata": {},
     "output_type": "display_data"
    }
   ],
   "source": [
    "model34_lin <- lm(formula = Good ~ history3 + age24 + duration16_24 + amount3000_4400 + \n",
    "    amount800_1600 + amount2200_3000 + age34_36 + duration8, data = dum_train34)\n",
    "summary(model34_lin)"
   ]
  },
  {
   "cell_type": "markdown",
   "metadata": {},
   "source": [
    "### Checking 34 logistic regression"
   ]
  },
  {
   "cell_type": "code",
   "execution_count": 71,
   "metadata": {},
   "outputs": [
    {
     "name": "stdout",
     "output_type": "stream",
     "text": [
      "Start:  AIC=227.67\n",
      "Good ~ 1\n",
      "\n",
      "                  Df Deviance    AIC\n",
      "+ history3         1   218.79 222.79\n",
      "+ duration16_24    1   221.56 225.56\n",
      "+ age24            1   221.60 225.60\n",
      "+ amount3000_4400  1   222.28 226.28\n",
      "+ duration8        1   222.51 226.51\n",
      "+ age28_31         1   222.65 226.65\n",
      "+ age34_36         1   222.93 226.93\n",
      "+ amount1600_2200  1   223.41 227.41\n",
      "+ amount800_1600   1   223.44 227.44\n",
      "+ duration12_16    1   223.46 227.46\n",
      "+ duration26_38    1   223.50 227.50\n",
      "<none>                 225.67 227.67\n",
      "+ age31_34         1   224.77 228.77\n",
      "+ amount800        1   224.77 228.77\n",
      "+ amount4400_8000  1   225.11 229.11\n",
      "+ age24_28         1   225.47 229.47\n",
      "+ amount2200_3000  1   225.59 229.59\n",
      "+ history0_1_2     1   225.63 229.63\n",
      "+ duration24_26    1   225.64 229.64\n",
      "+ duration8_12     1   225.65 229.65\n",
      "\n",
      "Step:  AIC=222.79\n",
      "Good ~ history3\n",
      "\n",
      "                  Df Deviance    AIC\n",
      "+ age24            1   214.41 220.41\n",
      "+ duration16_24    1   214.99 220.99\n",
      "+ age34_36         1   215.21 221.21\n",
      "+ duration8        1   215.60 221.60\n",
      "+ amount3000_4400  1   215.81 221.81\n",
      "+ age28_31         1   215.96 221.96\n",
      "+ history0_1_2     1   216.32 222.32\n",
      "+ amount1600_2200  1   216.60 222.60\n",
      "<none>                 218.79 222.79\n",
      "+ amount800_1600   1   217.27 223.27\n",
      "+ duration12_16    1   217.33 223.33\n",
      "+ amount800        1   217.52 223.52\n",
      "+ duration26_38    1   217.98 223.98\n",
      "+ age31_34         1   218.05 224.05\n",
      "+ amount4400_8000  1   218.11 224.11\n",
      "+ age24_28         1   218.41 224.41\n",
      "+ duration8_12     1   218.53 224.53\n",
      "+ amount2200_3000  1   218.56 224.56\n",
      "+ duration24_26    1   218.77 224.77\n",
      "- history3         1   225.67 227.67\n",
      "\n",
      "Step:  AIC=220.41\n",
      "Good ~ history3 + age24\n",
      "\n",
      "                  Df Deviance    AIC\n",
      "+ age28_31         1   210.61 218.61\n",
      "+ duration16_24    1   210.86 218.86\n",
      "+ amount3000_4400  1   210.92 218.92\n",
      "+ duration8        1   211.29 219.29\n",
      "+ age34_36         1   211.46 219.46\n",
      "<none>                 214.41 220.41\n",
      "+ amount1600_2200  1   212.44 220.44\n",
      "+ history0_1_2     1   212.55 220.55\n",
      "+ duration12_16    1   212.91 220.91\n",
      "+ amount800_1600   1   213.32 221.32\n",
      "+ amount4400_8000  1   213.34 221.34\n",
      "+ duration26_38    1   213.54 221.54\n",
      "+ amount800        1   213.66 221.66\n",
      "+ age31_34         1   214.02 222.02\n",
      "+ duration8_12     1   214.22 222.22\n",
      "+ amount2200_3000  1   214.23 222.23\n",
      "+ age24_28         1   214.30 222.30\n",
      "+ duration24_26    1   214.41 222.41\n",
      "- age24            1   218.79 222.79\n",
      "- history3         1   221.60 225.60\n",
      "\n",
      "Step:  AIC=218.61\n",
      "Good ~ history3 + age24 + age28_31\n",
      "\n",
      "                  Df Deviance    AIC\n",
      "+ amount3000_4400  1   207.57 217.57\n",
      "+ duration8        1   207.77 217.77\n",
      "+ duration16_24    1   208.05 218.05\n",
      "+ age34_36         1   208.38 218.38\n",
      "<none>                 210.61 218.61\n",
      "+ history0_1_2     1   208.94 218.94\n",
      "+ duration12_16    1   209.13 219.13\n",
      "+ amount4400_8000  1   209.19 219.19\n",
      "+ amount1600_2200  1   209.28 219.28\n",
      "+ duration26_38    1   209.63 219.63\n",
      "+ amount800_1600   1   209.67 219.67\n",
      "+ amount800        1   209.99 219.99\n",
      "+ amount2200_3000  1   210.40 220.40\n",
      "+ duration8_12     1   210.41 220.41\n",
      "- age28_31         1   214.41 220.41\n",
      "+ age31_34         1   210.49 220.49\n",
      "+ duration24_26    1   210.58 220.58\n",
      "+ age24_28         1   210.60 220.60\n",
      "- age24            1   215.96 221.96\n",
      "- history3         1   217.60 223.60\n",
      "\n",
      "Step:  AIC=217.57\n",
      "Good ~ history3 + age24 + age28_31 + amount3000_4400\n",
      "\n",
      "                  Df Deviance    AIC\n",
      "+ duration8        1   204.37 216.37\n",
      "+ age34_36         1   205.22 217.22\n",
      "+ duration16_24    1   205.26 217.26\n",
      "<none>                 207.57 217.57\n",
      "+ amount800_1600   1   205.62 217.62\n",
      "+ history0_1_2     1   206.04 218.04\n",
      "+ duration12_16    1   206.05 218.05\n",
      "+ duration26_38    1   206.44 218.44\n",
      "- amount3000_4400  1   210.61 218.61\n",
      "+ amount4400_8000  1   206.68 218.68\n",
      "+ amount1600_2200  1   206.71 218.71\n",
      "- age28_31         1   210.92 218.92\n",
      "+ amount2200_3000  1   207.06 219.06\n",
      "+ amount800        1   207.25 219.25\n",
      "+ duration24_26    1   207.38 219.38\n",
      "+ duration8_12     1   207.44 219.44\n",
      "+ age31_34         1   207.50 219.50\n",
      "+ age24_28         1   207.56 219.56\n",
      "- age24            1   213.39 221.39\n",
      "- history3         1   214.04 222.04\n",
      "\n",
      "Step:  AIC=216.37\n",
      "Good ~ history3 + age24 + age28_31 + amount3000_4400 + duration8\n",
      "\n",
      "                  Df Deviance    AIC\n",
      "+ duration12_16    1   202.03 216.03\n",
      "+ age34_36         1   202.15 216.15\n",
      "<none>                 204.37 216.37\n",
      "+ amount800_1600   1   202.65 216.65\n",
      "+ duration16_24    1   202.71 216.71\n",
      "+ history0_1_2     1   202.94 216.94\n",
      "+ amount1600_2200  1   203.17 217.17\n",
      "+ amount800        1   203.39 217.39\n",
      "- age28_31         1   207.42 217.42\n",
      "+ amount2200_3000  1   203.45 217.45\n",
      "- duration8        1   207.57 217.57\n",
      "+ duration26_38    1   203.68 217.68\n",
      "+ amount4400_8000  1   203.75 217.75\n",
      "- amount3000_4400  1   207.77 217.77\n",
      "+ age31_34         1   204.24 218.24\n",
      "+ duration24_26    1   204.33 218.33\n",
      "+ duration8_12     1   204.34 218.34\n",
      "+ age24_28         1   204.35 218.35\n",
      "- age24            1   210.19 220.19\n",
      "- history3         1   210.76 220.76\n",
      "\n",
      "Step:  AIC=216.03\n",
      "Good ~ history3 + age24 + age28_31 + amount3000_4400 + duration8 + \n",
      "    duration12_16\n",
      "\n",
      "                  Df Deviance    AIC\n",
      "+ age34_36         1   199.83 215.83\n",
      "<none>                 202.03 216.03\n",
      "- duration12_16    1   204.37 216.37\n",
      "+ amount800        1   200.46 216.46\n",
      "+ history0_1_2     1   200.63 216.63\n",
      "+ amount1600_2200  1   200.93 216.93\n",
      "- age28_31         1   204.93 216.93\n",
      "+ amount800_1600   1   200.99 216.99\n",
      "+ amount2200_3000  1   201.09 217.09\n",
      "+ duration16_24    1   201.24 217.24\n",
      "- amount3000_4400  1   205.56 217.56\n",
      "+ age31_34         1   201.73 217.73\n",
      "+ amount4400_8000  1   201.79 217.79\n",
      "+ duration26_38    1   201.81 217.81\n",
      "+ duration24_26    1   201.96 217.96\n",
      "+ duration8_12     1   202.00 218.00\n",
      "+ age24_28         1   202.01 218.01\n",
      "- duration8        1   206.05 218.05\n",
      "- history3         1   207.57 219.57\n",
      "- age24            1   207.81 219.81\n",
      "\n",
      "Step:  AIC=215.83\n",
      "Good ~ history3 + age24 + age28_31 + amount3000_4400 + duration8 + \n",
      "    duration12_16 + age34_36\n",
      "\n",
      "                  Df Deviance    AIC\n",
      "<none>                 199.83 215.83\n",
      "- age34_36         1   202.03 216.03\n",
      "- age28_31         1   202.09 216.09\n",
      "- duration12_16    1   202.15 216.15\n",
      "+ history0_1_2     1   198.44 216.44\n",
      "+ amount800        1   198.46 216.46\n",
      "+ amount1600_2200  1   198.72 216.72\n",
      "+ amount800_1600   1   198.75 216.75\n",
      "+ duration16_24    1   198.87 216.87\n",
      "+ amount2200_3000  1   198.95 216.95\n",
      "+ age31_34         1   199.26 217.26\n",
      "- amount3000_4400  1   203.43 217.43\n",
      "+ amount4400_8000  1   199.50 217.50\n",
      "+ duration26_38    1   199.59 217.59\n",
      "+ duration24_26    1   199.69 217.69\n",
      "- duration8        1   203.71 217.71\n",
      "+ duration8_12     1   199.79 217.79\n",
      "+ age24_28         1   199.81 217.81\n",
      "- age24            1   204.85 218.85\n",
      "- history3         1   205.81 219.81\n"
     ]
    },
    {
     "data": {
      "text/plain": [
       "\n",
       "Call:  glm(formula = Good ~ history3 + age24 + age28_31 + amount3000_4400 + \n",
       "    duration8 + duration12_16 + age34_36, family = \"binomial\", \n",
       "    data = dum_train34)\n",
       "\n",
       "Coefficients:\n",
       "    (Intercept)         history3            age24         age28_31  \n",
       "         1.9655          -1.2121          -1.3427          -0.7874  \n",
       "amount3000_4400        duration8    duration12_16         age34_36  \n",
       "         1.2473           1.6467           0.7004           1.3172  \n",
       "\n",
       "Degrees of Freedom: 305 Total (i.e. Null);  298 Residual\n",
       "Null Deviance:\t    225.7 \n",
       "Residual Deviance: 199.8 \tAIC: 215.8"
      ]
     },
     "metadata": {},
     "output_type": "display_data"
    }
   ],
   "source": [
    "model34_log <- glm(Good~1, data=dum_train34, family='binomial')\n",
    "\n",
    "step(model34_log, scope=list(lower=Good~1, \n",
    "                             upper=Good~age24+age24_28+age28_31+age31_34+age34_36+history0_1_2+history3+duration8+duration8_12+\n",
    "                             duration12_16+duration16_24+duration24_26+duration26_38+amount800+amount800_1600+\n",
    "                             amount1600_2200+amount2200_3000+amount3000_4400+amount4400_8000,trace=1))"
   ]
  },
  {
   "cell_type": "code",
   "execution_count": 72,
   "metadata": {},
   "outputs": [
    {
     "data": {
      "text/plain": [
       "\n",
       "Call:\n",
       "glm(formula = Good ~ history3 + age24 + age28_31 + amount3000_4400 + \n",
       "    duration8 + duration12_16 + age34_36, family = \"binomial\", \n",
       "    data = dum_train34)\n",
       "\n",
       "Deviance Residuals: \n",
       "    Min       1Q   Median       3Q      Max  \n",
       "-2.6977   0.2680   0.3667   0.5121   1.4357  \n",
       "\n",
       "Coefficients:\n",
       "                Estimate Std. Error z value Pr(>|z|)    \n",
       "(Intercept)       1.9655     0.2704   7.268 3.65e-13 ***\n",
       "history3         -1.2121     0.4722  -2.567   0.0103 *  \n",
       "age24            -1.3427     0.5630  -2.385   0.0171 *  \n",
       "age28_31         -0.7874     0.5018  -1.569   0.1167    \n",
       "amount3000_4400   1.2473     0.7636   1.633   0.1024    \n",
       "duration8         1.6467     1.0489   1.570   0.1164    \n",
       "duration12_16     0.7004     0.4836   1.448   0.1475    \n",
       "age34_36          1.3172     1.0583   1.245   0.2132    \n",
       "---\n",
       "Signif. codes:  0 '***' 0.001 '**' 0.01 '*' 0.05 '.' 0.1 ' ' 1\n",
       "\n",
       "(Dispersion parameter for binomial family taken to be 1)\n",
       "\n",
       "    Null deviance: 225.67  on 305  degrees of freedom\n",
       "Residual deviance: 199.83  on 298  degrees of freedom\n",
       "AIC: 215.83\n",
       "\n",
       "Number of Fisher Scoring iterations: 6\n"
      ]
     },
     "metadata": {},
     "output_type": "display_data"
    }
   ],
   "source": [
    "model34_log <- glm(formula = Good ~ history3 + age24 + age28_31 + amount3000_4400 + \n",
    "    duration8 + duration12_16 + age34_36, family = \"binomial\", \n",
    "    data = dum_train34)\n",
    "summary(model34_log)"
   ]
  },
  {
   "cell_type": "markdown",
   "metadata": {},
   "source": [
    "I'm happy with the coefficients I receive"
   ]
  },
  {
   "cell_type": "markdown",
   "metadata": {},
   "source": [
    "# Evaluation v2\n",
    "\n",
    "### checking 12 linear regression\n",
    "\n",
    "##### ROC"
   ]
  },
  {
   "cell_type": "code",
   "execution_count": 73,
   "metadata": {},
   "outputs": [
    {
     "data": {
      "image/png": "[encoded data removed]",
      "text/plain": [
       "plot without title"
      ]
     },
     "metadata": {},
     "output_type": "display_data"
    }
   ],
   "source": [
    "model12_lin_pred_prob <- predict(model12_lin, dum_test12, type=c(\"response\"))\n",
    "\n",
    "dum_test12$prob <- model12_lin_pred_prob\n",
    "\n",
    "ROC_curve <- roc(Good ~ prob, data=dum_test12, \n",
    "                 levels=c(0,1), direction='<')\n",
    "\n",
    "options(repr.plot.width=4, repr.plot.height=4)\n",
    "\n",
    "plot(ROC_curve)"
   ]
  },
  {
   "cell_type": "markdown",
   "metadata": {},
   "source": [
    "##### AUC"
   ]
  },
  {
   "cell_type": "code",
   "execution_count": 74,
   "metadata": {},
   "outputs": [
    {
     "data": {
      "text/html": [
       "0.675939756036843"
      ],
      "text/latex": [
       "0.675939756036843"
      ],
      "text/markdown": [
       "0.675939756036843"
      ],
      "text/plain": [
       "Area under the curve: 0.6759"
      ]
     },
     "metadata": {},
     "output_type": "display_data"
    },
    {
     "data": {
      "text/html": [
       "<style>\n",
       ".dl-inline {width: auto; margin:0; padding: 0}\n",
       ".dl-inline>dt, .dl-inline>dd {float: none; width: auto; display: inline-block}\n",
       ".dl-inline>dt::after {content: \":\\0020\"; padding-right: .5ex}\n",
       ".dl-inline>dt:not(:first-of-type) {padding-left: .5ex}\n",
       "</style><dl class=dl-inline><dt>2.5%</dt><dd>0.597639718695544</dd><dt>50%</dt><dd>0.676157580283794</dd><dt>97.5%</dt><dd>0.754253796365447</dd></dl>\n"
      ],
      "text/latex": [
       "\\begin{description*}\n",
       "\\item[2.5\\textbackslash{}\\%] 0.597639718695544\n",
       "\\item[50\\textbackslash{}\\%] 0.676157580283794\n",
       "\\item[97.5\\textbackslash{}\\%] 0.754253796365447\n",
       "\\end{description*}\n"
      ],
      "text/markdown": [
       "2.5%\n",
       ":   0.59763971869554450%\n",
       ":   0.67615758028379497.5%\n",
       ":   0.754253796365447\n",
       "\n"
      ],
      "text/plain": [
       "95% CI: 0.5976-0.7543 (2000 stratified bootstrap replicates)"
      ]
     },
     "metadata": {},
     "output_type": "display_data"
    }
   ],
   "source": [
    "lin12_auc <- auc(ROC_curve)\n",
    "lin12_auc\n",
    "# confidence limits for the auc:\n",
    "ci(auc(ROC_curve), method = \"bootstrap\")"
   ]
  },
  {
   "cell_type": "markdown",
   "metadata": {},
   "source": [
    "##### Gini"
   ]
  },
  {
   "cell_type": "code",
   "execution_count": 75,
   "metadata": {},
   "outputs": [
    {
     "data": {
      "text/html": [
       "0.351879512073687"
      ],
      "text/latex": [
       "0.351879512073687"
      ],
      "text/markdown": [
       "0.351879512073687"
      ],
      "text/plain": [
       "[1] 0.3518795"
      ]
     },
     "metadata": {},
     "output_type": "display_data"
    }
   ],
   "source": [
    "# gini coefficient:\n",
    "lin12_gini <- 2 * (auc(ROC_curve) - 0.5)\n",
    "lin12_gini"
   ]
  },
  {
   "cell_type": "markdown",
   "metadata": {},
   "source": [
    "##### KS statistic"
   ]
  },
  {
   "cell_type": "code",
   "execution_count": 76,
   "metadata": {},
   "outputs": [
    {
     "data": {
      "text/html": [
       "0.27831715210356"
      ],
      "text/latex": [
       "0.27831715210356"
      ],
      "text/markdown": [
       "0.27831715210356"
      ],
      "text/plain": [
       "[1] 0.2783172"
      ]
     },
     "metadata": {},
     "output_type": "display_data"
    }
   ],
   "source": [
    "model12_lin_pred <- predict(model12_lin, dum_test12, type=c(\"response\"))\n",
    "\n",
    "model12_lin_prob <- prediction(model12_lin_pred, dum_test12$Good)\n",
    "\n",
    "perf <- performance(model12_lin_prob,\"tpr\",\"fpr\")\n",
    "\n",
    "lin12_ks <- max(attr(perf,'y.values')[[1]]-attr(perf,'x.values')[[1]])\n",
    "lin12_ks"
   ]
  },
  {
   "cell_type": "markdown",
   "metadata": {},
   "source": [
    "### Checking 12 logistic regression\n",
    "\n",
    "##### ROC"
   ]
  },
  {
   "cell_type": "code",
   "execution_count": 77,
   "metadata": {},
   "outputs": [
    {
     "data": {
      "image/png": "[encoded data removed]",
      "text/plain": [
       "plot without title"
      ]
     },
     "metadata": {},
     "output_type": "display_data"
    }
   ],
   "source": [
    "model12_log_pred_prob <- predict(model12_log, dum_test12, type=c(\"response\"))\n",
    "\n",
    "dum_test12$prob <- model12_log_pred_prob\n",
    "\n",
    "ROC_curve <- roc(Good ~ prob, data=dum_test12, \n",
    "                 levels=c(0,1), direction='<')\n",
    "\n",
    "options(repr.plot.width=4, repr.plot.height=4)\n",
    "\n",
    "plot(ROC_curve)"
   ]
  },
  {
   "cell_type": "markdown",
   "metadata": {},
   "source": [
    "##### AUC"
   ]
  },
  {
   "cell_type": "code",
   "execution_count": 78,
   "metadata": {},
   "outputs": [
    {
     "data": {
      "text/html": [
       "0.682536718944486"
      ],
      "text/latex": [
       "0.682536718944486"
      ],
      "text/markdown": [
       "0.682536718944486"
      ],
      "text/plain": [
       "Area under the curve: 0.6825"
      ]
     },
     "metadata": {},
     "output_type": "display_data"
    },
    {
     "data": {
      "text/html": [
       "<style>\n",
       ".dl-inline {width: auto; margin:0; padding: 0}\n",
       ".dl-inline>dt, .dl-inline>dd {float: none; width: auto; display: inline-block}\n",
       ".dl-inline>dt::after {content: \":\\0020\"; padding-right: .5ex}\n",
       ".dl-inline>dt:not(:first-of-type) {padding-left: .5ex}\n",
       "</style><dl class=dl-inline><dt>2.5%</dt><dd>0.600945979586756</dd><dt>50%</dt><dd>0.683376898182723</dd><dt>97.5%</dt><dd>0.7567214339059</dd></dl>\n"
      ],
      "text/latex": [
       "\\begin{description*}\n",
       "\\item[2.5\\textbackslash{}\\%] 0.600945979586756\n",
       "\\item[50\\textbackslash{}\\%] 0.683376898182723\n",
       "\\item[97.5\\textbackslash{}\\%] 0.7567214339059\n",
       "\\end{description*}\n"
      ],
      "text/markdown": [
       "2.5%\n",
       ":   0.60094597958675650%\n",
       ":   0.68337689818272397.5%\n",
       ":   0.7567214339059\n",
       "\n"
      ],
      "text/plain": [
       "95% CI: 0.6009-0.7567 (2000 stratified bootstrap replicates)"
      ]
     },
     "metadata": {},
     "output_type": "display_data"
    }
   ],
   "source": [
    "log12_auc <- auc(ROC_curve)\n",
    "log12_auc\n",
    "# confidence limits for the auc:\n",
    "ci(auc(ROC_curve), method = \"bootstrap\")"
   ]
  },
  {
   "cell_type": "markdown",
   "metadata": {},
   "source": [
    "##### Gini"
   ]
  },
  {
   "cell_type": "code",
   "execution_count": 79,
   "metadata": {},
   "outputs": [
    {
     "data": {
      "text/html": [
       "0.365073437888972"
      ],
      "text/latex": [
       "0.365073437888972"
      ],
      "text/markdown": [
       "0.365073437888972"
      ],
      "text/plain": [
       "[1] 0.3650734"
      ]
     },
     "metadata": {},
     "output_type": "display_data"
    }
   ],
   "source": [
    "# gini coefficient:\n",
    "log12_gini <- 2 * (auc(ROC_curve) - 0.5)\n",
    "log12_gini"
   ]
  },
  {
   "cell_type": "markdown",
   "metadata": {},
   "source": [
    "##### KS statistic"
   ]
  },
  {
   "cell_type": "code",
   "execution_count": 80,
   "metadata": {},
   "outputs": [
    {
     "data": {
      "text/html": [
       "0.27831715210356"
      ],
      "text/latex": [
       "0.27831715210356"
      ],
      "text/markdown": [
       "0.27831715210356"
      ],
      "text/plain": [
       "[1] 0.2783172"
      ]
     },
     "metadata": {},
     "output_type": "display_data"
    }
   ],
   "source": [
    "model12_log_pred <- predict(model12_log, dum_test12, type=c(\"response\"))\n",
    "\n",
    "model12_log_prob <- prediction(model12_log_pred, dum_test12$Good)\n",
    "\n",
    "perf <- performance(model12_log_prob,\"tpr\",\"fpr\")\n",
    "\n",
    "log12_ks <- max(attr(perf,'y.values')[[1]]-attr(perf,'x.values')[[1]])\n",
    "log12_ks"
   ]
  },
  {
   "cell_type": "markdown",
   "metadata": {},
   "source": [
    "### Checking 34 linear regression\n",
    "\n",
    "##### ROC"
   ]
  },
  {
   "cell_type": "code",
   "execution_count": 81,
   "metadata": {},
   "outputs": [
    {
     "data": {
      "image/png": "[encoded data removed]",
      "text/plain": [
       "plot without title"
      ]
     },
     "metadata": {},
     "output_type": "display_data"
    }
   ],
   "source": [
    "model34_lin_pred_prob <- predict(model34_lin, dum_test34, type=c(\"response\"))\n",
    "\n",
    "dum_test34$prob <- model34_lin_pred_prob\n",
    "\n",
    "ROC_curve <- roc(Good ~ prob, data=dum_test34, \n",
    "                 levels=c(0,1), direction='<')\n",
    "\n",
    "options(repr.plot.width=4, repr.plot.height=4)\n",
    "\n",
    "plot(ROC_curve)"
   ]
  },
  {
   "cell_type": "markdown",
   "metadata": {},
   "source": [
    "##### AUC"
   ]
  },
  {
   "cell_type": "code",
   "execution_count": 82,
   "metadata": {},
   "outputs": [
    {
     "data": {
      "text/html": [
       "0.572690217391304"
      ],
      "text/latex": [
       "0.572690217391304"
      ],
      "text/markdown": [
       "0.572690217391304"
      ],
      "text/plain": [
       "Area under the curve: 0.5727"
      ]
     },
     "metadata": {},
     "output_type": "display_data"
    },
    {
     "data": {
      "text/html": [
       "<style>\n",
       ".dl-inline {width: auto; margin:0; padding: 0}\n",
       ".dl-inline>dt, .dl-inline>dd {float: none; width: auto; display: inline-block}\n",
       ".dl-inline>dt::after {content: \":\\0020\"; padding-right: .5ex}\n",
       ".dl-inline>dt:not(:first-of-type) {padding-left: .5ex}\n",
       "</style><dl class=dl-inline><dt>2.5%</dt><dd>0.45122707201087</dd><dt>50%</dt><dd>0.574388586956522</dd><dt>97.5%</dt><dd>0.698539402173913</dd></dl>\n"
      ],
      "text/latex": [
       "\\begin{description*}\n",
       "\\item[2.5\\textbackslash{}\\%] 0.45122707201087\n",
       "\\item[50\\textbackslash{}\\%] 0.574388586956522\n",
       "\\item[97.5\\textbackslash{}\\%] 0.698539402173913\n",
       "\\end{description*}\n"
      ],
      "text/markdown": [
       "2.5%\n",
       ":   0.4512270720108750%\n",
       ":   0.57438858695652297.5%\n",
       ":   0.698539402173913\n",
       "\n"
      ],
      "text/plain": [
       "95% CI: 0.4512-0.6985 (2000 stratified bootstrap replicates)"
      ]
     },
     "metadata": {},
     "output_type": "display_data"
    }
   ],
   "source": [
    "lin34_auc <- auc(ROC_curve)\n",
    "lin34_auc\n",
    "# confidence limits for the auc:\n",
    "ci(auc(ROC_curve), method = \"bootstrap\")"
   ]
  },
  {
   "cell_type": "markdown",
   "metadata": {},
   "source": [
    "##### Gini"
   ]
  },
  {
   "cell_type": "code",
   "execution_count": 83,
   "metadata": {},
   "outputs": [
    {
     "data": {
      "text/html": [
       "0.145380434782609"
      ],
      "text/latex": [
       "0.145380434782609"
      ],
      "text/markdown": [
       "0.145380434782609"
      ],
      "text/plain": [
       "[1] 0.1453804"
      ]
     },
     "metadata": {},
     "output_type": "display_data"
    }
   ],
   "source": [
    "# gini coefficient:\n",
    "lin34_gini <- 2 * (auc(ROC_curve) - 0.5)\n",
    "lin34_gini"
   ]
  },
  {
   "cell_type": "markdown",
   "metadata": {},
   "source": [
    "##### KS statistic"
   ]
  },
  {
   "cell_type": "code",
   "execution_count": 84,
   "metadata": {},
   "outputs": [
    {
     "data": {
      "text/html": [
       "0.124320652173913"
      ],
      "text/latex": [
       "0.124320652173913"
      ],
      "text/markdown": [
       "0.124320652173913"
      ],
      "text/plain": [
       "[1] 0.1243207"
      ]
     },
     "metadata": {},
     "output_type": "display_data"
    }
   ],
   "source": [
    "model34_lin_pred <- predict(model34_lin, dum_test34, type=c(\"response\"))\n",
    "\n",
    "model34_lin_prob <- prediction(model34_lin_pred, dum_test34$Good)\n",
    "\n",
    "perf <- performance(model34_lin_prob,\"tpr\",\"fpr\")\n",
    "\n",
    "lin34_ks <- max(attr(perf,'y.values')[[1]]-attr(perf,'x.values')[[1]])\n",
    "lin34_ks"
   ]
  },
  {
   "cell_type": "markdown",
   "metadata": {},
   "source": [
    "### Checking 34 logistic regression\n",
    "\n",
    "##### ROC"
   ]
  },
  {
   "cell_type": "code",
   "execution_count": 85,
   "metadata": {},
   "outputs": [
    {
     "data": {
      "image/png": "[encoded data removed]",
      "text/plain": [
       "plot without title"
      ]
     },
     "metadata": {},
     "output_type": "display_data"
    }
   ],
   "source": [
    "model34_log_pred_prob <- predict(model34_log, dum_test34, type=c(\"response\"))\n",
    "\n",
    "dum_test34$prob <- model34_log_pred_prob\n",
    "\n",
    "ROC_curve <- roc(Good ~ prob, data=dum_test34, \n",
    "                 levels=c(0,1), direction='<')\n",
    "\n",
    "options(repr.plot.width=4, repr.plot.height=4)\n",
    "\n",
    "plot(ROC_curve)"
   ]
  },
  {
   "cell_type": "markdown",
   "metadata": {},
   "source": [
    "##### AUC"
   ]
  },
  {
   "cell_type": "code",
   "execution_count": 86,
   "metadata": {},
   "outputs": [
    {
     "data": {
      "text/html": [
       "0.568783967391304"
      ],
      "text/latex": [
       "0.568783967391304"
      ],
      "text/markdown": [
       "0.568783967391304"
      ],
      "text/plain": [
       "Area under the curve: 0.5688"
      ]
     },
     "metadata": {},
     "output_type": "display_data"
    },
    {
     "data": {
      "text/html": [
       "<style>\n",
       ".dl-inline {width: auto; margin:0; padding: 0}\n",
       ".dl-inline>dt, .dl-inline>dd {float: none; width: auto; display: inline-block}\n",
       ".dl-inline>dt::after {content: \":\\0020\"; padding-right: .5ex}\n",
       ".dl-inline>dt:not(:first-of-type) {padding-left: .5ex}\n",
       "</style><dl class=dl-inline><dt>2.5%</dt><dd>0.456517493206522</dd><dt>50%</dt><dd>0.566915760869565</dd><dt>97.5%</dt><dd>0.674770720108696</dd></dl>\n"
      ],
      "text/latex": [
       "\\begin{description*}\n",
       "\\item[2.5\\textbackslash{}\\%] 0.456517493206522\n",
       "\\item[50\\textbackslash{}\\%] 0.566915760869565\n",
       "\\item[97.5\\textbackslash{}\\%] 0.674770720108696\n",
       "\\end{description*}\n"
      ],
      "text/markdown": [
       "2.5%\n",
       ":   0.45651749320652250%\n",
       ":   0.56691576086956597.5%\n",
       ":   0.674770720108696\n",
       "\n"
      ],
      "text/plain": [
       "95% CI: 0.4565-0.6748 (2000 stratified bootstrap replicates)"
      ]
     },
     "metadata": {},
     "output_type": "display_data"
    }
   ],
   "source": [
    "log34_auc <- auc(ROC_curve)\n",
    "log34_auc\n",
    "# confidence limits for the auc:\n",
    "ci(auc(ROC_curve), method = \"bootstrap\")"
   ]
  },
  {
   "cell_type": "markdown",
   "metadata": {},
   "source": [
    "##### Gini"
   ]
  },
  {
   "cell_type": "code",
   "execution_count": 87,
   "metadata": {},
   "outputs": [
    {
     "data": {
      "text/html": [
       "0.137567934782609"
      ],
      "text/latex": [
       "0.137567934782609"
      ],
      "text/markdown": [
       "0.137567934782609"
      ],
      "text/plain": [
       "[1] 0.1375679"
      ]
     },
     "metadata": {},
     "output_type": "display_data"
    }
   ],
   "source": [
    "# gini coefficient:\n",
    "log34_gini <- 2 * (auc(ROC_curve) - 0.5)\n",
    "log34_gini"
   ]
  },
  {
   "cell_type": "markdown",
   "metadata": {},
   "source": [
    "##### KS statistic"
   ]
  },
  {
   "cell_type": "code",
   "execution_count": 88,
   "metadata": {},
   "outputs": [
    {
     "data": {
      "text/html": [
       "0.159986413043478"
      ],
      "text/latex": [
       "0.159986413043478"
      ],
      "text/markdown": [
       "0.159986413043478"
      ],
      "text/plain": [
       "[1] 0.1599864"
      ]
     },
     "metadata": {},
     "output_type": "display_data"
    }
   ],
   "source": [
    "model34_log_pred <- predict(model34_log, dum_test34, type=c(\"response\"))\n",
    "\n",
    "model34_log_prob <- prediction(model34_log_pred, dum_test34$Good)\n",
    "\n",
    "perf <- performance(model34_log_prob,\"tpr\",\"fpr\")\n",
    "\n",
    "log34_ks <- max(attr(perf,'y.values')[[1]]-attr(perf,'x.values')[[1]])\n",
    "log34_ks\n"
   ]
  },
  {
   "cell_type": "markdown",
   "metadata": {},
   "source": [
    "# Result v2"
   ]
  },
  {
   "cell_type": "code",
   "execution_count": 89,
   "metadata": {},
   "outputs": [
    {
     "data": {
      "text/html": [
       "<table class=\"dataframe\">\n",
       "<caption>A data.frame: 4 × 4</caption>\n",
       "<thead>\n",
       "\t<tr><th scope=col>Models</th><th scope=col>AUC</th><th scope=col>Gini</th><th scope=col>KS</th></tr>\n",
       "\t<tr><th scope=col>&lt;fct&gt;</th><th scope=col>&lt;dbl&gt;</th><th scope=col>&lt;dbl&gt;</th><th scope=col>&lt;dbl&gt;</th></tr>\n",
       "</thead>\n",
       "<tbody>\n",
       "\t<tr><td>Linear Regression- Checking = 1,2  </td><td>0.6759398</td><td>0.3518795</td><td>0.2783172</td></tr>\n",
       "\t<tr><td>Logistic Regression- Checking = 1,2</td><td>0.6825367</td><td>0.3650734</td><td>0.2783172</td></tr>\n",
       "\t<tr><td>Linear Regression- Checking = 3,4  </td><td>0.5726902</td><td>0.1453804</td><td>0.1243207</td></tr>\n",
       "\t<tr><td>Logistic Regression- Checking = 3,4</td><td>0.5687840</td><td>0.1375679</td><td>0.1599864</td></tr>\n",
       "</tbody>\n",
       "</table>\n"
      ],
      "text/latex": [
       "A data.frame: 4 × 4\n",
       "\\begin{tabular}{llll}\n",
       " Models & AUC & Gini & KS\\\\\n",
       " <fct> & <dbl> & <dbl> & <dbl>\\\\\n",
       "\\hline\n",
       "\t Linear Regression- Checking = 1,2   & 0.6759398 & 0.3518795 & 0.2783172\\\\\n",
       "\t Logistic Regression- Checking = 1,2 & 0.6825367 & 0.3650734 & 0.2783172\\\\\n",
       "\t Linear Regression- Checking = 3,4   & 0.5726902 & 0.1453804 & 0.1243207\\\\\n",
       "\t Logistic Regression- Checking = 3,4 & 0.5687840 & 0.1375679 & 0.1599864\\\\\n",
       "\\end{tabular}\n"
      ],
      "text/markdown": [
       "\n",
       "A data.frame: 4 × 4\n",
       "\n",
       "| Models &lt;fct&gt; | AUC &lt;dbl&gt; | Gini &lt;dbl&gt; | KS &lt;dbl&gt; |\n",
       "|---|---|---|---|\n",
       "| Linear Regression- Checking = 1,2   | 0.6759398 | 0.3518795 | 0.2783172 |\n",
       "| Logistic Regression- Checking = 1,2 | 0.6825367 | 0.3650734 | 0.2783172 |\n",
       "| Linear Regression- Checking = 3,4   | 0.5726902 | 0.1453804 | 0.1243207 |\n",
       "| Logistic Regression- Checking = 3,4 | 0.5687840 | 0.1375679 | 0.1599864 |\n",
       "\n"
      ],
      "text/plain": [
       "  Models                              AUC       Gini      KS       \n",
       "1 Linear Regression- Checking = 1,2   0.6759398 0.3518795 0.2783172\n",
       "2 Logistic Regression- Checking = 1,2 0.6825367 0.3650734 0.2783172\n",
       "3 Linear Regression- Checking = 3,4   0.5726902 0.1453804 0.1243207\n",
       "4 Logistic Regression- Checking = 3,4 0.5687840 0.1375679 0.1599864"
      ]
     },
     "metadata": {},
     "output_type": "display_data"
    }
   ],
   "source": [
    "Models <- c('Linear Regression- Checking = 1,2','Logistic Regression- Checking = 1,2','Linear Regression- Checking = 3,4','Logistic Regression- Checking = 3,4')\n",
    "AUC <- c(lin12_auc,log12_auc,lin34_auc,log34_auc)\n",
    "Gini <- c(lin12_gini,log12_gini,lin34_gini,log34_gini)\n",
    "KS <- c(lin12_ks,log12_ks,lin34_ks,log34_ks)\n",
    "data.frame(Models,AUC,Gini,KS)"
   ]
  },
  {
   "cell_type": "markdown",
   "metadata": {},
   "source": [
    "All models give suitable coefficient values, but in evaluating my model I discovered these results are not reliable. I obtained improved model performance after using the `step` function, to minimise AIC. However, all models still fall below the acceptable predictive power of >70% [Deloitte](https://www2.deloitte.com/content/dam/Deloitte/global/Documents/Financial-Services/gx-be-aers-fsi-credit-scoring.pdf) of the AUC value. A Geni coefficient of 1 is obtained from a 'perfect' model, where-as a Gini coefficient of 0 is obtained from a 'random' model. All Geni coefficients fall below what is considered good for a model. And finally all KS statistic values obtained from all models are below what we would want. Overall the models do not perform well on either subset. Before determining the 'cutoff' point where the credit would be awarded or not, I would try to improve the model performance.\n",
    "\n",
    "In future work I would like to tune the hyperparmeters of both models, to try and improve model performance. This would be done with a validation data set. We did not use a validation data set in this project because we did not have enough data, so I would have to obtain more data to create a validation data set to tune the hyperparameters. Perhaps an alternate model, such as SVM or random forest classifier, would perform better than linear regression or logistic regression. \n",
    "\n",
    "\n",
    "The models perform much better on subset 1 than on subset 2. A reason for this could be the heavy imbalance of the subset 2 data, with a good/ bad ratio of 397:60. In future I would use oversampling via SMOTE to fix this imbalance."
   ]
  }
 ],
 "metadata": {
  "kernelspec": {
   "display_name": "R",
   "language": "R",
   "name": "ir"
  },
  "language_info": {
   "codemirror_mode": "r",
   "file_extension": ".r",
   "mimetype": "text/x-r-source",
   "name": "R",
   "pygments_lexer": "r",
   "version": "3.6.1"
  }
 },
 "nbformat": 4,
 "nbformat_minor": 4
}
